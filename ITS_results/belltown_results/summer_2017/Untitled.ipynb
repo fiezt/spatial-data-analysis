{
 "cells": [
  {
   "cell_type": "code",
   "execution_count": 49,
   "metadata": {},
   "outputs": [],
   "source": [
    "import pandas as pd\n",
    "import numpy as np"
   ]
  },
  {
   "cell_type": "code",
   "execution_count": 56,
   "metadata": {},
   "outputs": [
    {
     "name": "stdout",
     "output_type": "stream",
     "text": [
      "87.3\n",
      "87.4\n",
      "88.3\n",
      "88.6\n",
      "87.8\n",
      "83.9\n"
     ]
    }
   ],
   "source": [
    "for idx, row in pd.read_csv('consistencies.csv').iterrows():\n",
    "    check = row.values[1:].tolist()\n",
    "    check = [round(item, 1) for item in check]\n",
    "    if idx != 6: print round(np.array(check[1:-1]).mean(), 1)\n",
    "    check = map(str, check)\n",
    "    \n",
    "#     if idx != 6:\n",
    "#         check = [item + ' &' for item in check[:-1]] + [check[-1]]\n",
    "#         check[-1] = '\\\\textbf{' + check[-1] + '}'\n",
    "#         for item in check:\n",
    "#             print item,\n",
    "#         print '\\\\\\\\'\n",
    "#     else:\n",
    "#         check = ['\\\\textbf{' + item + '}' + ' &' for item in check[:-1]] + [check[-1]]\n",
    "#         for item in check:\n",
    "#             print item,\n",
    "#         print '\\\\\\\\'"
   ]
  },
  {
   "cell_type": "code",
   "execution_count": 58,
   "metadata": {},
   "outputs": [
    {
     "data": {
      "text/plain": [
       "'/Users/tfiez/GitHub/spatial-data-analysis/belltown_results/summer_2017'"
      ]
     },
     "execution_count": 58,
     "metadata": {},
     "output_type": "execute_result"
    }
   ],
   "source": [
    "import os\n",
    "os.getcwd()"
   ]
  },
  {
   "cell_type": "code",
   "execution_count": null,
   "metadata": {},
   "outputs": [],
   "source": []
  }
 ],
 "metadata": {
  "kernelspec": {
   "display_name": "Python 2",
   "language": "python",
   "name": "python2"
  },
  "language_info": {
   "codemirror_mode": {
    "name": "ipython",
    "version": 2
   },
   "file_extension": ".py",
   "mimetype": "text/x-python",
   "name": "python",
   "nbconvert_exporter": "python",
   "pygments_lexer": "ipython2",
   "version": "2.7.14"
  }
 },
 "nbformat": 4,
 "nbformat_minor": 2
}
