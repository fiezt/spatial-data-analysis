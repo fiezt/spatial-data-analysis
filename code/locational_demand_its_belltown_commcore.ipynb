{
 "cells": [
  {
   "cell_type": "code",
   "execution_count": 88,
   "metadata": {},
   "outputs": [
    {
     "name": "stdout",
     "output_type": "stream",
     "text": [
      "The autoreload extension is already loaded. To reload it, use:\n",
      "  %reload_ext autoreload\n"
     ]
    }
   ],
   "source": [
    "import numpy as np\n",
    "import pandas as pd\n",
    "import pickle\n",
    "import os\n",
    "import time\n",
    "import process_data\n",
    "import gmm\n",
    "import figure_functions\n",
    "import kmeans_utils\n",
    "import write_results\n",
    "import load_sdot_utils\n",
    "%load_ext autoreload\n",
    "%autoreload 2"
   ]
  },
  {
   "cell_type": "code",
   "execution_count": 57,
   "metadata": {},
   "outputs": [],
   "source": [
    "curr_dir = os.getcwd()\n",
    "data_path = curr_dir + '/../data'\n",
    "animation_path = curr_dir + '/../animation'\n",
    "belltown_path = data_path + '/Belltown_Hour'\n",
    "commcore_path = data_path + '/CommercialCore_Hour'"
   ]
  },
  {
   "cell_type": "code",
   "execution_count": 18,
   "metadata": {},
   "outputs": [
    {
     "name": "stdout",
     "output_type": "stream",
     "text": [
      "(6, 2016) (8, 2016)\n",
      "(6, 2016) (8, 2016)\n",
      "(9, 2016) (11, 2016)\n",
      "(9, 2016) (11, 2016)\n",
      "(12, 2016) (2, 2017)\n",
      "(12, 2016) (2, 2017)\n",
      "(3, 2017) (5, 2017)\n",
      "(3, 2017) (5, 2017)\n",
      "(6, 2017) (8, 2017)\n",
      "(6, 2017) (8, 2017)\n",
      "(6, 2016) (6, 2016)\n",
      "(6, 2016) (6, 2016)\n",
      "(6, 2017) (6, 2017)\n",
      "(6, 2017) (6, 2017)\n"
     ]
    }
   ],
   "source": [
    "path = [belltown_path, commcore_path]\n",
    "\n",
    "all_loads = []\n",
    "all_element_keys = []\n",
    "all_gps = []\n",
    "all_park_data = []\n",
    "starts = [(6, 2016), (9, 2016), (12, 2016), (3, 2017), (6, 2017)]\n",
    "ends = [(8, 2016), (11, 2016), (2, 2017), (5, 2017), (8, 2017)]\n",
    "\n",
    "for pair in zip(starts, ends):\n",
    "    \n",
    "    month_year_start = pair[0]\n",
    "    month_year_end = pair[1]\n",
    "    \n",
    "    print month_year_start, month_year_end\n",
    "    \n",
    "    params = process_data.load_data(data_path=data_path, load_paths=path, \n",
    "                                    month_year_start=month_year_start, month_year_end=month_year_end, \n",
    "                                    verbose=False)\n",
    "    element_keys, loads, gps_loc, park_data, idx_to_day_hour, day_hour_to_idx = params\n",
    "    \n",
    "    print month_year_start, month_year_end\n",
    "\n",
    "    all_element_keys.append(element_keys)\n",
    "    all_loads.append(loads)\n",
    "    all_gps.append(gps_loc)\n",
    "    all_park_data.append(park_data)    \n",
    "    \n",
    "all_keys_seasonal = all_element_keys \n",
    "all_gps_seasonal = all_gps\n",
    "all_loads_seasonal = all_loads\n",
    "all_park_data_seasonal = all_park_data"
   ]
  },
  {
   "cell_type": "code",
   "execution_count": 115,
   "metadata": {},
   "outputs": [],
   "source": [
    "fig_path = os.path.join(curr_dir, '..', 'belltown_commcore_figs_5')\n",
    "fig_paths_seasonal = []\n",
    "fig_paths_seasonal.append(os.path.join(fig_path, 'summer_2017'))"
   ]
  },
  {
   "cell_type": "code",
   "execution_count": 116,
   "metadata": {},
   "outputs": [],
   "source": [
    "time1 = 15\n",
    "num_comps = 5"
   ]
  },
  {
   "cell_type": "code",
   "execution_count": 118,
   "metadata": {},
   "outputs": [],
   "source": [
    "for time1 in xrange(72):\n",
    "    figure_functions.mixture_plot(all_loads_seasonal[-1], all_gps_seasonal[-1], time1, \n",
    "                                  fig_paths_seasonal[-1], \n",
    "                                  filename='mixture' + str(time1) + '.png',\n",
    "                                  num_comps=num_comps)\n",
    "#     figure_functions.mixture_plot(all_loads_seasonal[-1], all_gps_seasonal[-1], time1, \n",
    "#                                   fig_paths_seasonal[-1], \n",
    "#                                   filename='mixture_belltown_commcore.png',\n",
    "#                                   num_comps=num_comps)"
   ]
  },
  {
   "cell_type": "code",
   "execution_count": 67,
   "metadata": {},
   "outputs": [],
   "source": [
    "k_values = [3, 5, 10]\n",
    "p_value = .01"
   ]
  },
  {
   "cell_type": "code",
   "execution_count": 68,
   "metadata": {},
   "outputs": [],
   "source": [
    "results_path = os.path.join(curr_dir, '..', 'belltown_commcore_results_6')\n",
    "results_paths_seasonal = []\n",
    "results_paths_seasonal.append(os.path.join(results_path, 'summer_2016'))\n",
    "results_paths_seasonal.append(os.path.join(results_path, 'fall_2016'))\n",
    "results_paths_seasonal.append(os.path.join(results_path, 'winter_2017'))\n",
    "results_paths_seasonal.append(os.path.join(results_path, 'spring_2017'))\n",
    "results_paths_seasonal.append(os.path.join(results_path, 'summer_2017'))"
   ]
  },
  {
   "cell_type": "code",
   "execution_count": 69,
   "metadata": {},
   "outputs": [
    {
     "name": "stdout",
     "output_type": "stream",
     "text": [
      "2932.1500001\n",
      "4625.01523185\n",
      "2930.33925104\n",
      "3879.9938941\n",
      "1597.05903792\n"
     ]
    }
   ],
   "source": [
    "area_map = pickle.load(open(os.path.join(data_path, 'belltown_commcore_subareas.p'), 'rb'))\n",
    "\n",
    "for i in xrange(len(results_paths_seasonal)):\n",
    "    start = time.time()\n",
    "    results = gmm.locational_demand_analysis(all_park_data_seasonal[i], \n",
    "                                             all_gps_seasonal[i],\n",
    "                                             num_comps, k_values, area_map, verbose=False)\n",
    "    end = time.time()\n",
    "    \n",
    "    print end - start\n",
    "    \n",
    "    days = [result[0] for result in results]\n",
    "    hours = [result[1] for result in results]\n",
    "    \n",
    "    time_avg_consistency = [result[2] for result in results]\n",
    "    \n",
    "    write_results.write_gmm_results(time_avg_consistency, results_paths_seasonal[i])\n",
    "    \n",
    "    morans_mixture = [result[3] for result in results] \n",
    "    morans_dist_mixture = [result[4] for result in results] \n",
    "\n",
    "    morans_area = [result[5] for result in results]\n",
    "    morans_dist_area = [result[6] for result in results]\n",
    "\n",
    "    morans_dist = [result[7] for result in results]\n",
    "\n",
    "    morans_neighbor = [result[8] for result in results]\n",
    "\n",
    "    morans_3 = [neighbor[3] for neighbor in morans_neighbor]\n",
    "    morans_5 = [neighbor[5] for neighbor in morans_neighbor]\n",
    "    morans_10 = [neighbor[10] for neighbor in morans_neighbor]\n",
    "\n",
    "    gmm_var = [result[9] for result in results]\n",
    "    np.savetxt(os.path.join(results_paths_seasonal[i], 'gmm_var.csv'), np.array(gmm_var), delimiter=',')\n",
    "    \n",
    "    sdot_var = [result[10] for result in results]\n",
    "    np.savetxt(os.path.join(results_paths_seasonal[i], 'sdot_var.csv'), np.array(sdot_var), delimiter=',')\n",
    "    \n",
    "    centers = [result[11] for result in results]\n",
    "    \n",
    "    distances, centroids = kmeans_utils.get_distances(centers=centers, num_comps=num_comps)\n",
    "    best_time = distances.mean(axis=1).argmin()\n",
    "    \n",
    "    write_results.write_centroid_distance_results(days=days, hours=hours,\n",
    "                                                  distances=distances,\n",
    "                                                  results_path=results_paths_seasonal[i])\n",
    "    \n",
    "    figure_functions.centroid_plots(centers=centers, gps_loc=all_gps_seasonal[i], \n",
    "                                    times=best_time, fig_path=fig_paths_seasonal[i], \n",
    "                                    num_comps=num_comps)\n",
    "    \n",
    "    all_morans = [morans_mixture, morans_dist_mixture, morans_area, morans_dist_area, \n",
    "              morans_dist, morans_3, morans_5, morans_10]\n",
    "    \n",
    "    auto_names = ['mixture', 'mixture_dist', 'area', 'area_dist', 'dist', 'k_3', 'k_5', 'k_10']\n",
    "    \n",
    "    all_I = []\n",
    "    all_p_one = []\n",
    "    all_p_two = []\n",
    "    \n",
    "    for j in xrange(len(auto_names)):\n",
    "        \n",
    "        results_path = os.path.join(results_paths_seasonal[i], auto_names[j])\n",
    "\n",
    "        I_avg, p_one_side, p_two_side = write_results.write_moran_results(days, hours, \n",
    "                                                                         all_morans[j], \n",
    "                                                                         p_value, results_path)\n",
    "        all_I.append(I_avg)\n",
    "        all_p_one.append(p_one_side)\n",
    "        all_p_two.append(p_two_side)\n",
    "    \n",
    "    avg_moran = np.vstack((all_I, all_p_one, all_p_two))\n",
    "    index = ['Moran I Over All Days and Times', \n",
    "             'Significant One Sided P Value Percentage Average Over All Days And Times', \n",
    "             'Significant Two Sided P Value Percentage Average Over All Days And Times']\n",
    "    avg_df = pd.DataFrame(avg_moran, index=index, columns=auto_names)\n",
    "    avg_df.to_csv(os.path.join(results_paths_seasonal[i], 'Moran_Results.csv'), sep=',')"
   ]
  },
  {
   "cell_type": "code",
   "execution_count": null,
   "metadata": {},
   "outputs": [],
   "source": [
    "Summer 2016 & 57.4 & 73.9 & 85.5 & 31.3 & 53.1 & 66.3 & 99.4  & 99.1  \\\\ \n",
    "Fall   2016 & 84.9 & 93.3 & 96.0 & 55.1 & 68.1 & 85.3 & 99.9  & 99.7  \\\\ \n",
    "Winter 2017 & 85.0 & 91.4 & 96.7 & 56.4 & 65.0 & 84.0 & 99.9  & 99.9 \\\\ \n",
    "Spring 2017 & 89.4 & 95.3 & 98.5 & 44.7 & 65.6 & 85.2 & 99.8  & 99.8  \\\\ \n",
    "Summer 2017 & 95.5 & 99.5 & 99.4 & 22.2 & 59.8 & 80.3 & 100.0 & 100.0  \\\\ "
   ]
  },
  {
   "cell_type": "code",
   "execution_count": null,
   "metadata": {},
   "outputs": [],
   "source": [
    " & \\textbf{99.8} & \\textbf{99.7} & \\textbf{62.3} & \\textbf{80.2} & \\textbf{41.9} & \\textbf{82.4} & \\textbf{90.7} & \\textbf{95.2} \\\\"
   ]
  }
 ],
 "metadata": {
  "anaconda-cloud": {},
  "kernelspec": {
   "display_name": "Python 2",
   "language": "python",
   "name": "python2"
  },
  "language_info": {
   "codemirror_mode": {
    "name": "ipython",
    "version": 2
   },
   "file_extension": ".py",
   "mimetype": "text/x-python",
   "name": "python",
   "nbconvert_exporter": "python",
   "pygments_lexer": "ipython2",
   "version": "2.7.14"
  }
 },
 "nbformat": 4,
 "nbformat_minor": 2
}
