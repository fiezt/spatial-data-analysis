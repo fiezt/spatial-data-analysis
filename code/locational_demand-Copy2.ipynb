{
 "cells": [
  {
   "cell_type": "code",
   "execution_count": 1,
   "metadata": {
    "collapsed": true
   },
   "outputs": [],
   "source": [
    "import numpy as np\n",
    "import pandas as pd\n",
    "import os\n",
    "import process_data\n",
    "import gmm\n",
    "import datetime\n",
    "import figure_functions\n",
    "import run_analysis"
   ]
  },
  {
   "cell_type": "code",
   "execution_count": 2,
   "metadata": {
    "collapsed": true
   },
   "outputs": [],
   "source": [
    "curr_dir = os.getcwd()\n",
    "data_path = curr_dir + '/../data'\n",
    "fig_path = curr_dir + '/../figs3'\n",
    "results_path = curr_dir + '/../results3'\n",
    "animation_path = curr_dir + '/../animation3'\n",
    "belltown_path = data_path + '/Belltown_Hour'\n",
    "commcore_path = data_path + '/CommercialCore_Hour'\n",
    "pikepine_path = data_path + '/PikePine_Hour'\n",
    "dennytriangle_path = data_path + '/DennyTriangle_Hour'\n",
    "firsthill_path = data_path + '/FirstHill_Hour'\n",
    "raw_transaction_path = data_path + '/RawTransactionData'"
   ]
  },
  {
   "cell_type": "code",
   "execution_count": null,
   "metadata": {},
   "outputs": [
    {
     "name": "stdout",
     "output_type": "stream",
     "text": [
      "Starting day 0 and hour 8\n",
      "Starting day 0 and hour 11\n",
      "Starting day 0 and hour 14\n",
      "Starting day 0 and hour 17\n",
      "Starting day 1 and hour 8\n",
      "Starting day 1 and hour 11\n",
      "Starting day 1 and hour 14\n",
      "Starting day 1 and hour 17\n",
      "Starting day 0 and hour 17\n",
      "Starting day 0 and hour 18\n",
      "Starting day 0 and hour 8\n",
      "Starting day 0 and hour 9\n",
      "Starting day 0 and hour 11\n",
      "Starting day 0 and hour 12\n",
      "Starting day 0 and hour 14\n",
      "Starting day 0 and hour 15\n",
      "Starting day 1 and hour 17\n",
      "Starting day 1 and hour 18\n",
      "Starting day 1 and hour 8\n",
      "Starting day 1 and hour 9\n",
      "Starting day 1 and hour 11\n",
      "Starting day 1 and hour 12\n",
      "Starting day 1 and hour 14\n",
      "Starting day 1 and hour 15\n",
      "Starting day 0 and hour 18\n",
      "Starting day 0 and hour 19\n",
      "Starting day 0 and hour 15\n",
      "Starting day 0 and hour 16\n",
      "Starting day 0 and hour 9\n",
      "Starting day 0 and hour 10\n",
      "Starting day 0 and hour 12\n",
      "Starting day 0 and hour 13\n",
      "Starting day 1 and hour 18\n",
      "Starting day 1 and hour 19\n",
      "Starting day 1 and hour 15\n",
      "Starting day 1 and hour 16\n",
      "Starting day 1 and hour 9\n",
      "Starting day 1 and hour 10\n",
      "Starting day 1 and hour 12\n",
      "Starting day 1 and hour 13\n"
     ]
    }
   ],
   "source": [
    "time = 58\n",
    "num_comps = 7\n",
    "k = 5\n",
    "p_value = .01\n",
    "\n",
    "params = process_data.load_data(data_path=data_path, load_paths=[belltown_path, dennytriangle_path, firsthill_path, commcore_path])\n",
    "element_keys, loads, gps_loc, park_data, idx_to_day_hour, day_hour_to_idx = params\n",
    "run_analysis.run_figures(element_keys=element_keys, loads=loads, gps_loc=gps_loc,\n",
    "            num_comps=num_comps, data_path=data_path, fig_path=fig_path,\n",
    "            animation_path=animation_path, time=time, show_fig=False)\n",
    "\n",
    "run_analysis.run_gmm_simulations(park_data=park_data, gps_loc=gps_loc, time=time,\n",
    "                    num_comps=num_comps, k=k, p_value=p_value, fig_path=fig_path,\n",
    "                    results_path=results_path)"
   ]
  }
 ],
 "metadata": {
  "anaconda-cloud": {},
  "kernelspec": {
   "display_name": "Python [conda root]",
   "language": "python",
   "name": "conda-root-py"
  },
  "language_info": {
   "codemirror_mode": {
    "name": "ipython",
    "version": 2
   },
   "file_extension": ".py",
   "mimetype": "text/x-python",
   "name": "python",
   "nbconvert_exporter": "python",
   "pygments_lexer": "ipython2",
   "version": "2.7.12"
  }
 },
 "nbformat": 4,
 "nbformat_minor": 2
}
