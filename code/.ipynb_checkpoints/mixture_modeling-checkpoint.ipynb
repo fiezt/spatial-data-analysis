{
 "cells": [
  {
   "cell_type": "code",
   "execution_count": 1,
   "metadata": {
    "collapsed": true
   },
   "outputs": [],
   "source": [
    "import numpy as np\n",
    "import pickle\n",
    "from matplotlib.patches import Ellipse\n",
    "from sklearn import mixture\n",
    "from sklearn.preprocessing import MinMaxScaler\n",
    "import pandas as pd\n",
    "import math\n",
    "from scipy.misc import imread\n",
    "from scipy.misc import imshow\n",
    "from matplotlib import animation\n",
    "import warnings\n",
    "warnings.filterwarnings('ignore')\n",
    "% matplotlib inline"
   ]
  },
  {
   "cell_type": "code",
   "execution_count": 3,
   "metadata": {
    "collapsed": true
   },
   "outputs": [],
   "source": [
    "with open('hourlyUtilization100_uncapped.pck', 'rb') as f:\n",
    "     load_data = pickle.load(f)\n",
    "with open('ElementKeytoLatLong.pck', 'rb') as f:\n",
    "    locations = pickle.load(f)"
   ]
  },
  {
   "cell_type": "code",
   "execution_count": 4,
   "metadata": {
    "collapsed": false
   },
   "outputs": [],
   "source": [
    "avg_loads = []\n",
    "gps_loc = []\n",
    "elkeys = sorted(load_data.keys())\n",
    "for key in elkeys:\n",
    "    curr = pd.DataFrame(load_data[key].items(), columns=['Datetime', 'Load'])\n",
    "    curr['Datetime'] = pd.to_datetime(curr['Datetime'])\n",
    "    curr['Hour'] = curr['Datetime'].apply(lambda x: x.hour)\n",
    "    curr['Day'] = curr['Datetime'].apply(lambda x: x.weekday())\n",
    "    curr = curr.loc[curr['Day'] != 6]\n",
    "    curr.reset_index(inplace=True)\n",
    "    avg_loads.append([curr.loc[(curr['Hour'] == hour) & (curr['Day'] == day)]['Load'].mean() \n",
    "                      for day in range(6) for hour in sorted(curr['Hour'].unique())])\n",
    "    mid_lat = (locations[key][0][0] + locations[key][1][0])/2.\n",
    "    mid_long = (locations[key][0][1] + locations[key][1][1])/2.\n",
    "    gps_loc.append([mid_lat, mid_long])\n",
    "avg_loads = np.vstack((avg_loads))\n",
    "gps_loc = np.vstack((gps_loc))\n",
    "colors = ['b', 'g', 'orange', 'c', 'm', 'y', 'k', 'w', 'purple']"
   ]
  },
  {
   "cell_type": "code",
   "execution_count": null,
   "metadata": {
    "collapsed": false
   },
   "outputs": [],
   "source": [
    "for time in range(10):\n",
    "    likelihoods = []\n",
    "    for num_comps in range(1, 10):\n",
    "        cluster_data = np.hstack((avg_loads[:, time, None], gps_loc))\n",
    "        cluster_data_true = cluster_data\n",
    "        scaler = MinMaxScaler().fit(cluster_data)\n",
    "        cluster_data = scaler.transform(cluster_data)\n",
    "        # Fit a Gaussian mixture with EM using five components\n",
    "        gmm = mixture.GaussianMixture(n_init=15, n_components=num_comps, covariance_type='diag').fit(cluster_data)\n",
    "        likelihoods.append(gmm.lower_bound_)\n",
    "    plt.plot(likelihoods, '-o', linewidth=1, label=time)\n",
    "#plt.legend()"
   ]
  },
  {
   "cell_type": "code",
   "execution_count": null,
   "metadata": {
    "collapsed": false
   },
   "outputs": [],
   "source": [
    "days = {0:'Monday', 1:'Tuesday', 2:'Wednesday', 3:'Thursday', 4:'Friday', 5:'Saturday'}\n",
    "upleft = [47.6197793,-122.3592749]\n",
    "bttmright = [47.607274, -122.334786]\n",
    "imgsize = [1135,864]\n",
    "mp = MapOverlay(upleft, bttmright, imgsize)\n",
    "pixpos = np.array([mp.to_image_pixel_position(list(gps_loc[i,:])) for i in range(256)])\n",
    "center = ((upleft[0] - bttmright[0])/2., (upleft[1] - bttmright[1])/2.)\n",
    "pix_center = mp.to_image_pixel_position(list(center))\n",
    "fig = plt.figure(figsize=(18,16))\n",
    "ax = plt.axes(xlim=(min(pixpos[:,0]), max(pixpos[:,0])), ylim=(min(pixpos[:,1]), max(pixpos[:,1])))\n",
    "ax.invert_yaxis()\n",
    "ax.scatter(pixpos[:, 0], pixpos[:, 1])\n",
    "ax.xaxis.label.set_fontsize(25)\n",
    "ax.set_title('Gaussian Mixture Model on Average Load Distribution and Location', fontsize=25)\n",
    "im = imread(\"belltown.png\")\n",
    "ax.imshow(im)\n",
    "scat = ax.scatter(pixpos[:, 0], pixpos[:, 1], s=175, color='red')\n",
    "scat_mean = ax.scatter([], [], s=500, color='red')\n",
    "num_comps = 4\n",
    "patches = [Ellipse(xy=(0, 0), width=0, height=0, angle=0, edgecolor='black', \n",
    "           facecolor='none', lw='4') for comp in range(2*num_comps)]\n",
    "ellipses = [ax.add_patch(patches[comp]) for comp in range(2*num_comps)]\n",
    "\n",
    "def animate(time, avg_loads=avg_loads, gps_loc=gps_loc, num_comps=num_comps):\n",
    "    cluster_data = np.hstack((avg_loads[:, time, None], gps_loc))\n",
    "    cluster_data_true = cluster_data\n",
    "\n",
    "    scaler = MinMaxScaler().fit(cluster_data)\n",
    "    cluster_data = scaler.transform(cluster_data)\n",
    "    # Fit a Gaussian mixture with EM using five components\n",
    "    gmm = mixture.GaussianMixture(n_init=15, n_components=num_comps, covariance_type='diag').fit(cluster_data)\n",
    "    means = np.vstack(([(mean[1:] - scaler.min_[1:])/(scaler.scale_[1:]) for mean in gmm.means_]))\n",
    "    covs = np.dstack(([np.diag((cov[1:])/(scaler.scale_[1:]**2)) for cov in gmm.covariances_])).T\n",
    "    labels = gmm.predict(cluster_data)    \n",
    "    default_means = np.array([[47.61702269, -122.3522597],[47.61493758, -122.34991668],\n",
    "                     [47.61778095, -122.3512094],[47.6168215, -122.34615319],\n",
    "                     [47.61331815, -122.34253372],[47.61213144, -122.34610443]])\n",
    "\n",
    "    color_codes = {}\n",
    "    for i in range(num_comps):\n",
    "        dists = [(j, np.linalg.norm(means[i] - default_means[j])) for j in range(num_comps)]\n",
    "        best_colors = sorted(dists, key=lambda item:item[1])\n",
    "        unused_colors = [color[0] for color in best_colors if color[0] not in color_codes.values()]\n",
    "        choice = unused_colors[0]\n",
    "        color_codes[i] = choice\n",
    "\n",
    "    scat.set_color([colors[color_codes[labels[i]]] for i in range(len(labels))]) \n",
    "    \n",
    "    num = 0\n",
    "    for i in range(num_comps):\n",
    "        lambda_, v = np.linalg.eig(covs[i])\n",
    "        lambda_ = np.sqrt(lambda_)\n",
    "        for j in [1, 2]:\n",
    "            xy = mp.to_image_pixel_position(list(means[i,:]))\n",
    "            width = lambda_[0]*j*2\n",
    "            height = lambda_[1]*j*2 \n",
    "            new_center = (center[0]+width, center[1]+height)\n",
    "            new_center = mp.to_image_pixel_position(list(new_center))\n",
    "            width = abs(new_center[0] - pix_center[0])\n",
    "            height = abs(new_center[1] - pix_center[1])\n",
    "            patches[num].center = xy\n",
    "            patches[num].width = width\n",
    "            patches[num].height = height\n",
    "            patches[num].edgecolor = colors[color_codes[i]]\n",
    "            num += 1\n",
    "    means = np.array([mp.to_image_pixel_position(list(means[i,:])) for i in range(len(means))])\n",
    "    scat_mean.set_offsets(means)\n",
    "    hour = time % 10\n",
    "    day = time/10\n",
    "    ax.set_xlabel(days[day] + ' ' + str(8+hour) + ':00')"
   ]
  },
  {
   "cell_type": "code",
   "execution_count": null,
   "metadata": {
    "collapsed": false
   },
   "outputs": [],
   "source": [
    "ani = animation.FuncAnimation(fig, animate, frames=avg_loads.shape[1], interval=200)\n",
    "FFwriter = animation.FFMpegWriter()\n",
    "ani.save('mixture.mp4', writer = FFwriter)"
   ]
  }
 ],
 "metadata": {
  "anaconda-cloud": {},
  "kernelspec": {
   "display_name": "Python [conda root]",
   "language": "python",
   "name": "conda-root-py"
  },
  "language_info": {
   "codemirror_mode": {
    "name": "ipython",
    "version": 2
   },
   "file_extension": ".py",
   "mimetype": "text/x-python",
   "name": "python",
   "nbconvert_exporter": "python",
   "pygments_lexer": "ipython2",
   "version": "2.7.12"
  }
 },
 "nbformat": 4,
 "nbformat_minor": 1
}
