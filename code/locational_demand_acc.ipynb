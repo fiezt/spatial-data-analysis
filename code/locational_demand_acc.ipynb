{
 "cells": [
  {
   "cell_type": "code",
   "execution_count": 26,
   "metadata": {},
   "outputs": [
    {
     "name": "stdout",
     "output_type": "stream",
     "text": [
      "The autoreload extension is already loaded. To reload it, use:\n",
      "  %reload_ext autoreload\n"
     ]
    }
   ],
   "source": [
    "import seaborn as sns\n",
    "import matplotlib.pyplot as plt\n",
    "import pickle\n",
    "import numpy as np\n",
    "import pandas as pd\n",
    "from collections import defaultdict\n",
    "import os\n",
    "import time\n",
    "import process_data\n",
    "import gmm\n",
    "import datetime\n",
    "import figure_functions\n",
    "import run_analysis\n",
    "import process_data\n",
    "import kmeans_utils\n",
    "import write_results\n",
    "import load_sdot_utils\n",
    "%load_ext autoreload\n",
    "%autoreload 2"
   ]
  },
  {
   "cell_type": "code",
   "execution_count": 4,
   "metadata": {},
   "outputs": [],
   "source": [
    "curr_dir = os.getcwd()\n",
    "data_path = curr_dir + '/../data'\n",
    "fig_path = curr_dir + '/../figs'\n",
    "results_path = curr_dir + '/../results'\n",
    "animation_path = curr_dir + '/../animation'\n",
    "belltown_path = data_path + '/Belltown_Hour'\n",
    "commcore_path = data_path + '/CommercialCore_Hour'\n",
    "pikepine_path = data_path + '/PikePine_Hour'\n",
    "dennytriangle_path = data_path + '/DennyTriangle_Hour'\n",
    "firsthill_path = data_path + '/FirstHill_Hour'\n",
    "uptown_path = data_path + '/Uptown_Hour'\n",
    "uptowntriangle_path = data_path + '/UptownTriangle_Hour'\n",
    "southlakeunion_path = data_path + '/SouthLakeUnion_Hour'\n",
    "raw_transaction_path = data_path + '/RawTransactionData'"
   ]
  },
  {
   "cell_type": "code",
   "execution_count": 5,
   "metadata": {},
   "outputs": [],
   "source": [
    "path = belltown_path\n",
    "\n",
    "month_year_start = (1, 2017)\n",
    "month_year_end = (7, 2017)\n",
    "\n",
    "\n",
    "params = process_data.load_data(data_path=data_path, load_paths=[path], \n",
    "                                month_year_start=month_year_start, month_year_end=month_year_end, \n",
    "                                verbose=False)\n",
    "element_keys, loads, gps_loc, park_data, idx_to_day_hour, day_hour_to_idx = params"
   ]
  },
  {
   "cell_type": "code",
   "execution_count": 6,
   "metadata": {},
   "outputs": [],
   "source": [
    "fig_path = os.path.join(curr_dir, '..', 'acc_figs')"
   ]
  },
  {
   "cell_type": "code",
   "execution_count": 11,
   "metadata": {},
   "outputs": [],
   "source": [
    "time1 = 59\n",
    "time2 = 63\n",
    "num_comps = 4"
   ]
  },
  {
   "cell_type": "code",
   "execution_count": 12,
   "metadata": {},
   "outputs": [],
   "source": [
    "figure_functions.temporal_day_plots(loads, fig_path, \n",
    "                                    filename='temporal_day_plots.png')\n",
    "figure_functions.contour_plot(loads, gps_loc, time1, \n",
    "                              fig_path, filename='contours1.png')\n",
    "figure_functions.contour_plot(loads, gps_loc, time2, \n",
    "                              fig_path, filename='contours2.png')\n",
    "figure_functions.mixture_plot(loads, gps_loc, time1, \n",
    "                              fig_path, filename='mixture_plot1.png')\n",
    "figure_functions.mixture_plot(loads, gps_loc, time2, \n",
    "                              fig_path, filename='mixture_plot2.png')"
   ]
  },
  {
   "cell_type": "code",
   "execution_count": 13,
   "metadata": {},
   "outputs": [],
   "source": [
    "k_values = [3, 5, 10]\n",
    "p_value = .01"
   ]
  },
  {
   "cell_type": "code",
   "execution_count": 22,
   "metadata": {},
   "outputs": [],
   "source": [
    "results_path = os.path.join(curr_dir, '..', 'acc_results')"
   ]
  },
  {
   "cell_type": "code",
   "execution_count": null,
   "metadata": {},
   "outputs": [],
   "source": [
    "area_map = pickle.load(open(os.path.join(data_path, 'belltown_subareas.p'), 'rb'))\n",
    "\n",
    "start = time.time()\n",
    "results = gmm.locational_demand_analysis(park_data, gps_loc, num_comps, \n",
    "                                         k_values, area_map, verbose=False)\n",
    "end = time.time()\n",
    "\n",
    "print end - start\n",
    "\n",
    "days = [result[0] for result in results]\n",
    "hours = [result[1] for result in results]\n",
    "\n",
    "time_avg_consistency = [result[2] for result in results]\n",
    "\n",
    "write_results.write_gmm_results(time_avg_consistency, results_path)\n",
    "\n",
    "morans_mixture = [result[3] for result in results] \n",
    "morans_dist_mixture = [result[4] for result in results] \n",
    "\n",
    "morans_area = [result[5] for result in results]\n",
    "morans_dist_area = [result[6] for result in results]\n",
    "\n",
    "morans_dist = [result[7] for result in results]\n",
    "\n",
    "morans_neighbor = [result[8] for result in results]\n",
    "\n",
    "morans_3 = [neighbor[3] for neighbor in morans_neighbor]\n",
    "morans_5 = [neighbor[5] for neighbor in morans_neighbor]\n",
    "morans_10 = [neighbor[10] for neighbor in morans_neighbor]\n",
    "\n",
    "gmm_var = [result[9] for result in results]\n",
    "np.savetxt(os.path.join(results_path, 'gmm_var.csv'), np.array(gmm_var), delimiter=',')\n",
    "\n",
    "sdot_var = [result[10] for result in results]\n",
    "np.savetxt(os.path.join(results_path, 'sdot_var.csv'), np.array(sdot_var), delimiter=',')\n",
    "\n",
    "centers = [result[11] for result in results]\n",
    "\n",
    "distances, centroids = kmeans_utils.get_distances(centers=centers, num_comps=num_comps)\n",
    "best_time = distances.mean(axis=1).argmin()\n",
    "\n",
    "write_results.write_centroid_distance_results(days=days, hours=hours,\n",
    "                                              distances=distances,\n",
    "                                              results_path=results_path)\n",
    "\n",
    "figure_functions.centroid_plots(centers=centers, gps_loc=gps_loc, \n",
    "                                times=best_time, fig_path=fig_path, \n",
    "                                num_comps=num_comps)\n",
    "\n",
    "all_morans = [morans_mixture, morans_dist_mixture, morans_area, morans_dist_area, \n",
    "              morans_dist, morans_3, morans_5, morans_10]\n",
    "\n",
    "auto_names = ['mixture', 'mixture_dist', 'area', 'area_dist', 'dist', 'k_3', 'k_5', 'k_10']\n",
    "\n",
    "all_I = []\n",
    "all_p_one = []\n",
    "all_p_two = []\n",
    "\n",
    "for j in xrange(len(auto_names)):\n",
    "\n",
    "    results_path_curr = os.path.join(results_path, auto_names[j])\n",
    "\n",
    "    I_avg, p_one_side, p_two_side = write_results.write_moran_results(days, hours, \n",
    "                                                                     all_morans[j], \n",
    "                                                                     p_value, results_path_curr)\n",
    "    all_I.append(I_avg)\n",
    "    all_p_one.append(p_one_side)\n",
    "    all_p_two.append(p_two_side)\n",
    "\n",
    "avg_moran = np.vstack((all_I, all_p_one, all_p_two))\n",
    "index = ['Moran I Over All Days and Times', \n",
    "         'Significant One Sided P Value Percentage Average Over All Days And Times', \n",
    "         'Significant Two Sided P Value Percentage Average Over All Days And Times']\n",
    "avg_df = pd.DataFrame(avg_moran, index=index, columns=auto_names)\n",
    "avg_df.to_csv(os.path.join(results_path, 'Moran_Results.csv'), sep=',')"
   ]
  }
 ],
 "metadata": {
  "anaconda-cloud": {},
  "kernelspec": {
   "display_name": "Python 2",
   "language": "python",
   "name": "python2"
  },
  "language_info": {
   "codemirror_mode": {
    "name": "ipython",
    "version": 2
   },
   "file_extension": ".py",
   "mimetype": "text/x-python",
   "name": "python",
   "nbconvert_exporter": "python",
   "pygments_lexer": "ipython2",
   "version": "2.7.14"
  }
 },
 "nbformat": 4,
 "nbformat_minor": 2
}
