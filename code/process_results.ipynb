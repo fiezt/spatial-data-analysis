{
 "cells": [
  {
   "cell_type": "code",
   "execution_count": 1,
   "metadata": {},
   "outputs": [],
   "source": [
    "import numpy as np\n",
    "import os\n",
    "import pandas as pd"
   ]
  },
  {
   "cell_type": "code",
   "execution_count": 2,
   "metadata": {},
   "outputs": [],
   "source": [
    "path1 = 'belltown_denny_results_5'\n",
    "path2 = 'belltown_commcore_results_6'\n",
    "path3 = 'belltown_results'"
   ]
  },
  {
   "cell_type": "code",
   "execution_count": 3,
   "metadata": {},
   "outputs": [],
   "source": [
    "path_1 = os.path.join(os.getcwd(), '..', path1)\n",
    "path_2 = os.path.join(os.getcwd(), '..', path2)\n",
    "path_3 = os.path.join(os.getcwd(), '..', path3)"
   ]
  },
  {
   "cell_type": "code",
   "execution_count": 4,
   "metadata": {},
   "outputs": [],
   "source": [
    "all_season_paths = ['fall_2016', 'spring_2017', 'summer_2016', 'summer_2017', 'winter_2017']"
   ]
  },
  {
   "cell_type": "code",
   "execution_count": 5,
   "metadata": {},
   "outputs": [],
   "source": [
    "paths1 = [os.path.join(path_1, path) for path in all_season_paths]\n",
    "paths2 = [os.path.join(path_2, path) for path in all_season_paths]\n",
    "paths3 = [os.path.join(path_3, path) for path in all_season_paths]"
   ]
  },
  {
   "cell_type": "code",
   "execution_count": 6,
   "metadata": {},
   "outputs": [],
   "source": [
    "path3_gmm_var = []\n",
    "path3_sdot_var = []\n",
    "\n",
    "path3_gmm_sd = []\n",
    "path3_sdot_sd = []\n",
    "\n",
    "for path in paths3:\n",
    "    gmm = pd.read_csv(os.path.join(path, 'gmm_var.csv'), header=None).values.mean()\n",
    "    sdot = pd.read_csv(os.path.join(path, 'sdot_var.csv'), header=None).values.mean()\n",
    "    \n",
    "    path3_gmm_var.append(gmm)\n",
    "    path3_sdot_var.append(sdot)\n",
    "    path3_gmm_sd.append(np.sqrt(gmm))\n",
    "    path3_sdot_sd.append(np.sqrt(sdot))\n",
    "\n",
    "path3_gmm_var = np.array(path3_gmm_var)\n",
    "path3_sdot_var = np.array(path3_sdot_var)\n",
    "path3_gmm_sd = np.array(path3_gmm_sd)\n",
    "path3_sdot_sd = np.array(path3_sdot_sd)"
   ]
  },
  {
   "cell_type": "code",
   "execution_count": null,
   "metadata": {},
   "outputs": [],
   "source": [
    "print 'GMM', round(path3_gmm_var.min(), 3)*100, round(path3_gmm_var.mean(), 3)*100, round(path3_gmm_var.max(), 3)*100\n",
    "print 'SDOT', round(path3_sdot_var.min(), 3)*100, round(path3_sdot_var.mean(), 3)*100, round(path3_sdot_var.max(), 3)*100"
   ]
  },
  {
   "cell_type": "code",
   "execution_count": null,
   "metadata": {},
   "outputs": [],
   "source": [
    "print 'GMM', round(path3_gmm_sd.min(), 3)*100, round(path3_gmm_sd.mean(), 3)*100, round(path3_gmm_sd.max(), 3)*100\n",
    "print 'SDOT', round(path3_sdot_sd.min(), 3)*100, round(path3_sdot_sd.mean(), 3)*100, round(path3_sdot_sd.max(), 3)*100"
   ]
  },
  {
   "cell_type": "code",
   "execution_count": 9,
   "metadata": {},
   "outputs": [],
   "source": [
    "path1_consist = []\n",
    "for path in paths1:\n",
    "    test = pd.read_csv(os.path.join(path, 'consistencies.csv'))\n",
    "    path1_consist.append(round(test[test.columns[-1]].values[:-1].mean(), 1))\n",
    "\n",
    "path2_consist = []\n",
    "for path in paths2:\n",
    "    test = pd.read_csv(os.path.join(path, 'consistencies.csv'))\n",
    "    path2_consist.append(round(test[test.columns[-1]].values[:-1].mean(), 1))\n",
    "    \n",
    "path3_consist = []\n",
    "for path in paths3:\n",
    "    test = pd.read_csv(os.path.join(path, 'consistencies.csv'))\n",
    "    path3_consist.append(round(test[test.columns[-1]].values[:-1].mean(), 1))"
   ]
  },
  {
   "cell_type": "code",
   "execution_count": 10,
   "metadata": {},
   "outputs": [],
   "source": [
    "path1_moran = []\n",
    "for path in paths1:\n",
    "    test = pd.read_csv(os.path.join(path, 'Moran_Results.csv')).iloc[2].values[1:].tolist()\n",
    "    path1_moran.append(test)\n",
    "    \n",
    "path1_moran = np.vstack((path1_moran)).mean(axis=0)\n",
    "\n",
    "path2_moran = []\n",
    "for path in paths2:\n",
    "    test = pd.read_csv(os.path.join(path, 'Moran_Results.csv')).iloc[2].values[1:].tolist()\n",
    "    path2_moran.append(test)\n",
    "    \n",
    "path2_moran = np.vstack((path2_moran)).mean(axis=0)\n",
    "\n",
    "path3_moran = []\n",
    "for path in paths3:\n",
    "    test = pd.read_csv(os.path.join(path, 'Moran_Results.csv')).iloc[2].values[1:].tolist()\n",
    "    path3_moran.append(test)\n",
    "    \n",
    "path3_moran = np.vstack((path3_moran)).mean(axis=0)"
   ]
  },
  {
   "cell_type": "code",
   "execution_count": null,
   "metadata": {},
   "outputs": [],
   "source": [
    "print 'denny'\n",
    "for num in path1_consist:\n",
    "    print str(num) + ' &',     \n",
    "print '\\n'\n",
    "\n",
    "print 'commcore'\n",
    "for num in path2_consist:\n",
    "    print str(num) + ' &', \n",
    "print '\\n'\n",
    "\n",
    "print 'belltown'\n",
    "for num in path3_consist:\n",
    "    print str(num) + ' &', "
   ]
  },
  {
   "cell_type": "code",
   "execution_count": null,
   "metadata": {},
   "outputs": [],
   "source": [
    "print 'denny'\n",
    "for num in np.round(path1_moran, 1):\n",
    "    print str(num) + ' &', \n",
    "print '\\n'\n",
    "\n",
    "print 'commcore'\n",
    "for num in np.round(path2_moran, 1):\n",
    "    print str(num) + ' &', \n",
    "print '\\n'\n",
    "\n",
    "print 'belltown'\n",
    "for num in np.round(path3_moran, 1):\n",
    "    print str(num) + ' &', "
   ]
  },
  {
   "cell_type": "code",
   "execution_count": null,
   "metadata": {},
   "outputs": [],
   "source": [
    "path = os.path.join(os.getcwd(), '..', 'belltown_results', 'summer_2017')\n",
    "\n",
    "# Without first hour.\n",
    "hourly_avg = np.round(pd.read_csv(os.path.join(path, \n",
    "                                    'consistencies.csv')).values[:-1, 2:-1].mean(axis=0).astype(float), 1)\n",
    "\n",
    "print 'Hourly min:', hourly_avg.min()\n",
    "print 'Hourly max:', hourly_avg.max()\n",
    "\n",
    "daily_avg = pd.read_csv(os.path.join(path, 'consistencies.csv')).values[:-1, 1:-1].mean(axis=1).astype(float)\n",
    "print 'Daily Min', np.round_(daily_avg.min(), 1)\n",
    "print 'Daily Max', np.round_(daily_avg.max(), 1)"
   ]
  },
  {
   "cell_type": "code",
   "execution_count": null,
   "metadata": {},
   "outputs": [],
   "source": [
    "path = os.path.join(os.getcwd(), '..', 'belltown_results', 'summer_2016')\n",
    "daily_avg = pd.read_csv(os.path.join(path, 'consistencies.csv')).values[:-1, 1:-1].mean(axis=1).astype(float)\n",
    "daily_avg = daily_avg.mean()\n",
    "print 'Summer 2016:', np.round_(daily_avg, 1)\n",
    "\n",
    "path = os.path.join(os.getcwd(), '..', 'belltown_results', 'fall_2016')\n",
    "daily_avg = pd.read_csv(os.path.join(path, 'consistencies.csv')).values[:-1, 1:-1].mean(axis=1).astype(float)\n",
    "daily_avg = daily_avg.mean()\n",
    "print 'Fall 2016:', np.round_(daily_avg, 1)\n",
    "\n",
    "path = os.path.join(os.getcwd(), '..', 'belltown_results', 'winter_2017')\n",
    "daily_avg = pd.read_csv(os.path.join(path, 'consistencies.csv')).values[:-1, 1:-1].mean(axis=1).astype(float)\n",
    "daily_avg = daily_avg.mean()\n",
    "print 'Winter 2017:', np.round_(daily_avg, 1)\n",
    "\n",
    "path = os.path.join(os.getcwd(), '..', 'belltown_results', 'spring_2017')\n",
    "daily_avg = pd.read_csv(os.path.join(path, 'consistencies.csv')).values[:-1, 1:-1].mean(axis=1).astype(float)\n",
    "daily_avg = daily_avg.mean()\n",
    "print 'Spring 2017:', np.round_(daily_avg, 1)\n",
    "\n",
    "path = os.path.join(os.getcwd(), '..', 'belltown_results', 'summer_2017')\n",
    "daily_avg = pd.read_csv(os.path.join(path, 'consistencies.csv')).values[:-1, 1:-1].mean(axis=1).astype(float)\n",
    "daily_avg = daily_avg.mean()\n",
    "print 'Summer 2017:', np.round_(daily_avg, 1)"
   ]
  }
 ],
 "metadata": {
  "kernelspec": {
   "display_name": "Python 2",
   "language": "python",
   "name": "python2"
  },
  "language_info": {
   "codemirror_mode": {
    "name": "ipython",
    "version": 2
   },
   "file_extension": ".py",
   "mimetype": "text/x-python",
   "name": "python",
   "nbconvert_exporter": "python",
   "pygments_lexer": "ipython2",
   "version": "2.7.14"
  }
 },
 "nbformat": 4,
 "nbformat_minor": 2
}
