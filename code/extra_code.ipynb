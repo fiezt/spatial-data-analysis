{
 "cells": [
  {
   "cell_type": "code",
   "execution_count": null,
   "metadata": {
    "collapsed": true
   },
   "outputs": [],
   "source": [
    "for key in np.unique(np.where(loads == 0)[0]):\n",
    "    print element_keys[key]\n",
    "    for i in xrange(len(loads[key])):\n",
    "        if loads[key][i] == 0: print i/12, i%12 + 8\n",
    "    print '\\n\\n'"
   ]
  },
  {
   "cell_type": "code",
   "execution_count": null,
   "metadata": {
    "collapsed": true
   },
   "outputs": [],
   "source": [
    "df = pd.read_csv(os.path.join(raw_transaction_path, '03012016_03312016.csv'))\n",
    "df = df.loc[df['ElementKey'] == 7266]\n",
    "df['TransactionDateTime'] = pd.to_datetime(df['TransactionDateTime'])\n",
    "df['Time'] = df['TransactionDateTime'].dt.time\n",
    "df['Day'] = df['TransactionDateTime'].dt.weekday\n",
    "df_ = df.loc[(df['Time'] <= datetime.time(18,0,0)) & (df['Time'] >= datetime.time(16,0,0))]\n",
    "df_1 = df_.loc[df['Day'] == 1]\n",
    "df_1"
   ]
  },
  {
   "cell_type": "code",
   "execution_count": null,
   "metadata": {
    "collapsed": true
   },
   "outputs": [],
   "source": [
    "figure_functions.create_animation(loads, gps_loc, N, P, fig_path, animation_path)"
   ]
  },
  {
   "cell_type": "code",
   "execution_count": null,
   "metadata": {
    "collapsed": true
   },
   "outputs": [],
   "source": [
    "with open(os.path.join(data_path, 'blockface_locs.p'), 'rb') as f:\n",
    "    locations = pickle.load(f)\n",
    "\n",
    "gmap = gmplot.GoogleMapPlotter(47.612676, -122.345028, 15)\n",
    "\n",
    "for i in np.unique(np.where(loads == 0)[0]):\n",
    "    gmap.marker(gps_loc[i, 0], gps_loc[i, 1], title=str(element_keys[i]))\n",
    "gmap.draw(os.path.join(fig_path, 'test.html'))"
   ]
  },
  {
   "cell_type": "code",
   "execution_count": null,
   "metadata": {
    "collapsed": true
   },
   "outputs": [],
   "source": [
    "%%javascript\n",
    "IPython.OutputArea.prototype._should_scroll = function(lines) {\n",
    "    return false;\n",
    "}"
   ]
  },
  {
   "cell_type": "code",
   "execution_count": null,
   "metadata": {
    "collapsed": true
   },
   "outputs": [],
   "source": [
    "adjacency = np.zeros((len(block_keys), len(block_keys)))\n",
    "N = len(block_keys)\n",
    "\n",
    "for i in xrange(N):\n",
    "    if block_keys[i] in north:\n",
    "        zone1 = 'north'\n",
    "    elif block_keys[i] in south:\n",
    "        zone1 = 'south'\n",
    "    else:\n",
    "        print block_keys[i]\n",
    "    for j in xrange(N):\n",
    "        if i == j:\n",
    "            continue\n",
    "        \n",
    "        if block_keys[j] in north:\n",
    "            zone2 = 'north'\n",
    "        elif block_keys[j] in south:\n",
    "            zone2 = 'south'\n",
    "        else:\n",
    "            print block_keys[j]\n",
    "        \n",
    "        if zone1 == zone2:\n",
    "            adjacency[i, j] = 1\n",
    "        else:\n",
    "            pass"
   ]
  },
  {
   "cell_type": "code",
   "execution_count": null,
   "metadata": {
    "collapsed": true
   },
   "outputs": [],
   "source": [
    "def temporal_day_plots(loads, fig_path, filename='temporal_day_plots.png', show_fig=False):\n",
    "    \"\"\"Create subplots containing bar plots of the load for each day of the week.\n",
    "\n",
    "    This function creates a subplot for each day of week and in each subplot\n",
    "    is a bar plot with the average load at each hour of the day.\n",
    "\n",
    "    :param loads: Numpy array where each row is the load data for a block-face\n",
    "    and each column corresponds to a day of week and hour.\n",
    "    :param fig_path: Path to save the image to.\n",
    "    :param filename: Name to save the image as.\n",
    "    :param show_fig: Bool indicating whether to show the image.\n",
    "    \"\"\"\n",
    "\n",
    "    sns.set()\n",
    "    sns.set_style(\"whitegrid\")\n",
    "\n",
    "    fig, ax_list = plt.subplots(nrows=1, ncols=6, figsize=(60, 10), sharey=True)\n",
    "\n",
    "    # Setting block-faces with negligible load to nan so they are ignored when getting mean.\n",
    "    with np.errstate(invalid='ignore'):\n",
    "        loads[loads <= .05] = np.nan\n",
    "\n",
    "    num_times = loads.shape[1]\n",
    "\n",
    "    # List of lists, where each inner list contains the indexes for a day.\n",
    "    days = [[i for i in xrange(j, j+(num_times/6))] for j in xrange(0, num_times, (num_times/6))]\n",
    "\n",
    "    day_dict = {1: 'Monday', 2: 'Tuesday', 3: 'Wednesday', 4: 'Thursday',\n",
    "                5: 'Friday', 6: 'Saturday'}\n",
    "\n",
    "    day_count = 1\n",
    "    \n",
    "    for day in days:\n",
    "        bins = range(8, (num_times/6) + 8)\n",
    "\n",
    "        # Getting the mean loads for the hours of the given day and scaling for plot.\n",
    "        counts = np.nanmean(loads, axis=0)[day] * 100\n",
    "\n",
    "        #    ax = plt.subplot(1, 6, day_count)\n",
    "        ax = ax_list[day_count-1]\n",
    "        ax.set_xticks(np.arange(min(bins), max(bins)+1, 1))\n",
    "        x_labels = [str(b) + 'AM' if b < 12 else str(b-12) + 'PM' \n",
    "                    if b != 12 else str(b) + 'PM' for b in bins]\n",
    "       # x_labels = [x_labels[i] if i % 2 == 0 else '' for i in xrange(len(x_labels))]\n",
    "        ax.set_xticklabels(x_labels, fontsize=50, rotation=60, ha='center')\n",
    "       # ax.set_yticklabels(ax.get_yticklabels(), fontsize=60)\n",
    "        \n",
    "        ax.set_title(day_dict[day_count], fontsize=70)\n",
    "        \n",
    "      #  plt.setp(ax.get_xticklabels(), fontsize=50, rotation=60)\n",
    "        plt.setp(ax.get_yticklabels(), fontsize=50)\n",
    "        \n",
    "     #   for tick in ax.xaxis.get_majorticklabels():\n",
    "     #       tick.set_horizontalalignment('left')\n",
    "        \n",
    "        ax.bar(bins, counts, width=1, color='red', edgecolor='black', align='edge')\n",
    "\n",
    "        ax.set_xlim([min(bins), max(bins)+1])\n",
    "        ax.set_ylim([0, 70])\n",
    "        \n",
    "        day_count += 1\n",
    "    \n",
    "    fig.text(-.009, .8, r'Occupancy $\\%$', ha='center', rotation='vertical', fontsize=70)\n",
    "    \n",
    "    sns.reset_orig()\n",
    "\n",
    "    plt.tight_layout()\n",
    "    \n",
    "   # plt.subplots_adjust(right=.5, left=0)\n",
    "\n",
    "    plt.savefig(os.path.join(fig_path, filename), bbox_inches='tight')\n",
    "\n",
    "    if show_fig:\n",
    "        plt.show()\n",
    "\n",
    "    plt.close()"
   ]
  },
  {
   "cell_type": "code",
   "execution_count": null,
   "metadata": {
    "collapsed": true
   },
   "outputs": [],
   "source": [
    "key = 1017\n",
    "df = pd.read_csv(os.path.join(raw_transaction_path, '03012016_03312016.csv'))\n",
    "df = df.loc[df['ElementKey'] == key]\n",
    "df = df.sort_values(by='TransactionDateTime')\n",
    "df['TransactionDateTime'] = pd.to_datetime(df['TransactionDateTime'])\n",
    "df['Time'] = df['TransactionDateTime'].dt.time\n",
    "df['Day'] = df['TransactionDateTime'].dt.weekday\n",
    "df['DurationSeconds'] = df['PaidDuration'].values.astype(int)%60\n",
    "df['DurationMinutes'] = df['PaidDuration'].values.astype(int)/60\n",
    "df['DurationHours'] = df['DurationMinutes'].values.astype(int)/60\n",
    "df['DurationMinutes'] = df['DurationMinutes'] - 60*df['DurationHours']\n",
    "df['TransactionDateTimeEnd'] = df.apply(lambda row: row['TransactionDateTime'] + datetime.timedelta(hours=row['DurationHours'], minutes=row['DurationMinutes'], seconds=row['DurationSeconds']), axis=1)\n",
    "df['TimeEnd'] = df['TransactionDateTimeEnd'].dt.time\n",
    "df['Date'] = df['TransactionDateTime'].dt.date\n",
    "\n",
    "df_ = df.loc[(df['Time'] <= datetime.time(11,0,0)) & (df['Time'] >= datetime.time(9,0,0))]\n",
    "df_1 = df_.loc[df['Date'] == datetime.date(2016,3,3)]\n",
    "for i in xrange(1, 59):\n",
    "    print i, len(df_1.loc[(df_1['Time'] <= datetime.time(9,i,0)) & (df_1['TimeEnd'] >= datetime.time(9,i+1,0))])/9."
   ]
  },
  {
   "cell_type": "code",
   "execution_count": null,
   "metadata": {
    "collapsed": true
   },
   "outputs": [],
   "source": [
    "pd.set_option('display.max_columns', None)  "
   ]
  },
  {
   "cell_type": "code",
   "execution_count": null,
   "metadata": {
    "collapsed": true
   },
   "outputs": [],
   "source": [
    "time = 58\n",
    "run_all.run_figures(element_keys, loads, gps_loc, N, P, data_path, fig_path, animation_path, time)"
   ]
  },
  {
   "cell_type": "code",
   "execution_count": null,
   "metadata": {
    "collapsed": true
   },
   "outputs": [],
   "source": [
    "hour_count = 0\n",
    "\n",
    "for out_time in xrange(12):\n",
    "    curr_time = []\n",
    "    for time in xrange(out_time, 60, 12):\n",
    "        curr_time.append(time)\n",
    "        \n",
    "    figure_functions.mixture_plot(loads=loads, gps_loc=gps_loc, times=curr_time,\n",
    "                                  fig_path=fig_path, num_comps=num_comps, \n",
    "                                  filename='test_mixture_same_hour_no_sat' + str(hour_count) +  '.png', \n",
    "                                  shape=(1, 5), show_fig=True)\n",
    "\n",
    "    hour_count += 1"
   ]
  },
  {
   "cell_type": "code",
   "execution_count": null,
   "metadata": {
    "collapsed": true
   },
   "outputs": [],
   "source": [
    "curr_time = [14, 15, 16, 17, 18]\n",
    "\n",
    "figure_functions.mixture_plot(loads=loads, gps_loc=gps_loc, times=curr_time,\n",
    "                              fig_path=fig_path, num_comps=num_comps, \n",
    "                              filename='test_mixture_same_day.png', \n",
    "                              shape=(1, 5), show_fig=True)\n"
   ]
  },
  {
   "cell_type": "code",
   "execution_count": null,
   "metadata": {
    "collapsed": true
   },
   "outputs": [],
   "source": [
    "array([ 38.74,  28.  ,  11.96,  44.03])\n",
    "dark blue, green, pink, light blue\n",
    "30.683448014810018"
   ]
  }
 ],
 "metadata": {
  "anaconda-cloud": {},
  "kernelspec": {
   "display_name": "Python [conda root]",
   "language": "python",
   "name": "conda-root-py"
  },
  "language_info": {
   "codemirror_mode": {
    "name": "ipython",
    "version": 2
   },
   "file_extension": ".py",
   "mimetype": "text/x-python",
   "name": "python",
   "nbconvert_exporter": "python",
   "pygments_lexer": "ipython2",
   "version": "2.7.12"
  }
 },
 "nbformat": 4,
 "nbformat_minor": 2
}
