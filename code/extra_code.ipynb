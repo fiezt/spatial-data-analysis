{
 "cells": [
  {
   "cell_type": "code",
   "execution_count": null,
   "metadata": {
    "collapsed": true
   },
   "outputs": [],
   "source": [
    "for key in np.unique(np.where(loads == 0)[0]):\n",
    "    print element_keys[key]\n",
    "    for i in xrange(len(loads[key])):\n",
    "        if loads[key][i] == 0: print i/12, i%12 + 8\n",
    "    print '\\n\\n'"
   ]
  },
  {
   "cell_type": "code",
   "execution_count": null,
   "metadata": {
    "collapsed": true
   },
   "outputs": [],
   "source": [
    "df = pd.read_csv(os.path.join(raw_transaction_path, '03012016_03312016.csv'))\n",
    "df = df.loc[df['ElementKey'] == 7266]\n",
    "df['TransactionDateTime'] = pd.to_datetime(df['TransactionDateTime'])\n",
    "df['Time'] = df['TransactionDateTime'].dt.time\n",
    "df['Day'] = df['TransactionDateTime'].dt.weekday\n",
    "df_ = df.loc[(df['Time'] <= datetime.time(18,0,0)) & (df['Time'] >= datetime.time(16,0,0))]\n",
    "df_1 = df_.loc[df['Day'] == 1]\n",
    "df_1"
   ]
  },
  {
   "cell_type": "code",
   "execution_count": null,
   "metadata": {
    "collapsed": true
   },
   "outputs": [],
   "source": [
    "figure_functions.create_animation(loads, gps_loc, N, P, fig_path, animation_path)"
   ]
  },
  {
   "cell_type": "code",
   "execution_count": null,
   "metadata": {
    "collapsed": true
   },
   "outputs": [],
   "source": [
    "with open(os.path.join(data_path, 'blockface_locs.p'), 'rb') as f:\n",
    "    locations = pickle.load(f)\n",
    "\n",
    "gmap = gmplot.GoogleMapPlotter(47.612676, -122.345028, 15)\n",
    "\n",
    "for i in np.unique(np.where(loads == 0)[0]):\n",
    "    gmap.marker(gps_loc[i, 0], gps_loc[i, 1], title=str(element_keys[i]))\n",
    "gmap.draw(os.path.join(fig_path, 'test.html'))"
   ]
  },
  {
   "cell_type": "code",
   "execution_count": null,
   "metadata": {
    "collapsed": true
   },
   "outputs": [],
   "source": [
    "%%javascript\n",
    "IPython.OutputArea.prototype._should_scroll = function(lines) {\n",
    "    return false;\n",
    "}"
   ]
  },
  {
   "cell_type": "code",
   "execution_count": null,
   "metadata": {
    "collapsed": true
   },
   "outputs": [],
   "source": [
    "adjacency = np.zeros((len(block_keys), len(block_keys)))\n",
    "N = len(block_keys)\n",
    "\n",
    "for i in xrange(N):\n",
    "    if block_keys[i] in north:\n",
    "        zone1 = 'north'\n",
    "    elif block_keys[i] in south:\n",
    "        zone1 = 'south'\n",
    "    else:\n",
    "        print block_keys[i]\n",
    "    for j in xrange(N):\n",
    "        if i == j:\n",
    "            continue\n",
    "        \n",
    "        if block_keys[j] in north:\n",
    "            zone2 = 'north'\n",
    "        elif block_keys[j] in south:\n",
    "            zone2 = 'south'\n",
    "        else:\n",
    "            print block_keys[j]\n",
    "        \n",
    "        if zone1 == zone2:\n",
    "            adjacency[i, j] = 1\n",
    "        else:\n",
    "            pass"
   ]
  },
  {
   "cell_type": "code",
   "execution_count": null,
   "metadata": {
    "collapsed": true
   },
   "outputs": [],
   "source": [
    "key = 1017\n",
    "df = pd.read_csv(os.path.join(raw_transaction_path, '03012016_03312016.csv'))\n",
    "df = df.loc[df['ElementKey'] == key]\n",
    "df = df.sort_values(by='TransactionDateTime')\n",
    "df['TransactionDateTime'] = pd.to_datetime(df['TransactionDateTime'])\n",
    "df['Time'] = df['TransactionDateTime'].dt.time\n",
    "df['Day'] = df['TransactionDateTime'].dt.weekday\n",
    "df['DurationSeconds'] = df['PaidDuration'].values.astype(int)%60\n",
    "df['DurationMinutes'] = df['PaidDuration'].values.astype(int)/60\n",
    "df['DurationHours'] = df['DurationMinutes'].values.astype(int)/60\n",
    "df['DurationMinutes'] = df['DurationMinutes'] - 60*df['DurationHours']\n",
    "df['TransactionDateTimeEnd'] = df.apply(lambda row: row['TransactionDateTime'] + datetime.timedelta(hours=row['DurationHours'], minutes=row['DurationMinutes'], seconds=row['DurationSeconds']), axis=1)\n",
    "df['TimeEnd'] = df['TransactionDateTimeEnd'].dt.time\n",
    "df['Date'] = df['TransactionDateTime'].dt.date\n",
    "\n",
    "df_ = df.loc[(df['Time'] <= datetime.time(11,0,0)) & (df['Time'] >= datetime.time(9,0,0))]\n",
    "df_1 = df_.loc[df['Date'] == datetime.date(2016,3,3)]\n",
    "for i in xrange(1, 59):\n",
    "    print i, len(df_1.loc[(df_1['Time'] <= datetime.time(9,i,0)) & (df_1['TimeEnd'] >= datetime.time(9,i+1,0))])/9."
   ]
  },
  {
   "cell_type": "code",
   "execution_count": null,
   "metadata": {
    "collapsed": true
   },
   "outputs": [],
   "source": [
    "pd.set_option('display.max_columns', None)  "
   ]
  },
  {
   "cell_type": "code",
   "execution_count": null,
   "metadata": {
    "collapsed": true
   },
   "outputs": [],
   "source": [
    "time = 58\n",
    "run_all.run_figures(element_keys, loads, gps_loc, N, P, data_path, fig_path, animation_path, time)"
   ]
  }
 ],
 "metadata": {
  "anaconda-cloud": {},
  "kernelspec": {
   "display_name": "Python [conda root]",
   "language": "python",
   "name": "conda-root-py"
  },
  "language_info": {
   "codemirror_mode": {
    "name": "ipython",
    "version": 2
   },
   "file_extension": ".py",
   "mimetype": "text/x-python",
   "name": "python",
   "nbconvert_exporter": "python",
   "pygments_lexer": "ipython2",
   "version": "2.7.12"
  }
 },
 "nbformat": 4,
 "nbformat_minor": 2
}
