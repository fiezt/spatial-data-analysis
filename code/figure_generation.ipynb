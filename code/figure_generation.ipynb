{
 "cells": [
  {
   "cell_type": "code",
   "execution_count": 4,
   "metadata": {
    "collapsed": true
   },
   "outputs": [],
   "source": [
    "from mpl_toolkits.mplot3d.axes3d import *\n",
    "import matplotlib.mlab as ml\n",
    "import matplotlib.pyplot as plt\n",
    "from matplotlib import cm\n",
    "from matplotlib.colors import LightSource\n",
    "import pickle\n",
    "import datetime\n",
    "import pandas as pd\n",
    "import os\n",
    "import seaborn as sns\n",
    "sns.reset_orig()\n",
    "from sklearn.preprocessing import MinMaxScaler\n",
    "from mpl_toolkits.axes_grid1 import make_axes_locatable\n",
    "from scipy.misc import imread\n",
    "from scipy.spatial import voronoi_plot_2d\n",
    "from scipy.spatial import Voronoi\n",
    "from map_overlay import MapOverlay\n",
    "import utils\n",
    "import figure_functions"
   ]
  },
  {
   "cell_type": "code",
   "execution_count": 5,
   "metadata": {
    "collapsed": true
   },
   "outputs": [],
   "source": [
    "curr_dir = os.getcwd()\n",
    "data_path = curr_dir + '/../data/'\n",
    "fig_path = curr_dir + '/../figs/'"
   ]
  },
  {
   "cell_type": "code",
   "execution_count": 6,
   "metadata": {
    "collapsed": true
   },
   "outputs": [],
   "source": [
    "params = utils.load_data(data_path)\n",
    "\n",
    "gps_loc, avg_loads, park_data, N, P, idx_to_day_hour, day_hour_to_idx = params\n",
    "\n",
    "time = 1"
   ]
  },
  {
   "cell_type": "markdown",
   "metadata": {},
   "source": [
    "## Mixture Plot"
   ]
  },
  {
   "cell_type": "code",
   "execution_count": 7,
   "metadata": {
    "collapsed": true
   },
   "outputs": [],
   "source": [
    "fig, ax, means = figure_functions.mixture_plot(avg_loads, gps_loc, [2], N, \n",
    "                                               fig_path, shape=(1,1), \n",
    "                                               filename='monday_10am_gmm.png',\n",
    "                                               title='')\n",
    "fig, ax, means = figure_functions.mixture_plot(avg_loads, gps_loc, [9], N, \n",
    "                                               fig_path, shape=(1,1), \n",
    "                                               filename='monday_5pm_gmm.png',\n",
    "                                               title='')"
   ]
  },
  {
   "cell_type": "markdown",
   "metadata": {},
   "source": [
    "## 3D Surface Plot"
   ]
  },
  {
   "cell_type": "code",
   "execution_count": null,
   "metadata": {
    "collapsed": true
   },
   "outputs": [],
   "source": [
    "fig, ax = figure_functions.surface_plot(loads=avg_loads, gps_loc=gps_loc, time=4, \n",
    "                                        fig_path=fig_path)\n",
    "plt.show()"
   ]
  },
  {
   "cell_type": "markdown",
   "metadata": {},
   "source": [
    "## Interpolation"
   ]
  },
  {
   "cell_type": "code",
   "execution_count": null,
   "metadata": {
    "collapsed": true
   },
   "outputs": [],
   "source": [
    "fig, ax = figure_functions.interpolation(loads=avg_loads, gps_loc=gps_loc, time=time,\n",
    "                                         N=N, fig_path=fig_path)\n",
    "plt.show()"
   ]
  },
  {
   "cell_type": "markdown",
   "metadata": {},
   "source": [
    "## Triangular Grid"
   ]
  },
  {
   "cell_type": "code",
   "execution_count": null,
   "metadata": {
    "collapsed": true
   },
   "outputs": [],
   "source": [
    "fig, ax = figure_functions.triangular_grid(loads=avg_loads, gps_loc=gps_loc, time=time,\n",
    "                                           N=N, fig_path=fig_path)\n",
    "plt.show()"
   ]
  },
  {
   "cell_type": "markdown",
   "metadata": {},
   "source": [
    "## Contour Plot"
   ]
  },
  {
   "cell_type": "code",
   "execution_count": null,
   "metadata": {
    "collapsed": true
   },
   "outputs": [],
   "source": [
    "fig, ax = figure_functions.contour_plot(loads=avg_loads, gps_loc=gps_loc, time=time,\n",
    "                                        title='Average Load Contours', N=N, fig_path=fig_path)\n",
    "plt.show()"
   ]
  },
  {
   "cell_type": "markdown",
   "metadata": {},
   "source": [
    "## Voronoi Diagram"
   ]
  },
  {
   "cell_type": "code",
   "execution_count": null,
   "metadata": {
    "collapsed": true
   },
   "outputs": [],
   "source": [
    "fig, ax = figure_functions.voronoi(gps_loc=gps_loc, N=N, fig_path=fig_path)\n",
    "plt.show()"
   ]
  },
  {
   "cell_type": "markdown",
   "metadata": {},
   "source": [
    "## Spatial Heterogeneity"
   ]
  },
  {
   "cell_type": "code",
   "execution_count": null,
   "metadata": {
    "collapsed": true
   },
   "outputs": [],
   "source": [
    "fig, ax = figure_functions.spatial_heterogeneity(loads=avg_loads, time=time, \n",
    "                                                N=N, fig_path=fig_path)\n",
    "plt.show()"
   ]
  },
  {
   "cell_type": "markdown",
   "metadata": {},
   "source": [
    "## Temporal Heterogeneity"
   ]
  },
  {
   "cell_type": "code",
   "execution_count": null,
   "metadata": {
    "collapsed": true
   },
   "outputs": [],
   "source": [
    "fig, ax = figure_functions.temporal_heterogeneity(loads=avg_loads, time=time, \n",
    "                                                P=P, fig_path=fig_path)\n",
    "plt.show()"
   ]
  },
  {
   "cell_type": "code",
   "execution_count": null,
   "metadata": {
    "collapsed": true
   },
   "outputs": [],
   "source": [
    "bins = range(P)\n",
    "counts = np.mean(avg_loads, axis=0)\n",
    "\n",
    "sns.set()\n",
    "sns.set_style(\"whitegrid\")\n",
    "\n",
    "fig = plt.figure(figsize=(10,6))\n",
    "ax = plt.axes()\n",
    "\n",
    "ax.set_xticks(bins)\n",
    "ax.spines['bottom'].set_visible(False)\n",
    "\n",
    "ax.set_xticklabels([])\n",
    "plt.setp(ax.get_yticklabels(), fontsize=22)\n",
    "ax.yaxis.set_ticks_position('left')\n",
    "\n",
    "plt.bar(bins, counts, color='red')\n",
    "\n",
    "ax.axvline(x=0.2, color='black')\n",
    "ax.axvline(x=10, color='black')\n",
    "ax.axvline(x=20, color='black')\n",
    "ax.axvline(x=30, color='black')\n",
    "ax.axvline(x=40, color='black')\n",
    "ax.axvline(x=50, color='black')\n",
    "ax.axvline(x=59.7, color='black')\n",
    "\n",
    "plt.title('Temporal Heterogeneity', fontsize=22)\n",
    "#plt.xlabel('Blockface Key', fontsize=22)\n",
    "plt.ylabel('Load', fontsize=16)\n",
    "\n",
    "ax.annotate('Monday',xy=(2,-.05),xytext=(2,-.05), annotation_clip=False, fontsize=16)\n",
    "ax.annotate('Tuesday',xy=(12,-.05),xytext=(12,-.05), annotation_clip=False, fontsize=16)\n",
    "ax.annotate('Wednesday',xy=(20.65,-.05),xytext=(20.65,-.05), annotation_clip=False, fontsize=16)\n",
    "ax.annotate('Thursday',xy=(31.90,-.05),xytext=(31.90,-.05), annotation_clip=False, fontsize=16)\n",
    "ax.annotate('Friday',xy=(43.1,-.05),xytext=(43.1,-.05), annotation_clip=False, fontsize=16)\n",
    "ax.annotate('Saturday',xy=(51.9,-.05),xytext=(51.9,-.05), annotation_clip=False, fontsize=16)\n",
    "\n",
    "plt.tight_layout()\n",
    "\n",
    "sns.reset_orig()\n",
    "\n",
    "plt.show()"
   ]
  },
  {
   "cell_type": "code",
   "execution_count": null,
   "metadata": {
    "collapsed": true
   },
   "outputs": [],
   "source": [
    "week_begins = [i for i in range(0,70,10)]\n",
    "\n",
    "days = []\n",
    "\n",
    "for i in range(6):\n",
    "    days.append([range(week_begins[i], week_begins[i+1])])\n",
    "\n",
    "time_means = np.mean(avg_loads, axis=0)"
   ]
  },
  {
   "cell_type": "code",
   "execution_count": null,
   "metadata": {
    "collapsed": true
   },
   "outputs": [],
   "source": [
    "times = []\n",
    "for key in park_data:\n",
    "    times.extend(park_data[key]['Datetime'].dt.time.unique())\n",
    "times = np.array(times)\n",
    "np.unique(times)"
   ]
  },
  {
   "cell_type": "code",
   "execution_count": null,
   "metadata": {
    "collapsed": true
   },
   "outputs": [],
   "source": [
    "sns.set()\n",
    "sns.set_style(\"whitegrid\")\n",
    "\n",
    "fig, ax = plt.subplots(nrows=1,ncols=6,figsize=(40,10))\n",
    "\n",
    "day_dict = {1: 'Monday', 2: 'Tuesday', 3: 'Wednesday', 4: 'Thursday', 5: 'Friday', 6: 'Saturday'}\n",
    "i = 1\n",
    "\n",
    "for day in days:\n",
    "    bins = range(8,10+8)\n",
    "    counts = time_means[day]\n",
    "\n",
    "    ax1 = plt.subplot(1,6,i)\n",
    "    \n",
    "    ax1.set_xticks(np.arange(min(bins), max(bins)+1, 1))\n",
    "    \n",
    "    plt.title(day_dict[i], fontsize=22)\n",
    "    \n",
    "    plt.setp(ax1.get_xticklabels(), fontsize=22, rotation=60)\n",
    "    plt.setp(ax1.get_yticklabels(), fontsize=22)\n",
    "    \n",
    "    plt.bar(bins, counts, color='red', align='center')\n",
    "    \n",
    "    i += 1\n",
    "    \n",
    "plt.show()\n",
    "sns.reset_orig()"
   ]
  },
  {
   "cell_type": "code",
   "execution_count": null,
   "metadata": {
    "collapsed": true
   },
   "outputs": [],
   "source": [
    "week_begins = [i for i in range(0,60,10)]\n",
    "\n",
    "hours = []\n",
    "for i in range(10):\n",
    "    hours.append([hour + i for hour in week_begins])\n",
    "\n",
    "time_means = np.mean(avg_loads, axis=0)"
   ]
  },
  {
   "cell_type": "code",
   "execution_count": null,
   "metadata": {
    "collapsed": true
   },
   "outputs": [],
   "source": [
    "sns.set()\n",
    "sns.set_style(\"whitegrid\")\n",
    "\n",
    "fig, ax = plt.subplots(nrows=2,ncols=5,figsize=(25,15))\n",
    "\n",
    "i = 1\n",
    "for hour in hours:\n",
    "    bins = range(6)\n",
    "    counts = time_means[hour]\n",
    "    \n",
    "    \n",
    "    ax1 = plt.subplot(2,5,i)\n",
    "    \n",
    "    ax1.set_xticks(np.arange(min(bins), max(bins)+1, 1))\n",
    "    ax1.title.set_text(str(7+i) + ':00')\n",
    "    plt.bar(bins, counts, color='red', align='center')\n",
    "    \n",
    "    i += 1\n",
    "    \n",
    "plt.show()\n",
    "sns.reset_orig()"
   ]
  }
 ],
 "metadata": {
  "anaconda-cloud": {},
  "kernelspec": {
   "display_name": "Python [conda root]",
   "language": "python",
   "name": "conda-root-py"
  },
  "language_info": {
   "codemirror_mode": {
    "name": "ipython",
    "version": 2
   },
   "file_extension": ".py",
   "mimetype": "text/x-python",
   "name": "python",
   "nbconvert_exporter": "python",
   "pygments_lexer": "ipython2",
   "version": "2.7.12"
  }
 },
 "nbformat": 4,
 "nbformat_minor": 2
}
