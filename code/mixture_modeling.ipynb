{
 "cells": [
  {
   "cell_type": "code",
   "execution_count": 1,
   "metadata": {},
   "outputs": [],
   "source": [
    "import numpy as np\n",
    "from sklearn import mixture\n",
    "from sklearn.preprocessing import MinMaxScaler\n",
    "import pandas as pd\n",
    "import os\n",
    "import matplotlib.pyplot as plt\n",
    "from matplotlib import animation \n",
    "from map_overlay import MapOverlay\n",
    "import utils\n",
    "import mixture_animation"
   ]
  },
  {
   "cell_type": "code",
   "execution_count": 2,
   "metadata": {
    "collapsed": true
   },
   "outputs": [],
   "source": [
    "curr_dir = os.getcwd()\n",
    "data_path = curr_dir + '/../data/'\n",
    "fig_path = curr_dir + '/../figs/'\n",
    "animation_path = curr_dir + '/../animation/'"
   ]
  },
  {
   "cell_type": "code",
   "execution_count": 3,
   "metadata": {
    "collapsed": true
   },
   "outputs": [],
   "source": [
    "params = utils.load_data(data_path)\n",
    "gps_loc, avg_loads, park_data, N, P, idx_to_day_hour, day_hour_to_idx = params"
   ]
  },
  {
   "cell_type": "code",
   "execution_count": null,
   "metadata": {
    "collapsed": true
   },
   "outputs": [],
   "source": [
    "model_selection = {\"likelihood\": [], \"bic\": [], \"aic\": []} \n",
    "min_comps = 1\n",
    "max_comps = 20\n",
    "\n",
    "for time in range(P):    \n",
    "    likelihoods = []\n",
    "    bics = []\n",
    "    aics = []\n",
    "\n",
    "    for num_comps in range(min_comps, max_comps):\n",
    "        cluster_data = np.hstack((avg_loads[:, time, None], gps_loc))\n",
    "\n",
    "        scaler = MinMaxScaler().fit(cluster_data)\n",
    "        cluster_data = scaler.transform(cluster_data)\n",
    "\n",
    "        gmm = mixture.GaussianMixture(n_init=10, n_components=num_comps, \n",
    "                                      covariance_type='diag').fit(cluster_data)\n",
    "\n",
    "        likelihoods.append(gmm.lower_bound_)\n",
    "        bics.append(gmm.bic(cluster_data))\n",
    "        aics.append(gmm.aic(cluster_data))\n",
    "\n",
    "    model_selection['likelihood'].append(likelihoods)\n",
    "    model_selection['bic'].append(bics)\n",
    "    model_selection['aic'].append(aics)"
   ]
  },
  {
   "cell_type": "code",
   "execution_count": null,
   "metadata": {
    "collapsed": true
   },
   "outputs": [],
   "source": [
    "# Likelihood model selection plot.\n",
    "plt.figure()\n",
    "mean_likelihood = np.mean(np.vstack((model_selection['likelihood'])), axis=0)\n",
    "plt.plot(range(min_comps, max_comps), mean_likelihood, 'o-', color='red')\n",
    "plt.axvline(x=5, color='black')\n",
    "plt.axvline(x=10, color='black')\n",
    "plt.axvline(x=15, color='black')\n",
    "plt.axvline(x=20, color='black')\n",
    "plt.axvline(x=25, color='black')\n",
    "plt.xlabel('Number of Components')\n",
    "plt.ylabel('Likelihood')\n",
    "plt.title('Likelihood Model Selection')\n",
    "plt.savefig(os.path.join(fig_path, 'likelihood_model.png'))\n",
    "\n",
    "# BIC model selection plot.\n",
    "plt.figure()\n",
    "mean_bic = np.mean(np.vstack((model_selection['bic'])), axis=0)\n",
    "plt.plot(range(min_comps, max_comps), mean_bic, 'o-', color='red')\n",
    "plt.axvline(x=5, color='black')\n",
    "plt.axvline(x=10, color='black')\n",
    "plt.axvline(x=15, color='black')\n",
    "plt.axvline(x=20, color='black')\n",
    "plt.axvline(x=25, color='black')\n",
    "plt.xlabel('Number of Components')\n",
    "plt.ylabel('BIC')\n",
    "plt.title('BIC Model Selection')\n",
    "plt.savefig(os.path.join(fig_path, 'bic_model.png'))\n",
    "\n",
    "# AIC model selection plot.\n",
    "plt.figure()\n",
    "mean_aic = np.mean(np.vstack((model_selection['aic'])), axis=0)\n",
    "plt.plot(range(min_comps, max_comps), mean_aic, 'o-', color='red')\n",
    "plt.axvline(x=5, color='black')\n",
    "plt.axvline(x=10, color='black')\n",
    "plt.axvline(x=15, color='black')\n",
    "plt.axvline(x=20, color='black')\n",
    "plt.axvline(x=25, color='black')\n",
    "plt.xlabel('Number of Components')\n",
    "plt.ylabel('AIC')\n",
    "plt.title('AIC Model Selection')\n",
    "plt.savefig(os.path.join(fig_path, 'aic_model.png'))"
   ]
  },
  {
   "cell_type": "code",
   "execution_count": 4,
   "metadata": {
    "collapsed": true
   },
   "outputs": [],
   "source": [
    "num_comps = 4\n",
    "\n",
    "params = mixture_animation.init_animation(gps_loc, num_comps, N, fig_path)\n",
    "fig, ax, scatter, scatter_centroid, patches, ellipses, mp, center, pix_center = params\n",
    "\n",
    "times = range(P)\n",
    "\n",
    "default_means = np.array([[47.61348888, -122.34343007],[47.61179196, -122.34500616],\n",
    "                          [47.61597088, -122.35054099],[47.61706817, -122.34617185]])\n",
    "\n",
    "ani = animation.FuncAnimation(fig=fig, func=mixture_animation.animate, frames=P, \n",
    "                              fargs=(times, ax, scatter, scatter_centroid, patches, \n",
    "                                     ellipses, mp, default_means, center, \n",
    "                                     pix_center, avg_loads, gps_loc, num_comps, ), \n",
    "                              interval=200)\n",
    "\n",
    "\n",
    "FFwriter = animation.FFMpegWriter(fps=1)\n",
    "ani.save(os.path.join(animation_path, 'mixture.mp4'), writer=FFwriter)"
   ]
  }
 ],
 "metadata": {
  "anaconda-cloud": {},
  "kernelspec": {
   "display_name": "Python [conda root]",
   "language": "python",
   "name": "conda-root-py"
  },
  "language_info": {
   "codemirror_mode": {
    "name": "ipython",
    "version": 2
   },
   "file_extension": ".py",
   "mimetype": "text/x-python",
   "name": "python",
   "nbconvert_exporter": "python",
   "pygments_lexer": "ipython2",
   "version": "2.7.12"
  }
 },
 "nbformat": 4,
 "nbformat_minor": 1
}
