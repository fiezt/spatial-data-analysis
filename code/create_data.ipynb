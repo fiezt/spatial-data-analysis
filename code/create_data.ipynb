{
 "cells": [
  {
   "cell_type": "markdown",
   "metadata": {},
   "source": [
    "After you have run the GetDataSDOT and you have data files containing transactions (e.g., 02142017_03232017.csv), then you can run this notebook to compute the loads."
   ]
  },
  {
   "cell_type": "code",
   "execution_count": 1,
   "metadata": {
    "collapsed": true
   },
   "outputs": [],
   "source": [
    "import numpy as np\n",
    "import pandas as pd\n",
    "import matplotlib.pyplot as plt\n",
    "import os\n",
    "import calendar\n",
    "import glob\n",
    "import datetime\n",
    "import load_sdot_utils\n",
    "import pandas as pd\n",
    "from collections import defaultdict"
   ]
  },
  {
   "cell_type": "code",
   "execution_count": 2,
   "metadata": {
    "collapsed": true
   },
   "outputs": [],
   "source": [
    "curr_path = os.getcwd()\n",
    "data_path = curr_path + '/../data'\n",
    "raw_transaction_path = data_path + '/RawTransactionData'\n",
    "belltown_path = data_path + '/Belltown_Minute'\n",
    "commcore_path = data_path + '/CommercialCore_Minute'\n",
    "pikepine_path = data_path + '/PikePine_Minute'\n",
    "firsthill_path = data_path + '/FirstHill_Minute'\n",
    "dennytriangle_path = data_path + '/DennyTriangle_Minute'"
   ]
  },
  {
   "cell_type": "code",
   "execution_count": 3,
   "metadata": {
    "collapsed": true
   },
   "outputs": [],
   "source": [
    "months = [3,4,5,6,7,1,2,3,4,5,6,7]\n",
    "years = [2016,2016,2016,2016,2016,2017,2017,2017,2017,2017,2017,2017]"
   ]
  },
  {
   "cell_type": "code",
   "execution_count": null,
   "metadata": {},
   "outputs": [],
   "source": [
    "for month, year in zip(months, years):\n",
    "    load_sdot_utils.get_data(month, year, raw_transaction_path, verbose=True)"
   ]
  },
  {
   "cell_type": "code",
   "execution_count": 4,
   "metadata": {
    "collapsed": true
   },
   "outputs": [],
   "source": [
    "filenames = []\n",
    "for fi in glob.glob(raw_transaction_path + '/*.csv'):\n",
    "    filenames.append(fi)"
   ]
  },
  {
   "cell_type": "code",
   "execution_count": 5,
   "metadata": {},
   "outputs": [
    {
     "data": {
      "text/plain": [
       "['/Users/tfiez/GitHub/spatial-data-analysis/code/../data/RawTransactionData/01012017_01312017.csv',\n",
       " '/Users/tfiez/GitHub/spatial-data-analysis/code/../data/RawTransactionData/02012017_02282017.csv',\n",
       " '/Users/tfiez/GitHub/spatial-data-analysis/code/../data/RawTransactionData/03012016_03312016.csv',\n",
       " '/Users/tfiez/GitHub/spatial-data-analysis/code/../data/RawTransactionData/03012017_03312017.csv',\n",
       " '/Users/tfiez/GitHub/spatial-data-analysis/code/../data/RawTransactionData/04012016_04302016.csv',\n",
       " '/Users/tfiez/GitHub/spatial-data-analysis/code/../data/RawTransactionData/05012016_05312016.csv',\n",
       " '/Users/tfiez/GitHub/spatial-data-analysis/code/../data/RawTransactionData/06012016_06302016.csv',\n",
       " '/Users/tfiez/GitHub/spatial-data-analysis/code/../data/RawTransactionData/07012016_07312016.csv']"
      ]
     },
     "execution_count": 5,
     "metadata": {},
     "output_type": "execute_result"
    }
   ],
   "source": [
    "filenames"
   ]
  },
  {
   "cell_type": "code",
   "execution_count": 6,
   "metadata": {
    "collapsed": true
   },
   "outputs": [],
   "source": [
    "months = [3,4,5,6,7]\n",
    "years = [2016,2016,2016,2016,2016]"
   ]
  },
  {
   "cell_type": "code",
   "execution_count": 7,
   "metadata": {},
   "outputs": [],
   "source": [
    "filenames = [fi for fi in filenames if '2016' in fi]"
   ]
  },
  {
   "cell_type": "code",
   "execution_count": 8,
   "metadata": {},
   "outputs": [
    {
     "data": {
      "text/plain": [
       "['/Users/tfiez/GitHub/spatial-data-analysis/code/../data/RawTransactionData/03012016_03312016.csv',\n",
       " '/Users/tfiez/GitHub/spatial-data-analysis/code/../data/RawTransactionData/04012016_04302016.csv',\n",
       " '/Users/tfiez/GitHub/spatial-data-analysis/code/../data/RawTransactionData/05012016_05312016.csv',\n",
       " '/Users/tfiez/GitHub/spatial-data-analysis/code/../data/RawTransactionData/06012016_06302016.csv',\n",
       " '/Users/tfiez/GitHub/spatial-data-analysis/code/../data/RawTransactionData/07012016_07312016.csv']"
      ]
     },
     "execution_count": 8,
     "metadata": {},
     "output_type": "execute_result"
    }
   ],
   "source": [
    "filenames"
   ]
  },
  {
   "cell_type": "code",
   "execution_count": 9,
   "metadata": {},
   "outputs": [
    {
     "data": {
      "text/plain": [
       "'/Users/tfiez/GitHub/spatial-data-analysis/code/../data'"
      ]
     },
     "execution_count": 9,
     "metadata": {},
     "output_type": "execute_result"
    }
   ],
   "source": [
    "data_path"
   ]
  },
  {
   "cell_type": "code",
   "execution_count": 17,
   "metadata": {},
   "outputs": [
    {
     "data": {
      "text/plain": [
       "[3, 4, 5, 6, 7]"
      ]
     },
     "execution_count": 17,
     "metadata": {},
     "output_type": "execute_result"
    }
   ],
   "source": [
    "months"
   ]
  },
  {
   "cell_type": "code",
   "execution_count": 18,
   "metadata": {
    "collapsed": true
   },
   "outputs": [],
   "source": [
    "subareas = ['First Hill', 'Denny Triangle', 'Commercial Core']"
   ]
  },
  {
   "cell_type": "code",
   "execution_count": 19,
   "metadata": {},
   "outputs": [
    {
     "name": "stdout",
     "output_type": "stream",
     "text": [
      "Getting loads for month 3 and year 2016 for subarea First Hill\n",
      "Getting loads for month 3 and year 2016 for subarea Denny Triangle\n",
      "Getting loads for month 3 and year 2016 for subarea Commercial Core\n",
      "Getting loads for month 4 and year 2016 for subarea First Hill\n",
      "Getting loads for month 4 and year 2016 for subarea Denny Triangle\n",
      "Getting loads for month 4 and year 2016 for subarea Commercial Core\n",
      "Getting loads for month 5 and year 2016 for subarea First Hill\n",
      "Getting loads for month 5 and year 2016 for subarea Denny Triangle\n",
      "Getting loads for month 5 and year 2016 for subarea Commercial Core\n",
      "Getting loads for month 6 and year 2016 for subarea First Hill\n",
      "Getting loads for month 6 and year 2016 for subarea Denny Triangle\n",
      "Getting loads for month 6 and year 2016 for subarea Commercial Core\n",
      "Getting loads for month 7 and year 2016 for subarea First Hill\n",
      "Getting loads for month 7 and year 2016 for subarea Denny Triangle\n",
      "Getting loads for month 7 and year 2016 for subarea Commercial Core\n"
     ]
    }
   ],
   "source": [
    "load_sdot_utils.create_loads(subareas, months, years, filenames, data_path, verbose=True)"
   ]
  },
  {
   "cell_type": "code",
   "execution_count": 11,
   "metadata": {
    "collapsed": true
   },
   "outputs": [],
   "source": [
    "start_hour = 8\n",
    "end_hour = 20\n",
    "minute_interval = 60\n",
    "file_paths = [belltown_path]"
   ]
  },
  {
   "cell_type": "code",
   "execution_count": 12,
   "metadata": {},
   "outputs": [
    {
     "data": {
      "text/plain": [
       "[2016, 2016, 2016, 2016, 2016]"
      ]
     },
     "execution_count": 12,
     "metadata": {},
     "output_type": "execute_result"
    }
   ],
   "source": [
    "years"
   ]
  },
  {
   "cell_type": "code",
   "execution_count": 13,
   "metadata": {},
   "outputs": [
    {
     "data": {
      "text/plain": [
       "[3, 4, 5, 6, 7]"
      ]
     },
     "execution_count": 13,
     "metadata": {},
     "output_type": "execute_result"
    }
   ],
   "source": [
    "months"
   ]
  },
  {
   "cell_type": "code",
   "execution_count": 14,
   "metadata": {},
   "outputs": [
    {
     "data": {
      "text/plain": [
       "'/Users/tfiez/GitHub/spatial-data-analysis/code/../data/Belltown_Minute'"
      ]
     },
     "execution_count": 14,
     "metadata": {},
     "output_type": "execute_result"
    }
   ],
   "source": [
    "belltown_path"
   ]
  },
  {
   "cell_type": "code",
   "execution_count": 15,
   "metadata": {},
   "outputs": [],
   "source": [
    "load_sdot_utils.aggregate_loads(start_hour, end_hour, minute_interval, months, years, file_paths)"
   ]
  },
  {
   "cell_type": "code",
   "execution_count": null,
   "metadata": {},
   "outputs": [],
   "source": [
    "df"
   ]
  },
  {
   "cell_type": "code",
   "execution_count": null,
   "metadata": {},
   "outputs": [],
   "source": [
    "df.loc[540:599]"
   ]
  },
  {
   "cell_type": "code",
   "execution_count": null,
   "metadata": {},
   "outputs": [],
   "source": [
    "df.loc[540:599]"
   ]
  },
  {
   "cell_type": "code",
   "execution_count": null,
   "metadata": {
    "collapsed": true
   },
   "outputs": [],
   "source": []
  }
 ],
 "metadata": {
  "anaconda-cloud": {},
  "kernelspec": {
   "display_name": "Python [default]",
   "language": "python",
   "name": "python2"
  },
  "language_info": {
   "codemirror_mode": {
    "name": "ipython",
    "version": 2
   },
   "file_extension": ".py",
   "mimetype": "text/x-python",
   "name": "python",
   "nbconvert_exporter": "python",
   "pygments_lexer": "ipython2",
   "version": "2.7.12"
  }
 },
 "nbformat": 4,
 "nbformat_minor": 1
}
