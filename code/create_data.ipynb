{
 "cells": [
  {
   "cell_type": "markdown",
   "metadata": {},
   "source": [
    "After you have run the GetDataSDOT and you have data files containing transactions (e.g., 02142017_03232017.csv), then you can run this notebook to compute the loads."
   ]
  },
  {
   "cell_type": "code",
   "execution_count": 2,
   "metadata": {
    "collapsed": true
   },
   "outputs": [],
   "source": [
    "import numpy as np\n",
    "import pandas as pd\n",
    "import matplotlib.pyplot as plt\n",
    "import os\n",
    "import calendar\n",
    "import glob\n",
    "import datetime\n",
    "import load_sdot_utils\n",
    "import pandas as pd"
   ]
  },
  {
   "cell_type": "code",
   "execution_count": 4,
   "metadata": {
    "collapsed": true
   },
   "outputs": [],
   "source": [
    "curr_path = os.getcwd()\n",
    "data_path = curr_path + '/../data'\n",
    "raw_transaction_path = data_path + '/RawTransactionData'\n",
    "belltown_path = data_path + '/Belltown_Minute'\n",
    "commcore_path = data_path + '/CommercialCore_Minute'\n",
    "pikepine_path = data_path + '/PikePine_Minute'"
   ]
  },
  {
   "cell_type": "code",
   "execution_count": 6,
   "metadata": {},
   "outputs": [
    {
     "data": {
      "text/plain": [
       "array(['Green Lake', 'Fremont', 'Uptown Triangle', 'Belltown', nan,\n",
       "       'Ballard', 'University District', 'Uptown', 'Westlake Ave N',\n",
       "       'Denny Triangle', 'Pike-Pine', 'Pioneer Square', 'Commercial Core',\n",
       "       'Cherry Hill', '12th Avenue', 'Capitol Hill', 'Chinatown/ID',\n",
       "       'South Lake Union', 'First Hill', 'Roosevelt', 'Ballard Locks'], dtype=object)"
      ]
     },
     "execution_count": 6,
     "metadata": {},
     "output_type": "execute_result"
    }
   ],
   "source": [
    "pd.read_csv(os.path.join(data_path, 'block_info.csv'))['PaidParkingArea'].unique()"
   ]
  },
  {
   "cell_type": "code",
   "execution_count": 4,
   "metadata": {
    "collapsed": true
   },
   "outputs": [],
   "source": [
    "# load_sdot_utils.get_data(6, 2017, file_path=raw_transaction_path, verbose=True)\n",
    "# load_sdot_utils.get_data(7, 2017, file_path=raw_transaction_path, verbose=True)"
   ]
  },
  {
   "cell_type": "code",
   "execution_count": 7,
   "metadata": {
    "collapsed": true
   },
   "outputs": [],
   "source": [
    "filenames = []\n",
    "for fi in glob.glob(raw_transaction_path + '/*.csv'):\n",
    "    filenames.append(fi)"
   ]
  },
  {
   "cell_type": "code",
   "execution_count": 8,
   "metadata": {
    "collapsed": true
   },
   "outputs": [],
   "source": [
    "months = [1,2,3,4,5,6,7]\n",
    "years = [2017,2017,2017,2017,2017,2017,2017]"
   ]
  },
  {
   "cell_type": "code",
   "execution_count": 9,
   "metadata": {
    "collapsed": true
   },
   "outputs": [],
   "source": [
    "subareas = ['First Hill', 'Denny Triangle']"
   ]
  },
  {
   "cell_type": "code",
   "execution_count": null,
   "metadata": {},
   "outputs": [
    {
     "name": "stdout",
     "output_type": "stream",
     "text": [
      "Getting loads for month 1 and year 2017 for subarea First Hill\n",
      "Getting loads for month 1 and year 2017 for subarea Denny Triangle\n",
      "Getting loads for month 2 and year 2017 for subarea First Hill\n",
      "Getting loads for month 2 and year 2017 for subarea Denny Triangle\n",
      "Getting loads for month 3 and year 2017 for subarea First Hill\n",
      "Getting loads for month 3 and year 2017 for subarea Denny Triangle\n",
      "Getting loads for month 4 and year 2017 for subarea First Hill\n",
      "Getting loads for month 4 and year 2017 for subarea Denny Triangle\n",
      "Getting loads for month 5 and year 2017 for subarea First Hill\n",
      "Getting loads for month 5 and year 2017 for subarea Denny Triangle\n"
     ]
    }
   ],
   "source": [
    "load_sdot_utils.create_loads(subareas, months, years, filenames, data_path, verbose=True)"
   ]
  },
  {
   "cell_type": "code",
   "execution_count": 11,
   "metadata": {
    "collapsed": true
   },
   "outputs": [],
   "source": [
    "start_hour = 8\n",
    "end_hour = 20\n",
    "minute_interval = 60\n",
    "file_paths = [belltown_path, commcore_path, pikepine_path]"
   ]
  },
  {
   "cell_type": "code",
   "execution_count": 12,
   "metadata": {
    "collapsed": true
   },
   "outputs": [],
   "source": [
    "load_sdot_utils.aggregate_loads(start_hour, end_hour, minute_interval, file_paths)"
   ]
  },
  {
   "cell_type": "code",
   "execution_count": 13,
   "metadata": {
    "collapsed": true
   },
   "outputs": [],
   "source": [
    "check = 10\n",
    "\n",
    "def test():\n",
    "    print check"
   ]
  },
  {
   "cell_type": "code",
   "execution_count": 15,
   "metadata": {},
   "outputs": [
    {
     "name": "stdout",
     "output_type": "stream",
     "text": [
      "10\n"
     ]
    }
   ],
   "source": [
    "test()"
   ]
  },
  {
   "cell_type": "code",
   "execution_count": null,
   "metadata": {
    "collapsed": true
   },
   "outputs": [],
   "source": []
  }
 ],
 "metadata": {
  "anaconda-cloud": {},
  "kernelspec": {
   "display_name": "Python [default]",
   "language": "python",
   "name": "python2"
  },
  "language_info": {
   "codemirror_mode": {
    "name": "ipython",
    "version": 2
   },
   "file_extension": ".py",
   "mimetype": "text/x-python",
   "name": "python",
   "nbconvert_exporter": "python",
   "pygments_lexer": "ipython2",
   "version": "2.7.12"
  }
 },
 "nbformat": 4,
 "nbformat_minor": 1
}
