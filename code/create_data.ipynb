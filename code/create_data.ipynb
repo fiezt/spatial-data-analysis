{
 "cells": [
  {
   "cell_type": "code",
   "execution_count": 1,
   "metadata": {
    "collapsed": true
   },
   "outputs": [],
   "source": [
    "import numpy as np\n",
    "import pandas as pd\n",
    "import matplotlib.pyplot as plt\n",
    "import os\n",
    "import calendar\n",
    "import glob\n",
    "import datetime\n",
    "import load_sdot_utils\n",
    "import pandas as pd\n",
    "from collections import defaultdict"
   ]
  },
  {
   "cell_type": "code",
   "execution_count": 2,
   "metadata": {
    "collapsed": true
   },
   "outputs": [],
   "source": [
    "curr_path = os.getcwd()\n",
    "data_path = curr_path + '/../data'\n",
    "raw_transaction_path = data_path + '/RawTransactionData'\n",
    "belltown_path = data_path + '/Belltown_Minute'\n",
    "commcore_path = data_path + '/CommercialCore_Minute'\n",
    "pikepine_path = data_path + '/PikePine_Minute'\n",
    "firsthill_path = data_path + '/FirstHill_Minute'\n",
    "dennytriangle_path = data_path + '/DennyTriangle_Minute'"
   ]
  },
  {
   "cell_type": "code",
   "execution_count": 3,
   "metadata": {
    "collapsed": true
   },
   "outputs": [],
   "source": [
    "months = [4, 5, 6, 7]\n",
    "years = [2017,2017,2017,2017]"
   ]
  },
  {
   "cell_type": "code",
   "execution_count": null,
   "metadata": {},
   "outputs": [],
   "source": [
    "for month, year in zip(months, years):\n",
    "    load_sdot_utils.get_data(month, year, raw_transaction_path, verbose=False)"
   ]
  },
  {
   "cell_type": "code",
   "execution_count": 14,
   "metadata": {},
   "outputs": [],
   "source": [
    "filenames = []\n",
    "for fi in glob.glob(raw_transaction_path + '/*.csv'):\n",
    "    filenames.append(fi)\n",
    "    \n",
    "filenames = sorted(filenames, key=lambda fi: datetime.datetime.strptime(fi.split('/')[-1].split('_')[0], '%m%d%Y'))"
   ]
  },
  {
   "cell_type": "code",
   "execution_count": 24,
   "metadata": {},
   "outputs": [],
   "source": [
    "month_years = [fi.split('/')[-1].split('_')[0] for fi in filenames]\n",
    "month_years = [(int(date[0:2]), int(date[4:])) for date in month_years]\n",
    "months = [month_year[0] for month_year in month_years]\n",
    "years = [month_year[1] for month_year in month_years]\n",
    "subareas = ['First Hill', 'Denny Triangle', 'Commercial Core', 'Pike-Pine']"
   ]
  },
  {
   "cell_type": "code",
   "execution_count": 25,
   "metadata": {},
   "outputs": [
    {
     "name": "stdout",
     "output_type": "stream",
     "text": [
      "Getting loads for month 3 and year 2016 for subarea First Hill\n",
      "Getting loads for month 3 and year 2016 for subarea Denny Triangle\n",
      "Getting loads for month 3 and year 2016 for subarea Commercial Core\n",
      "Getting loads for month 3 and year 2016 for subarea Pike-Pine\n",
      "Getting loads for month 4 and year 2016 for subarea First Hill\n",
      "Getting loads for month 4 and year 2016 for subarea Denny Triangle\n",
      "Getting loads for month 4 and year 2016 for subarea Commercial Core\n",
      "Getting loads for month 4 and year 2016 for subarea Pike-Pine\n",
      "Getting loads for month 5 and year 2016 for subarea First Hill\n",
      "Getting loads for month 5 and year 2016 for subarea Denny Triangle\n",
      "Getting loads for month 5 and year 2016 for subarea Commercial Core\n",
      "Getting loads for month 5 and year 2016 for subarea Pike-Pine\n",
      "Getting loads for month 6 and year 2016 for subarea First Hill\n",
      "Getting loads for month 6 and year 2016 for subarea Denny Triangle\n",
      "Getting loads for month 6 and year 2016 for subarea Commercial Core\n",
      "Getting loads for month 6 and year 2016 for subarea Pike-Pine\n",
      "Getting loads for month 7 and year 2016 for subarea First Hill\n",
      "Getting loads for month 7 and year 2016 for subarea Denny Triangle\n",
      "Getting loads for month 7 and year 2016 for subarea Commercial Core\n",
      "Getting loads for month 7 and year 2016 for subarea Pike-Pine\n",
      "Getting loads for month 1 and year 2017 for subarea First Hill\n",
      "Getting loads for month 1 and year 2017 for subarea Denny Triangle\n",
      "Getting loads for month 1 and year 2017 for subarea Commercial Core\n",
      "Getting loads for month 1 and year 2017 for subarea Pike-Pine\n",
      "Getting loads for month 2 and year 2017 for subarea First Hill\n",
      "Getting loads for month 2 and year 2017 for subarea Denny Triangle\n",
      "Getting loads for month 2 and year 2017 for subarea Commercial Core\n",
      "Getting loads for month 2 and year 2017 for subarea Pike-Pine\n",
      "Getting loads for month 3 and year 2017 for subarea First Hill\n",
      "Getting loads for month 3 and year 2017 for subarea Denny Triangle\n",
      "Getting loads for month 3 and year 2017 for subarea Commercial Core\n",
      "Getting loads for month 3 and year 2017 for subarea Pike-Pine\n",
      "Getting loads for month 4 and year 2017 for subarea First Hill\n",
      "Getting loads for month 4 and year 2017 for subarea Denny Triangle\n",
      "Getting loads for month 4 and year 2017 for subarea Commercial Core\n",
      "Getting loads for month 4 and year 2017 for subarea Pike-Pine\n",
      "Getting loads for month 5 and year 2017 for subarea First Hill\n",
      "Getting loads for month 5 and year 2017 for subarea Denny Triangle\n",
      "Getting loads for month 5 and year 2017 for subarea Commercial Core\n",
      "Getting loads for month 5 and year 2017 for subarea Pike-Pine\n",
      "Getting loads for month 6 and year 2017 for subarea First Hill\n",
      "Getting loads for month 6 and year 2017 for subarea Denny Triangle\n",
      "Getting loads for month 6 and year 2017 for subarea Commercial Core\n",
      "Getting loads for month 6 and year 2017 for subarea Pike-Pine\n",
      "Getting loads for month 7 and year 2017 for subarea First Hill\n",
      "Getting loads for month 7 and year 2017 for subarea Denny Triangle\n",
      "Getting loads for month 7 and year 2017 for subarea Commercial Core\n",
      "Getting loads for month 7 and year 2017 for subarea Pike-Pine\n"
     ]
    }
   ],
   "source": [
    "load_sdot_utils.create_loads(subareas, months, years, filenames, data_path, verbose=True)"
   ]
  },
  {
   "cell_type": "code",
   "execution_count": 11,
   "metadata": {
    "collapsed": true
   },
   "outputs": [],
   "source": [
    "start_hour = 8\n",
    "end_hour = 20\n",
    "minute_interval = 60\n",
    "file_paths = [belltown_path]"
   ]
  },
  {
   "cell_type": "code",
   "execution_count": 14,
   "metadata": {},
   "outputs": [
    {
     "data": {
      "text/plain": [
       "'/Users/tfiez/GitHub/spatial-data-analysis/code/../data/Belltown_Minute'"
      ]
     },
     "execution_count": 14,
     "metadata": {},
     "output_type": "execute_result"
    }
   ],
   "source": [
    "belltown_path"
   ]
  },
  {
   "cell_type": "code",
   "execution_count": 15,
   "metadata": {
    "collapsed": true
   },
   "outputs": [],
   "source": [
    "load_sdot_utils.aggregate_loads(start_hour, end_hour, minute_interval, months, years, file_paths)"
   ]
  }
 ],
 "metadata": {
  "anaconda-cloud": {},
  "kernelspec": {
   "display_name": "Python [default]",
   "language": "python",
   "name": "python2"
  },
  "language_info": {
   "codemirror_mode": {
    "name": "ipython",
    "version": 2
   },
   "file_extension": ".py",
   "mimetype": "text/x-python",
   "name": "python",
   "nbconvert_exporter": "python",
   "pygments_lexer": "ipython2",
   "version": "2.7.12"
  }
 },
 "nbformat": 4,
 "nbformat_minor": 1
}
