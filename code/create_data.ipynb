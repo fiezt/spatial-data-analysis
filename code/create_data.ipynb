{
 "cells": [
  {
   "cell_type": "code",
   "execution_count": 1,
   "metadata": {
    "collapsed": true
   },
   "outputs": [],
   "source": [
    "import numpy as np\n",
    "import pandas as pd\n",
    "import matplotlib.pyplot as plt\n",
    "import os\n",
    "import calendar\n",
    "import glob\n",
    "import datetime\n",
    "import load_sdot_utils\n",
    "import pandas as pd\n",
    "from collections import defaultdict"
   ]
  },
  {
   "cell_type": "code",
   "execution_count": 2,
   "metadata": {
    "collapsed": true
   },
   "outputs": [],
   "source": [
    "curr_path = os.getcwd()\n",
    "data_path = curr_path + '/../data'\n",
    "raw_transaction_path = data_path + '/RawTransactionData'\n",
    "belltown_path = data_path + '/Belltown_Minute'\n",
    "commcore_path = data_path + '/CommercialCore_Minute'\n",
    "pikepine_path = data_path + '/PikePine_Minute'\n",
    "firsthill_path = data_path + '/FirstHill_Minute'\n",
    "dennytriangle_path = data_path + '/DennyTriangle_Minute'\n",
    "uptown_path = data_path + '/Uptown_Minute'\n",
    "uptowntriangle_path = data_path + '/UptownTriangle_Minute'\n",
    "southlakeunion_path = data_path + '/SouthLakeUnion_Minute'"
   ]
  },
  {
   "cell_type": "code",
   "execution_count": 31,
   "metadata": {
    "collapsed": true
   },
   "outputs": [],
   "source": [
    "filenames = []\n",
    "for fi in glob.glob(raw_transaction_path + '/*.csv'):\n",
    "    filenames.append(fi)\n",
    "\n",
    "filenames = sorted(filenames, key=lambda fi: datetime.datetime.strptime(\n",
    "    fi.split('/')[-1].split('_')[0], '%m%d%Y'))"
   ]
  },
  {
   "cell_type": "code",
   "execution_count": 32,
   "metadata": {
    "collapsed": true
   },
   "outputs": [],
   "source": [
    "months_years = [fi.split('/')[-1].split('_')[0] for fi in filenames]\n",
    "months_years = [(int(date[0:2]), int(date[4:])) for date in months_years]\n",
    "#months_years = months_years[7:]\n",
    "months = [month_year[0] for month_year in months_years]\n",
    "years = [month_year[1] for month_year in months_years]\n",
    "subareas = ['Uptown Triangle', 'Uptown', 'South Lake Union']\n",
    "#filenames = filenames[7:]"
   ]
  },
  {
   "cell_type": "code",
   "execution_count": null,
   "metadata": {
    "collapsed": true
   },
   "outputs": [],
   "source": [
    "load_sdot_utils.create_loads(subareas, months, years, filenames, data_path,\n",
    "                             verbose=True)"
   ]
  },
  {
   "cell_type": "code",
   "execution_count": 15,
   "metadata": {},
   "outputs": [],
   "source": [
    "months_years = months_years[5:-3]"
   ]
  },
  {
   "cell_type": "code",
   "execution_count": 17,
   "metadata": {},
   "outputs": [],
   "source": [
    "filenames = filenames[5:-3]"
   ]
  },
  {
   "cell_type": "code",
   "execution_count": 18,
   "metadata": {
    "collapsed": true
   },
   "outputs": [],
   "source": [
    "start_hour = 8\n",
    "end_hour = 20\n",
    "minute_interval = 60\n",
    "file_paths = [belltown_path]"
   ]
  },
  {
   "cell_type": "code",
   "execution_count": 33,
   "metadata": {},
   "outputs": [
    {
     "data": {
      "text/plain": [
       "[(3, 2016),\n",
       " (4, 2016),\n",
       " (5, 2016),\n",
       " (6, 2016),\n",
       " (7, 2016),\n",
       " (1, 2017),\n",
       " (2, 2017),\n",
       " (3, 2017),\n",
       " (4, 2017),\n",
       " (5, 2017),\n",
       " (6, 2017),\n",
       " (7, 2017)]"
      ]
     },
     "execution_count": 33,
     "metadata": {},
     "output_type": "execute_result"
    }
   ],
   "source": [
    "months_years"
   ]
  },
  {
   "cell_type": "code",
   "execution_count": 34,
   "metadata": {},
   "outputs": [],
   "source": [
    "months_years = months_years[5:]"
   ]
  },
  {
   "cell_type": "code",
   "execution_count": 35,
   "metadata": {},
   "outputs": [
    {
     "data": {
      "text/plain": [
       "[(1, 2017), (2, 2017), (3, 2017), (4, 2017), (5, 2017), (6, 2017), (7, 2017)]"
      ]
     },
     "execution_count": 35,
     "metadata": {},
     "output_type": "execute_result"
    }
   ],
   "source": [
    "months_years"
   ]
  },
  {
   "cell_type": "code",
   "execution_count": 36,
   "metadata": {
    "collapsed": true
   },
   "outputs": [],
   "source": [
    "load_sdot_utils.aggregate_loads(start_hour, end_hour, minute_interval, months_years, file_paths)"
   ]
  },
  {
   "cell_type": "code",
   "execution_count": null,
   "metadata": {
    "collapsed": true
   },
   "outputs": [],
   "source": []
  }
 ],
 "metadata": {
  "anaconda-cloud": {},
  "kernelspec": {
   "display_name": "Python [default]",
   "language": "python",
   "name": "python2"
  },
  "language_info": {
   "codemirror_mode": {
    "name": "ipython",
    "version": 2
   },
   "file_extension": ".py",
   "mimetype": "text/x-python",
   "name": "python",
   "nbconvert_exporter": "python",
   "pygments_lexer": "ipython2",
   "version": "2.7.12"
  }
 },
 "nbformat": 4,
 "nbformat_minor": 1
}
