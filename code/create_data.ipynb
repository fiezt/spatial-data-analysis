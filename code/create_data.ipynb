{
 "cells": [
  {
   "cell_type": "markdown",
   "metadata": {},
   "source": [
    "After you have run the GetDataSDOT and you have data files containing transactions (e.g., 02142017_03232017.csv), then you can run this notebook to compute the loads."
   ]
  },
  {
   "cell_type": "code",
   "execution_count": 1,
   "metadata": {
    "collapsed": true
   },
   "outputs": [],
   "source": [
    "import numpy as np\n",
    "import pandas as pd\n",
    "import matplotlib.pyplot as plt\n",
    "import os\n",
    "import calendar\n",
    "import glob\n",
    "import datetime\n",
    "import load_sdot_utils"
   ]
  },
  {
   "cell_type": "code",
   "execution_count": 2,
   "metadata": {
    "collapsed": true
   },
   "outputs": [],
   "source": [
    "curr_path = os.getcwd()\n",
    "data_path = curr_path + '/../data'\n",
    "raw_transaction_path = data_path + '/RawTransactionData'\n",
    "belltown_path = data_path + '/Belltown_Minute'\n",
    "commcore_path = data_path + '/CommercialCore_Minute'\n",
    "pikepine_path = data_path + '/PikePine_Minute'"
   ]
  },
  {
   "cell_type": "code",
   "execution_count": 3,
   "metadata": {},
   "outputs": [
    {
     "name": "stdout",
     "output_type": "stream",
     "text": [
      "Retrieving data from 06012017 to 06022017\n",
      "Retrieving data from 06022017 to 06032017\n",
      "Retrieving data from 06032017 to 06042017\n",
      "Retrieving data from 06042017 to 06052017\n",
      "Retrieving data from 06052017 to 06062017\n",
      "Retrieving data from 06062017 to 06072017\n",
      "Retrieving data from 06072017 to 06082017\n",
      "Retrieving data from 06082017 to 06092017\n",
      "Retrieving data from 06092017 to 06102017\n",
      "Retrieving data from 06102017 to 06112017\n",
      "Retrieving data from 06112017 to 06122017\n",
      "Retrieving data from 06122017 to 06132017\n",
      "Retrieving data from 06132017 to 06142017\n",
      "Retrieving data from 06142017 to 06152017\n",
      "Retrieving data from 06152017 to 06162017\n",
      "Retrieving data from 06162017 to 06172017\n",
      "Retrieving data from 06172017 to 06182017\n",
      "Retrieving data from 06182017 to 06192017\n",
      "Retrieving data from 06192017 to 06202017\n",
      "Retrieving data from 06202017 to 06212017\n",
      "Retrieving data from 06212017 to 06222017\n",
      "Retrieving data from 06222017 to 06232017\n",
      "Retrieving data from 06232017 to 06242017\n",
      "Retrieving data from 06242017 to 06252017\n",
      "Retrieving data from 06252017 to 06262017\n",
      "Retrieving data from 06262017 to 06272017\n",
      "Retrieving data from 06272017 to 06282017\n",
      "Retrieving data from 06282017 to 06292017\n",
      "Retrieving data from 06292017 to 06302017\n",
      "Retrieving data from 07012017 to 07022017\n",
      "Retrieving data from 07022017 to 07032017\n",
      "Retrieving data from 07032017 to 07042017\n",
      "Retrieving data from 07042017 to 07052017\n",
      "Retrieving data from 07052017 to 07062017\n",
      "Retrieving data from 07062017 to 07072017\n",
      "Retrieving data from 07072017 to 07082017\n",
      "Retrieving data from 07082017 to 07092017\n",
      "Retrieving data from 07092017 to 07102017\n",
      "Retrieving data from 07102017 to 07112017\n",
      "Retrieving data from 07112017 to 07122017\n",
      "Retrieving data from 07122017 to 07132017\n",
      "Retrieving data from 07132017 to 07142017\n",
      "Retrieving data from 07142017 to 07152017\n",
      "Retrieving data from 07152017 to 07162017\n",
      "Retrieving data from 07162017 to 07172017\n",
      "Retrieving data from 07172017 to 07182017\n",
      "Retrieving data from 07182017 to 07192017\n",
      "Retrieving data from 07192017 to 07202017\n",
      "Retrieving data from 07202017 to 07212017\n",
      "Retrieving data from 07212017 to 07222017\n",
      "Retrieving data from 07222017 to 07232017\n",
      "Retrieving data from 07232017 to 07242017\n",
      "Retrieving data from 07242017 to 07252017\n",
      "Retrieving data from 07252017 to 07262017\n",
      "Retrieving data from 07262017 to 07272017\n",
      "Retrieving data from 07272017 to 07282017\n",
      "Retrieving data from 07282017 to 07292017\n",
      "Retrieving data from 07292017 to 07302017\n",
      "Retrieving data from 07302017 to 07312017\n"
     ]
    }
   ],
   "source": [
    "load_sdot_utils.get_data(6, 2017, file_path=raw_transaction_path, verbose=True)\n",
    "load_sdot_utils.get_data(7, 2017, file_path=raw_transaction_path, verbose=True)"
   ]
  },
  {
   "cell_type": "code",
   "execution_count": 5,
   "metadata": {},
   "outputs": [],
   "source": [
    "filenames = []\n",
    "for fi in glob.glob(raw_transaction_path + '/*.csv'):\n",
    "    filenames.append(fi)"
   ]
  },
  {
   "cell_type": "code",
   "execution_count": 16,
   "metadata": {},
   "outputs": [],
   "source": [
    "months = [7]\n",
    "years = [2017]"
   ]
  },
  {
   "cell_type": "code",
   "execution_count": 17,
   "metadata": {},
   "outputs": [],
   "source": [
    "subareas = ['Belltown', 'Commercial Core', 'Pike-Pine']"
   ]
  },
  {
   "cell_type": "code",
   "execution_count": 14,
   "metadata": {
    "collapsed": true
   },
   "outputs": [],
   "source": [
    "filenames = filenames[-1:]"
   ]
  },
  {
   "cell_type": "code",
   "execution_count": 18,
   "metadata": {},
   "outputs": [
    {
     "name": "stdout",
     "output_type": "stream",
     "text": [
      "Getting loads for month 7 and year 2017 for subarea Belltown\n",
      "Getting loads for month 7 and year 2017 for subarea Commercial Core\n",
      "Getting loads for month 7 and year 2017 for subarea Pike-Pine\n"
     ]
    }
   ],
   "source": [
    "load_sdot_utils.create_loads(subareas, months, years, filenames, data_path, verbose=True)"
   ]
  },
  {
   "cell_type": "code",
   "execution_count": null,
   "metadata": {
    "collapsed": true
   },
   "outputs": [],
   "source": [
    "start_hour = 8\n",
    "end_hour = 20\n",
    "minute_interval = 60\n",
    "file_paths = [belltown_path, commcore_path, pikepine_path]"
   ]
  },
  {
   "cell_type": "code",
   "execution_count": null,
   "metadata": {
    "collapsed": true
   },
   "outputs": [],
   "source": [
    "load_sdot_utils.aggregate_loads(start_hour, end_hour, minute_interval, file_paths)"
   ]
  }
 ],
 "metadata": {
  "anaconda-cloud": {},
  "kernelspec": {
   "display_name": "Python [default]",
   "language": "python",
   "name": "python2"
  },
  "language_info": {
   "codemirror_mode": {
    "name": "ipython",
    "version": 2
   },
   "file_extension": ".py",
   "mimetype": "text/x-python",
   "name": "python",
   "nbconvert_exporter": "python",
   "pygments_lexer": "ipython2",
   "version": "2.7.12"
  }
 },
 "nbformat": 4,
 "nbformat_minor": 1
}
