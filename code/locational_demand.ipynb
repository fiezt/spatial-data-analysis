{
 "cells": [
  {
   "cell_type": "code",
   "execution_count": 1,
   "metadata": {
    "collapsed": true
   },
   "outputs": [],
   "source": [
    "import numpy as np\n",
    "import pandas as pd\n",
    "import os\n",
    "import matplotlib.pyplot as plt\n",
    "import scipy.stats as st\n",
    "import pickle\n",
    "import utils\n",
    "import moran_auto\n",
    "import gmm\n",
    "import kmeans_utils\n",
    "import figure_functions\n",
    "from sklearn.preprocessing import MinMaxScaler\n",
    "from sklearn import mixture\n",
    "from sklearn.cluster import KMeans\n",
    "import csv\n",
    "from scipy.misc import imread\n",
    "from collections import defaultdict\n",
    "from matplotlib.patches import Ellipse\n",
    "from matplotlib.patches import Polygon\n",
    "import glob\n",
    "from pandas.tseries.holiday import USFederalHolidayCalendar\n",
    "import datetime\n",
    "import gmplot\n",
    "import matplotlib.cm as cm\n",
    "import run_all"
   ]
  },
  {
   "cell_type": "code",
   "execution_count": 2,
   "metadata": {
    "collapsed": true
   },
   "outputs": [],
   "source": [
    "curr_dir = os.getcwd()\n",
    "data_path = curr_dir + '/../data'\n",
    "fig_path = curr_dir + '/../figs'\n",
    "results_path = curr_dir + '/../results'\n",
    "animation_path = curr_dir + '/../animation'\n",
    "belltown_path = data_path + '/Belltown_Hour'\n",
    "commcore_path = data_path + '/CommercialCore_Hour'\n",
    "pikepine_path = data_path + '/PikePine_Hour'"
   ]
  },
  {
   "cell_type": "code",
   "execution_count": 3,
   "metadata": {},
   "outputs": [],
   "source": [
    "element_keys, gps_loc, loads, park_data, N, P, idx_to_day_hour, day_hour_to_idx = utils.load_data_new(data_path, belltown_path)"
   ]
  },
  {
   "cell_type": "code",
   "execution_count": 4,
   "metadata": {
    "collapsed": true
   },
   "outputs": [],
   "source": [
    "time = 8"
   ]
  },
  {
   "cell_type": "code",
   "execution_count": 5,
   "metadata": {},
   "outputs": [],
   "source": [
    "run_all.run_figures(loads, gps_loc, N, P, fig_path, animation_path, time)"
   ]
  },
  {
   "cell_type": "code",
   "execution_count": null,
   "metadata": {},
   "outputs": [],
   "source": [
    "figure_functions.spatial_heterogeneity(loads, time, N, fig_path)"
   ]
  },
  {
   "cell_type": "code",
   "execution_count": null,
   "metadata": {
    "collapsed": true
   },
   "outputs": [],
   "source": [
    "bins = range(N)\n",
    "\n",
    "mask = ~np.isnan(loads[:, time])\n",
    "loads = loads[mask]\n",
    "\n",
    "# Getting the load data for a specific time to plot for each block key.\n",
    "counts = loads[:, time] * 100"
   ]
  },
  {
   "cell_type": "code",
   "execution_count": null,
   "metadata": {},
   "outputs": [],
   "source": [
    "loads.shape"
   ]
  },
  {
   "cell_type": "code",
   "execution_count": null,
   "metadata": {},
   "outputs": [],
   "source": [
    "idx_to_day_hour"
   ]
  },
  {
   "cell_type": "code",
   "execution_count": null,
   "metadata": {
    "collapsed": true
   },
   "outputs": [],
   "source": [
    "gps_loc, belltown_avg_loads, park_data, N, P, idx_to_day_hour, day_hour_to_idx, element_keys_belltown = load_data(data_path, belltown_path)\n",
    "gps_loc, commcore_avg_loads, park_data, N, P, idx_to_day_hour, day_hour_to_idx, element_keys_commcore = load_data(data_path, commcore_path)\n",
    "gps_loc, pikepine_avg_loads, park_data, N, P, idx_to_day_hour, day_hour_to_idx, element_keys_pikepine = load_data(data_path, pikepine_path)"
   ]
  },
  {
   "cell_type": "code",
   "execution_count": null,
   "metadata": {
    "collapsed": true
   },
   "outputs": [],
   "source": [
    "gps_loc, avg_loads, park_data, N, P, idx_to_day_hour, day_hour_to_idx, element_keys = load_data(data_path, belltown_path)"
   ]
  },
  {
   "cell_type": "code",
   "execution_count": null,
   "metadata": {
    "collapsed": true
   },
   "outputs": [],
   "source": [
    "adjacency = np.zeros((len(block_keys), len(block_keys)))\n",
    "N = len(block_keys)\n",
    "\n",
    "for i in xrange(N):\n",
    "    if block_keys[i] in north:\n",
    "        zone1 = 'north'\n",
    "    elif block_keys[i] in south:\n",
    "        zone1 = 'south'\n",
    "    else:\n",
    "        print block_keys[i]\n",
    "    for j in xrange(N):\n",
    "        if i == j:\n",
    "            continue\n",
    "        \n",
    "        if block_keys[j] in north:\n",
    "            zone2 = 'north'\n",
    "        elif block_keys[j] in south:\n",
    "            zone2 = 'south'\n",
    "        else:\n",
    "            print block_keys[j]\n",
    "        \n",
    "        if zone1 == zone2:\n",
    "            adjacency[i, j] = 1\n",
    "        else:\n",
    "            pass"
   ]
  },
  {
   "cell_type": "code",
   "execution_count": null,
   "metadata": {
    "collapsed": true
   },
   "outputs": [],
   "source": [
    "fig_path = r'/Users/tfiez/Dropbox/2017Summer/tex/2018ACC/paper/figs'"
   ]
  },
  {
   "cell_type": "code",
   "execution_count": null,
   "metadata": {
    "collapsed": true
   },
   "outputs": [],
   "source": [
    "for i in range(avg_loads.shape[1]):\n",
    "    print len(np.where(avg_loads[:, i] == 0)[0])"
   ]
  },
  {
   "cell_type": "code",
   "execution_count": null,
   "metadata": {
    "collapsed": true
   },
   "outputs": [],
   "source": [
    "fig, ax = figure_functions.contour_plot(loads=avg_loads, gps_loc=gps_loc, time=51,\n",
    "                                        title='', N=N, filename='contour1.png',\n",
    "                                        fig_path=fig_path, contours=10)\n",
    "\n",
    "fig, ax = figure_functions.mixture_plot(loads=avg_loads, gps_loc=gps_loc, \n",
    "                                            times=[51], N=N, fig_path=fig_path, \n",
    "                                            shape=(1,1), filename='mixture1.png',\n",
    "                                            title='')\n",
    "\n",
    "plt.show()"
   ]
  },
  {
   "cell_type": "code",
   "execution_count": null,
   "metadata": {
    "collapsed": true
   },
   "outputs": [],
   "source": [
    "a = np.random.randn(3, 3)\n",
    "b = np.random.randn(3, 1)\n",
    "c = a*b"
   ]
  },
  {
   "cell_type": "code",
   "execution_count": null,
   "metadata": {
    "collapsed": true
   },
   "outputs": [],
   "source": [
    "c"
   ]
  },
  {
   "cell_type": "code",
   "execution_count": null,
   "metadata": {
    "collapsed": true
   },
   "outputs": [],
   "source": [
    "fig, ax = figure_functions.temporal_day_plots(loads=avg_loads*100, P=P, fig_path=r'/Users/tfiez/Dropbox/2017Summer/tex/2018ACC/paper/figs')"
   ]
  },
  {
   "cell_type": "code",
   "execution_count": null,
   "metadata": {
    "collapsed": true
   },
   "outputs": [],
   "source": [
    "time=50\n",
    "time1 = 50\n",
    "time2 = 58"
   ]
  },
  {
   "cell_type": "code",
   "execution_count": null,
   "metadata": {
    "collapsed": true
   },
   "outputs": [],
   "source": [
    "len(new_park_data.loc[(new_park_data['Day'] == 4) & (new_park_data['Hour'] == 17)]['Date'].unique().tolist())"
   ]
  },
  {
   "cell_type": "code",
   "execution_count": null,
   "metadata": {
    "collapsed": true
   },
   "outputs": [],
   "source": [
    "means = pickle.load(open('means.pkl', 'rb'))"
   ]
  },
  {
   "cell_type": "code",
   "execution_count": null,
   "metadata": {
    "collapsed": true
   },
   "outputs": [],
   "source": [
    "distances, centroids = kmeans_utils.get_distances(means)\n",
    "all_time_points = kmeans_utils.get_centroid_circle_paths(distances, centroids)"
   ]
  },
  {
   "cell_type": "code",
   "execution_count": null,
   "metadata": {
    "collapsed": true
   },
   "outputs": [],
   "source": [
    "fig, ax = figure_functions.centroid_radius(centroids, all_time_points, gps_loc,\n",
    "                                           times=[time2], fig_path=fig_path, shape=(1,1))\n",
    "plt.show()\n",
    "\n",
    "fig, ax = figure_functions.centroid_plots(means, gps_loc, N, times=[time2], \n",
    "                                          fig_path=fig_path, shape=(1,1))\n",
    "plt.show()"
   ]
  },
  {
   "cell_type": "code",
   "execution_count": null,
   "metadata": {
    "collapsed": true
   },
   "outputs": [],
   "source": [
    "[round(val, 2) for val in distances[58]]"
   ]
  },
  {
   "cell_type": "code",
   "execution_count": null,
   "metadata": {
    "collapsed": true
   },
   "outputs": [],
   "source": [
    "distances, centroids = kmeans_utils.get_distances(means)"
   ]
  },
  {
   "cell_type": "code",
   "execution_count": null,
   "metadata": {
    "collapsed": true
   },
   "outputs": [],
   "source": [
    "all_time_points = kmeans_utils.get_centroid_circle_paths(distances, centroids)"
   ]
  },
  {
   "cell_type": "code",
   "execution_count": null,
   "metadata": {
    "collapsed": true
   },
   "outputs": [],
   "source": [
    "fig, ax = figure_functions.centroid_radius(centroids, all_time_points, gps_loc, times=range(6), \n",
    "                                               fig_path=fig_path, shape=(2,3))"
   ]
  },
  {
   "cell_type": "markdown",
   "metadata": {},
   "source": [
    "# Train and Test GMM"
   ]
  },
  {
   "cell_type": "code",
   "execution_count": null,
   "metadata": {
    "collapsed": true
   },
   "outputs": [],
   "source": [
    "park_data, gps_loc, N = utils.load_daily_data(data_path)"
   ]
  },
  {
   "cell_type": "code",
   "execution_count": null,
   "metadata": {
    "collapsed": true
   },
   "outputs": [],
   "source": [
    "check = np.array(sorted(park_data['Load'].values.tolist(), reverse=True))"
   ]
  },
  {
   "cell_type": "code",
   "execution_count": null,
   "metadata": {
    "collapsed": true
   },
   "outputs": [],
   "source": [
    "len(np.where(check > 1.5)[0])/float(len(check)) * 100"
   ]
  },
  {
   "cell_type": "code",
   "execution_count": null,
   "metadata": {
    "collapsed": true
   },
   "outputs": [],
   "source": [
    "pd.DataFrame(range(10), index=range(10), columns=['check'])"
   ]
  },
  {
   "cell_type": "code",
   "execution_count": null,
   "metadata": {
    "collapsed": true
   },
   "outputs": [],
   "source": [
    "results = gmm.locational_demand_analysis(park_data, gps_loc, N)"
   ]
  },
  {
   "cell_type": "code",
   "execution_count": null,
   "metadata": {
    "collapsed": true
   },
   "outputs": [],
   "source": [
    "days = [result[0] for result in results]\n",
    "hours = [result[1] for result in results]\n",
    "errors = [result[2] for result in results]\n",
    "morans_mix = [result[3] for result in results]\n",
    "morans_adj = [result[4] for result in results]\n",
    "means = [result[5] for result in results]"
   ]
  },
  {
   "cell_type": "code",
   "execution_count": null,
   "metadata": {
    "collapsed": true
   },
   "outputs": [],
   "source": [
    "scores, times = kmeans_utils.get_time_scores(means)"
   ]
  },
  {
   "cell_type": "code",
   "execution_count": null,
   "metadata": {
    "collapsed": true
   },
   "outputs": [],
   "source": [
    "best_times = {}\n",
    "best_days = {}\n",
    "for time in times:\n",
    "    day = time/12\n",
    "    hour = time%12 + 8\n",
    "    if hour not in best_times:\n",
    "        best_times[hour] = time\n",
    "    if day not in best_days and hour not in [8, 15,16,17]:\n",
    "        print day, hour\n",
    "        best_days[day] = time"
   ]
  },
  {
   "cell_type": "code",
   "execution_count": null,
   "metadata": {
    "collapsed": true
   },
   "outputs": [],
   "source": [
    "good_times = []\n",
    "\n",
    "for time in times:\n",
    "    if time % 12 + 8 in [8,9]:\n",
    "        continue\n",
    "        \n",
    "    good_times.append(time)\n",
    "    data = np.vstack((means[time]))\n",
    "    kmeans = KMeans(n_clusters=3).fit(data)\n",
    "    labels = kmeans.labels_.tolist()"
   ]
  },
  {
   "cell_type": "code",
   "execution_count": null,
   "metadata": {
    "collapsed": true
   },
   "outputs": [],
   "source": [
    "good_times = best_days.values()"
   ]
  },
  {
   "cell_type": "code",
   "execution_count": null,
   "metadata": {
    "collapsed": true
   },
   "outputs": [],
   "source": [
    "fig, ax = figure_functions.centroid_plots(means, gps_loc, N, times=good_times, fig_path=fig_path, shape=(2,3))"
   ]
  }
 ],
 "metadata": {
  "anaconda-cloud": {},
  "kernelspec": {
   "display_name": "Python [conda root]",
   "language": "python",
   "name": "conda-root-py"
  },
  "language_info": {
   "codemirror_mode": {
    "name": "ipython",
    "version": 2
   },
   "file_extension": ".py",
   "mimetype": "text/x-python",
   "name": "python",
   "nbconvert_exporter": "python",
   "pygments_lexer": "ipython2",
   "version": "2.7.12"
  }
 },
 "nbformat": 4,
 "nbformat_minor": 2
}
