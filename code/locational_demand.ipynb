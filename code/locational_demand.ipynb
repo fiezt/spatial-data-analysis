{
 "cells": [
  {
   "cell_type": "code",
   "execution_count": 109,
   "metadata": {
    "collapsed": true
   },
   "outputs": [],
   "source": [
    "import numpy as np\n",
    "import pandas as pd\n",
    "import os\n",
    "import matplotlib.pyplot as plt\n",
    "import scipy.stats as st\n",
    "import pickle\n",
    "import utils\n",
    "import moran_auto\n",
    "import gmm\n",
    "import kmeans_utils\n",
    "import figure_functions\n",
    "from sklearn.preprocessing import MinMaxScaler\n",
    "from sklearn import mixture\n",
    "from sklearn.cluster import KMeans\n",
    "import csv\n",
    "from scipy.misc import imread\n",
    "from collections import defaultdict\n",
    "from matplotlib.patches import Ellipse\n",
    "from matplotlib.patches import Polygon\n",
    "import glob\n",
    "from pandas.tseries.holiday import USFederalHolidayCalendar\n",
    "import datetime\n",
    "import gmplot\n",
    "import matplotlib.cm as cm"
   ]
  },
  {
   "cell_type": "code",
   "execution_count": 67,
   "metadata": {
    "collapsed": true
   },
   "outputs": [],
   "source": [
    "curr_dir = os.getcwd()\n",
    "data_path = curr_dir + '/../data'\n",
    "fig_path = curr_dir + '/../figs'\n",
    "results_path = curr_dir + '/../results'\n",
    "animation_path = curr_dir + '/../animation'\n",
    "belltown_path = data_path + '/Belltown_Hour'\n",
    "commcore_path = data_path + '/CommercialCore_Hour'\n",
    "pikepine_path = data_path + '/PikePine_Hour'"
   ]
  },
  {
   "cell_type": "code",
   "execution_count": 78,
   "metadata": {},
   "outputs": [],
   "source": [
    "with open(os.path.join(data_path, 'bloclocs.pck'), 'rb') as f:\n",
    "    locations = pickle.load(f)"
   ]
  },
  {
   "cell_type": "code",
   "execution_count": 177,
   "metadata": {},
   "outputs": [
    {
     "name": "stdout",
     "output_type": "stream",
     "text": [
      "54005 12\n",
      "54006 12\n",
      "135261\n"
     ]
    }
   ],
   "source": [
    "gmap = gmplot.GoogleMapPlotter(47.612676, -122.345028, 16)\n",
    "block_info = pd.read_csv(os.path.join(data_path, 'Blockface.csv'))\n",
    "dirs = [belltown_path, commcore_path, pikepine_path]\n",
    "colors = iter(['b', 'g', 'r', 'c', 'm', 'y', 'k', 'w'])\n",
    "area_dict = {}\n",
    "\n",
    "for directory in dirs:\n",
    "\n",
    "    os.chdir(directory)\n",
    "\n",
    "    cal = USFederalHolidayCalendar()\n",
    "    holidays = cal.holidays(start='2000-01-01', end=datetime.datetime.now().date()).to_pydatetime()\n",
    "    holidays = [hol.date() for hol in holidays]\n",
    "\n",
    "    avg_loads = []\n",
    "    gps_loc = []\n",
    "    park_data = {}\n",
    "\n",
    "    for fi in glob.glob('*.csv'):\n",
    "        key = int(fi.split('.')[0])\n",
    "        \n",
    "        \n",
    "        if key in locations:\n",
    "            if len(locations[key]) == 12:\n",
    "                print key, len(locations[key])\n",
    "            curr_block = locations[key]\n",
    "            \n",
    "            lat1, lat2 = curr_block[1], curr_block[-2]\n",
    "            lon1, lon2 = curr_block[0], curr_block[-3]\n",
    "            \n",
    "            mid_lat = (lat1 + lat2)/2.\n",
    "            mid_long = (lon1 + lon2)/2.\n",
    "            gps_loc.append([mid_lat, mid_long])\n",
    "            \n",
    "            areas = block_info.loc[block_info['ElementKey'] == key]['PaidParkingArea'].unique().tolist()\n",
    "            \n",
    "            if np.nan in areas:\n",
    "                areas.remove(np.nan)\n",
    "            \n",
    "            area = areas[0]\n",
    "            \n",
    "            if area not in area_dict:\n",
    "                area_dict[area] = next(colors)\n",
    "            \n",
    "            color_choice = area_dict[area]\n",
    "            \n",
    "            gmap.plot([lat1, lat2], [lon1, lon2], color=color_choice, edge_width=4)\n",
    "        else:\n",
    "            continue\n",
    "        \n",
    "        block_data = pd.read_csv(fi, names=['Datetime', 'Load'])\n",
    "\n",
    "        # Clipping the loads to be no higher than 1.5\n",
    "        block_data['Load'] = block_data['Load'].clip_upper(1.5)\n",
    "        block_data['Datetime'] = pd.to_datetime(block_data['Datetime'])\n",
    "\n",
    "        block_data.sort_values(by='Datetime', inplace=True)\n",
    "        block_data.reset_index(inplace=True, drop=True)\n",
    "\n",
    "        block_data['Date'] = block_data['Datetime'].dt.date\n",
    "        block_data['Hour'] = block_data['Datetime'].dt.hour\n",
    "        block_data['Day'] = block_data['Datetime'].dt.weekday\n",
    "\n",
    "        # Getting rid of Sunday since there is no paid parking.\n",
    "        block_data = block_data.loc[block_data['Day'] != 6]\n",
    "\n",
    "        # Dropping the days where the total parking is 0.\n",
    "        block_data = block_data.loc[~block_data['Date'].isin(holidays)]\n",
    "        block_data.reset_index(inplace=True, drop=True)\n",
    "\n",
    "        park_data[key] = block_data\n",
    "\n",
    "        # Getting the average load for each hour of the week for the block.\n",
    "        avg_load = block_data.groupby(['Day', 'Hour'])['Load'].mean().values.reshape((1,-1))\n",
    "        avg_loads.append(avg_load)\n",
    "\n",
    "\n",
    "\n",
    "    avg_loads = np.vstack((avg_loads))\n",
    "    gps_loc = np.vstack((gps_loc))\n",
    "\n",
    "    index = park_data[key].groupby(['Day', 'Hour']).sum().index\n",
    "\n",
    "    days = index.get_level_values(0).unique().values\n",
    "    days = np.sort(days)\n",
    "\n",
    "    hours = index.get_level_values(1).unique().values\n",
    "    hours = np.sort(hours)\n",
    "\n",
    "    idx_to_day_hour = {i*len(hours) + j:(days[i], hours[j]) for i in range(len(days)) \n",
    "                                                            for j in range(len(hours))}\n",
    "    day_hour_to_idx = {v:k for k,v in idx_to_day_hour.items()}\n",
    "\n",
    "    P = len(idx_to_day_hour)\n",
    "\n",
    "    os.chdir(curr_dir)\n",
    "\n",
    "gmap.draw('test2.html')"
   ]
  },
  {
   "cell_type": "code",
   "execution_count": 170,
   "metadata": {
    "collapsed": true
   },
   "outputs": [],
   "source": [
    "elkeys = park_data.keys()"
   ]
  },
  {
   "cell_type": "code",
   "execution_count": 128,
   "metadata": {},
   "outputs": [
    {
     "data": {
      "text/plain": [
       "array([  6.,   3.,   0.,  11.,   8.,   7.,   9.,   4.,  15.,  13.,  10.,\n",
       "        16.,  19.,   5.,  12.,  22.,   2.,  14.,   1.,  17.,  20.])"
      ]
     },
     "execution_count": 128,
     "metadata": {},
     "output_type": "execute_result"
    }
   ],
   "source": [
    "blocks = pd.read_csv(os.path.join(data_path, 'Blockface.csv'))\n",
    "blocks = blocks.loc[blocks['PaidParkingArea'] == 'Belltown']\n",
    "blocks.ParkingSpaces.unique()"
   ]
  },
  {
   "cell_type": "code",
   "execution_count": 131,
   "metadata": {},
   "outputs": [],
   "source": [
    "check = pd.read_csv(os.path.join(data_path, 'Blockface.csv'))"
   ]
  },
  {
   "cell_type": "code",
   "execution_count": 133,
   "metadata": {},
   "outputs": [
    {
     "data": {
      "text/plain": [
       "array(['Green Lake', 'Fremont', 'Uptown Triangle', 'Belltown', nan,\n",
       "       'Ballard', 'University District', 'Uptown', 'Westlake Ave N',\n",
       "       'Denny Triangle', 'Pike-Pine', 'Pioneer Square', 'Commercial Core',\n",
       "       'Cherry Hill', '12th Avenue', 'Capitol Hill', 'Chinatown/ID',\n",
       "       'South Lake Union', 'First Hill', 'Roosevelt', 'Ballard Locks'], dtype=object)"
      ]
     },
     "execution_count": 133,
     "metadata": {},
     "output_type": "execute_result"
    }
   ],
   "source": [
    "check['PaidParkingArea'].unique()"
   ]
  },
  {
   "cell_type": "code",
   "execution_count": 137,
   "metadata": {},
   "outputs": [],
   "source": [
    "df = pd.read_csv(os.path.join(data_path, 'pay_station.csv'))\n",
    "df = df.loc[df['PAIDAREA'] == 'Belltown']"
   ]
  },
  {
   "cell_type": "code",
   "execution_count": 138,
   "metadata": {},
   "outputs": [],
   "source": [
    "col = {df.columns.tolist()[i]:i for i in xrange(len(df.columns.tolist()))}"
   ]
  },
  {
   "cell_type": "code",
   "execution_count": 140,
   "metadata": {},
   "outputs": [],
   "source": [
    "df_important = df[['ELMNTKEY', 'PAIDAREA', 'SUBAREA', 'WKD_RATE1', 'WKD_START1', 'WKD_END1', \n",
    "                   'WKD_RATE2', 'WKD_START2', 'WKD_END2', 'WKD_RATE3', 'WKD_START3', 'WKD_END3', \n",
    "                   'SAT_RATE1', 'SAT_START1', 'SAT_END1', 'SAT_RATE2', 'SAT_START2', 'SAT_END2', \n",
    "                   'SAT_RATE3', 'SAT_START3', 'SAT_END3', 'START_TIME_WKD', 'END_TIME_WKD', \n",
    "                   'START_TIME_SAT', 'END_TIME_SAT', 'SHAPE_LAT', 'SHAPE_LNG']]"
   ]
  },
  {
   "cell_type": "code",
   "execution_count": 181,
   "metadata": {},
   "outputs": [
    {
     "data": {
      "text/plain": [
       "['South', 'North']"
      ]
     },
     "execution_count": 181,
     "metadata": {},
     "output_type": "execute_result"
    }
   ],
   "source": [
    "df_important['SUBAREA'].unique().tolist()"
   ]
  },
  {
   "cell_type": "code",
   "execution_count": 141,
   "metadata": {},
   "outputs": [],
   "source": [
    "df_north = df_important[df_important['SUBAREA'] == 'North']\n",
    "df_south = df_important.loc[df_important['SUBAREA'] == 'South']"
   ]
  },
  {
   "cell_type": "code",
   "execution_count": 142,
   "metadata": {},
   "outputs": [
    {
     "data": {
      "text/html": [
       "<div>\n",
       "<table border=\"1\" class=\"dataframe\">\n",
       "  <thead>\n",
       "    <tr style=\"text-align: right;\">\n",
       "      <th></th>\n",
       "      <th>OBJECTID</th>\n",
       "      <th>Shape</th>\n",
       "      <th>COMPKEY</th>\n",
       "      <th>ELMNTKEY</th>\n",
       "      <th>COMPTYPE</th>\n",
       "      <th>SEGKEY</th>\n",
       "      <th>DISTANCE</th>\n",
       "      <th>WIDTH</th>\n",
       "      <th>UNITID</th>\n",
       "      <th>UNITTYPE</th>\n",
       "      <th>...</th>\n",
       "      <th>SUN_END3</th>\n",
       "      <th>START_TIME_WKD</th>\n",
       "      <th>END_TIME_WKD</th>\n",
       "      <th>START_TIME_SAT</th>\n",
       "      <th>END_TIME_SAT</th>\n",
       "      <th>START_TIME_SUN</th>\n",
       "      <th>END_TIME_SUN</th>\n",
       "      <th>PEAK_HOUR</th>\n",
       "      <th>SHAPE_LNG</th>\n",
       "      <th>SHAPE_LAT</th>\n",
       "    </tr>\n",
       "  </thead>\n",
       "  <tbody>\n",
       "    <tr>\n",
       "      <th>6</th>\n",
       "      <td>7</td>\n",
       "      <td>(47.61202450600007, -122.34154800899995)</td>\n",
       "      <td>529576</td>\n",
       "      <td>35909</td>\n",
       "      <td>109</td>\n",
       "      <td>13311</td>\n",
       "      <td>113.5</td>\n",
       "      <td>32.0</td>\n",
       "      <td>PSL-J072</td>\n",
       "      <td>PSL</td>\n",
       "      <td>...</td>\n",
       "      <td>NaN</td>\n",
       "      <td>08AM</td>\n",
       "      <td>08PM</td>\n",
       "      <td>08AM</td>\n",
       "      <td>08PM</td>\n",
       "      <td>NaN</td>\n",
       "      <td>NaN</td>\n",
       "      <td>NaN</td>\n",
       "      <td>-122.341548</td>\n",
       "      <td>47.612025</td>\n",
       "    </tr>\n",
       "    <tr>\n",
       "      <th>17</th>\n",
       "      <td>18</td>\n",
       "      <td>(47.613484723000056, -122.33965395099995)</td>\n",
       "      <td>529626</td>\n",
       "      <td>13305</td>\n",
       "      <td>109</td>\n",
       "      <td>13313</td>\n",
       "      <td>178.0</td>\n",
       "      <td>31.0</td>\n",
       "      <td>PSL-J032</td>\n",
       "      <td>PSL</td>\n",
       "      <td>...</td>\n",
       "      <td>NaN</td>\n",
       "      <td>08AM</td>\n",
       "      <td>08PM</td>\n",
       "      <td>08AM</td>\n",
       "      <td>08PM</td>\n",
       "      <td>NaN</td>\n",
       "      <td>NaN</td>\n",
       "      <td>NaN</td>\n",
       "      <td>-122.339654</td>\n",
       "      <td>47.613485</td>\n",
       "    </tr>\n",
       "    <tr>\n",
       "      <th>19</th>\n",
       "      <td>20</td>\n",
       "      <td>(47.61302384900006, -122.34809164499995)</td>\n",
       "      <td>573950</td>\n",
       "      <td>13521</td>\n",
       "      <td>109</td>\n",
       "      <td>13509</td>\n",
       "      <td>209.0</td>\n",
       "      <td>29.0</td>\n",
       "      <td>PSL-B157</td>\n",
       "      <td>PSL</td>\n",
       "      <td>...</td>\n",
       "      <td>NaN</td>\n",
       "      <td>08AM</td>\n",
       "      <td>08PM</td>\n",
       "      <td>08AM</td>\n",
       "      <td>08PM</td>\n",
       "      <td>NaN</td>\n",
       "      <td>NaN</td>\n",
       "      <td>NaN</td>\n",
       "      <td>-122.348092</td>\n",
       "      <td>47.613024</td>\n",
       "    </tr>\n",
       "    <tr>\n",
       "      <th>29</th>\n",
       "      <td>30</td>\n",
       "      <td>(47.61511158300004, -122.34834377799996)</td>\n",
       "      <td>282382</td>\n",
       "      <td>13345</td>\n",
       "      <td>109</td>\n",
       "      <td>13355</td>\n",
       "      <td>180.0</td>\n",
       "      <td>25.0</td>\n",
       "      <td>PSL-J273</td>\n",
       "      <td>PSL</td>\n",
       "      <td>...</td>\n",
       "      <td>NaN</td>\n",
       "      <td>08AM</td>\n",
       "      <td>08PM</td>\n",
       "      <td>08AM</td>\n",
       "      <td>08PM</td>\n",
       "      <td>NaN</td>\n",
       "      <td>NaN</td>\n",
       "      <td>NaN</td>\n",
       "      <td>-122.348344</td>\n",
       "      <td>47.615112</td>\n",
       "    </tr>\n",
       "    <tr>\n",
       "      <th>47</th>\n",
       "      <td>48</td>\n",
       "      <td>(47.61789829700007, -122.34841041399994)</td>\n",
       "      <td>282134</td>\n",
       "      <td>28961</td>\n",
       "      <td>109</td>\n",
       "      <td>6144</td>\n",
       "      <td>94.0</td>\n",
       "      <td>32.0</td>\n",
       "      <td>PSL-J254</td>\n",
       "      <td>PSL</td>\n",
       "      <td>...</td>\n",
       "      <td>NaN</td>\n",
       "      <td>08AM</td>\n",
       "      <td>08PM</td>\n",
       "      <td>08AM</td>\n",
       "      <td>08PM</td>\n",
       "      <td>NaN</td>\n",
       "      <td>NaN</td>\n",
       "      <td>NaN</td>\n",
       "      <td>-122.348410</td>\n",
       "      <td>47.617898</td>\n",
       "    </tr>\n",
       "  </tbody>\n",
       "</table>\n",
       "<p>5 rows × 69 columns</p>\n",
       "</div>"
      ],
      "text/plain": [
       "    OBJECTID                                      Shape  COMPKEY  ELMNTKEY  \\\n",
       "6          7   (47.61202450600007, -122.34154800899995)   529576     35909   \n",
       "17        18  (47.613484723000056, -122.33965395099995)   529626     13305   \n",
       "19        20   (47.61302384900006, -122.34809164499995)   573950     13521   \n",
       "29        30   (47.61511158300004, -122.34834377799996)   282382     13345   \n",
       "47        48   (47.61789829700007, -122.34841041399994)   282134     28961   \n",
       "\n",
       "    COMPTYPE  SEGKEY  DISTANCE  WIDTH    UNITID UNITTYPE    ...     SUN_END3  \\\n",
       "6        109   13311     113.5   32.0  PSL-J072      PSL    ...          NaN   \n",
       "17       109   13313     178.0   31.0  PSL-J032      PSL    ...          NaN   \n",
       "19       109   13509     209.0   29.0  PSL-B157      PSL    ...          NaN   \n",
       "29       109   13355     180.0   25.0  PSL-J273      PSL    ...          NaN   \n",
       "47       109    6144      94.0   32.0  PSL-J254      PSL    ...          NaN   \n",
       "\n",
       "    START_TIME_WKD END_TIME_WKD  START_TIME_SAT  END_TIME_SAT START_TIME_SUN  \\\n",
       "6             08AM         08PM            08AM          08PM            NaN   \n",
       "17            08AM         08PM            08AM          08PM            NaN   \n",
       "19            08AM         08PM            08AM          08PM            NaN   \n",
       "29            08AM         08PM            08AM          08PM            NaN   \n",
       "47            08AM         08PM            08AM          08PM            NaN   \n",
       "\n",
       "   END_TIME_SUN PEAK_HOUR   SHAPE_LNG  SHAPE_LAT  \n",
       "6           NaN       NaN -122.341548  47.612025  \n",
       "17          NaN       NaN -122.339654  47.613485  \n",
       "19          NaN       NaN -122.348092  47.613024  \n",
       "29          NaN       NaN -122.348344  47.615112  \n",
       "47          NaN       NaN -122.348410  47.617898  \n",
       "\n",
       "[5 rows x 69 columns]"
      ]
     },
     "execution_count": 142,
     "metadata": {},
     "output_type": "execute_result"
    }
   ],
   "source": [
    "df.head()"
   ]
  },
  {
   "cell_type": "markdown",
   "metadata": {},
   "source": [
    "# Times for Paid Parking"
   ]
  },
  {
   "cell_type": "code",
   "execution_count": 145,
   "metadata": {},
   "outputs": [
    {
     "name": "stdout",
     "output_type": "stream",
     "text": [
      "North Times\n",
      "\n",
      "Start time on weekdays ['08AM']\n",
      "End time on weekdays ['08PM']\n",
      "Start time on saturdays ['08AM']\n",
      "End time on saturdays ['08PM']\n",
      "\n",
      "South Times\n",
      "\n",
      "Start time on weekdays ['08AM']\n",
      "End time on weekdays ['08PM']\n",
      "Start time on saturdays ['08AM']\n",
      "End time on saturdays ['08PM']\n"
     ]
    }
   ],
   "source": [
    "print 'North Times\\n'\n",
    "print 'Start time on weekdays', df_north['START_TIME_WKD'].unique().tolist()\n",
    "print 'End time on weekdays', df_north['END_TIME_WKD'].unique().tolist()\n",
    "print 'Start time on saturdays', df_north['START_TIME_SAT'].unique().tolist()\n",
    "print 'End time on saturdays', df_north['END_TIME_SAT'].unique().tolist()\n",
    "\n",
    "print '\\nSouth Times\\n'\n",
    "print 'Start time on weekdays', df_south['START_TIME_WKD'].unique().tolist()\n",
    "print 'End time on weekdays', df_south['END_TIME_WKD'].unique().tolist()\n",
    "print 'Start time on saturdays', df_south['START_TIME_SAT'].unique().tolist()\n",
    "print 'End time on saturdays', df_south['END_TIME_SAT'].unique().tolist()"
   ]
  },
  {
   "cell_type": "markdown",
   "metadata": {},
   "source": [
    "# Rate Intervals"
   ]
  },
  {
   "cell_type": "code",
   "execution_count": 146,
   "metadata": {},
   "outputs": [
    {
     "name": "stdout",
     "output_type": "stream",
     "text": [
      "North Rate Intervals\n",
      "\n",
      "\n",
      "Time 1 Start 8.0\n",
      "Time 1 End 11.0\n",
      "Price 1 [ 1.]\n",
      "\n",
      "\n",
      "Time 2 Start 11.0\n",
      "Time 2 End 17.0\n",
      "Price 2 [1.5]\n",
      "\n",
      "\n",
      "Time 3 Start 17.0\n",
      "Time 3 End 20.0\n",
      "Price 3 [1.5]\n",
      "\n",
      "\n",
      "South Rate Intervals\n",
      "\n",
      "\n",
      "Time 1 Start 8.0\n",
      "Time 1 End 11.0\n",
      "Price 1 [ 2.5]\n",
      "\n",
      "\n",
      "Time 2 Start 11.0\n",
      "Time 2 End 17.0\n",
      "Price 2 [2.5]\n",
      "\n",
      "\n",
      "Time 3 Start 17.0\n",
      "Time 3 End 20.0\n",
      "Price 3 [2.5]\n",
      "\n",
      "\n"
     ]
    }
   ],
   "source": [
    "print 'North Rate Intervals\\n\\n'\n",
    "print 'Time 1 Start', round(df_north['WKD_START1'].unique()/60.)\n",
    "print 'Time 1 End', round(df_north['WKD_END1'].unique()/60.)\n",
    "print 'Price 1', df_north['WKD_RATE1'].unique()\n",
    "print '\\n'\n",
    "\n",
    "print 'Time 2 Start', round(df_north['WKD_START2'].unique()/60.)\n",
    "print 'Time 2 End', round(df_north['WKD_END2'].unique()/60.)\n",
    "print 'Price 2', df_north['WKD_RATE2'].unique().tolist()\n",
    "print '\\n'\n",
    "\n",
    "print 'Time 3 Start', round(df_north['WKD_START3'].unique()/60.)\n",
    "print 'Time 3 End', round(df_north['WKD_END3'].unique()/60.)\n",
    "print 'Price 3', df_north['WKD_RATE3'].unique().tolist()\n",
    "print '\\n'\n",
    "\n",
    "print 'South Rate Intervals\\n\\n'\n",
    "print 'Time 1 Start', round(df_south['WKD_START1'].unique()/60.)\n",
    "print 'Time 1 End', round(df_south['WKD_END1'].unique()/60.)\n",
    "print 'Price 1', df_south['WKD_RATE1'].unique()\n",
    "print '\\n'\n",
    "\n",
    "print 'Time 2 Start', round(df_south['WKD_START2'].unique()/60.)\n",
    "print 'Time 2 End', round(df_south['WKD_END2'].unique()/60.)\n",
    "print 'Price 2', df_south['WKD_RATE2'].unique().tolist()\n",
    "print '\\n'\n",
    "\n",
    "print 'Time 3 Start', round(df_south['WKD_START3'].unique()/60.)\n",
    "print 'Time 3 End', round(df_south['WKD_END3'].unique()/60.)\n",
    "print 'Price 3', df_south['WKD_RATE3'].unique().tolist()\n",
    "print '\\n'"
   ]
  },
  {
   "cell_type": "code",
   "execution_count": 147,
   "metadata": {},
   "outputs": [],
   "source": [
    "north_keys = df_north['ELMNTKEY'].values\n",
    "south_keys = df_south['ELMNTKEY'].values"
   ]
  },
  {
   "cell_type": "code",
   "execution_count": 148,
   "metadata": {},
   "outputs": [],
   "source": [
    "params = utils.load_data(data_path)\n",
    "gps_loc, avg_loads, park_data, N, P, idx_to_day_hour, day_hour_to_idx = params\n",
    "new_park_data = utils.load_daily_data(park_data)"
   ]
  },
  {
   "cell_type": "code",
   "execution_count": 150,
   "metadata": {},
   "outputs": [
    {
     "data": {
      "text/html": [
       "<div>\n",
       "<table border=\"1\" class=\"dataframe\">\n",
       "  <thead>\n",
       "    <tr style=\"text-align: right;\">\n",
       "      <th></th>\n",
       "      <th></th>\n",
       "      <th>Load</th>\n",
       "      <th>Date</th>\n",
       "      <th>Hour</th>\n",
       "      <th>Day</th>\n",
       "    </tr>\n",
       "    <tr>\n",
       "      <th>Datetime</th>\n",
       "      <th>ID</th>\n",
       "      <th></th>\n",
       "      <th></th>\n",
       "      <th></th>\n",
       "      <th></th>\n",
       "    </tr>\n",
       "  </thead>\n",
       "  <tbody>\n",
       "    <tr>\n",
       "      <th rowspan=\"30\" valign=\"top\">2016-03-01 08:00:00</th>\n",
       "      <th>1017</th>\n",
       "      <td>0.000000</td>\n",
       "      <td>2016-03-01</td>\n",
       "      <td>8</td>\n",
       "      <td>1</td>\n",
       "    </tr>\n",
       "    <tr>\n",
       "      <th>1018</th>\n",
       "      <td>0.000000</td>\n",
       "      <td>2016-03-01</td>\n",
       "      <td>8</td>\n",
       "      <td>1</td>\n",
       "    </tr>\n",
       "    <tr>\n",
       "      <th>1021</th>\n",
       "      <td>0.031389</td>\n",
       "      <td>2016-03-01</td>\n",
       "      <td>8</td>\n",
       "      <td>1</td>\n",
       "    </tr>\n",
       "    <tr>\n",
       "      <th>1022</th>\n",
       "      <td>0.285833</td>\n",
       "      <td>2016-03-01</td>\n",
       "      <td>8</td>\n",
       "      <td>1</td>\n",
       "    </tr>\n",
       "    <tr>\n",
       "      <th>1025</th>\n",
       "      <td>0.552407</td>\n",
       "      <td>2016-03-01</td>\n",
       "      <td>8</td>\n",
       "      <td>1</td>\n",
       "    </tr>\n",
       "    <tr>\n",
       "      <th>1026</th>\n",
       "      <td>0.258437</td>\n",
       "      <td>2016-03-01</td>\n",
       "      <td>8</td>\n",
       "      <td>1</td>\n",
       "    </tr>\n",
       "    <tr>\n",
       "      <th>1029</th>\n",
       "      <td>0.093507</td>\n",
       "      <td>2016-03-01</td>\n",
       "      <td>8</td>\n",
       "      <td>1</td>\n",
       "    </tr>\n",
       "    <tr>\n",
       "      <th>1030</th>\n",
       "      <td>0.018785</td>\n",
       "      <td>2016-03-01</td>\n",
       "      <td>8</td>\n",
       "      <td>1</td>\n",
       "    </tr>\n",
       "    <tr>\n",
       "      <th>1033</th>\n",
       "      <td>0.000000</td>\n",
       "      <td>2016-03-01</td>\n",
       "      <td>8</td>\n",
       "      <td>1</td>\n",
       "    </tr>\n",
       "    <tr>\n",
       "      <th>1034</th>\n",
       "      <td>0.000000</td>\n",
       "      <td>2016-03-01</td>\n",
       "      <td>8</td>\n",
       "      <td>1</td>\n",
       "    </tr>\n",
       "    <tr>\n",
       "      <th>2781</th>\n",
       "      <td>0.473090</td>\n",
       "      <td>2016-03-01</td>\n",
       "      <td>8</td>\n",
       "      <td>1</td>\n",
       "    </tr>\n",
       "    <tr>\n",
       "      <th>2782</th>\n",
       "      <td>0.340903</td>\n",
       "      <td>2016-03-01</td>\n",
       "      <td>8</td>\n",
       "      <td>1</td>\n",
       "    </tr>\n",
       "    <tr>\n",
       "      <th>2785</th>\n",
       "      <td>0.018361</td>\n",
       "      <td>2016-03-01</td>\n",
       "      <td>8</td>\n",
       "      <td>1</td>\n",
       "    </tr>\n",
       "    <tr>\n",
       "      <th>2786</th>\n",
       "      <td>0.110056</td>\n",
       "      <td>2016-03-01</td>\n",
       "      <td>8</td>\n",
       "      <td>1</td>\n",
       "    </tr>\n",
       "    <tr>\n",
       "      <th>2789</th>\n",
       "      <td>0.215306</td>\n",
       "      <td>2016-03-01</td>\n",
       "      <td>8</td>\n",
       "      <td>1</td>\n",
       "    </tr>\n",
       "    <tr>\n",
       "      <th>2790</th>\n",
       "      <td>0.000000</td>\n",
       "      <td>2016-03-01</td>\n",
       "      <td>8</td>\n",
       "      <td>1</td>\n",
       "    </tr>\n",
       "    <tr>\n",
       "      <th>4433</th>\n",
       "      <td>0.000000</td>\n",
       "      <td>2016-03-01</td>\n",
       "      <td>8</td>\n",
       "      <td>1</td>\n",
       "    </tr>\n",
       "    <tr>\n",
       "      <th>4434</th>\n",
       "      <td>0.000093</td>\n",
       "      <td>2016-03-01</td>\n",
       "      <td>8</td>\n",
       "      <td>1</td>\n",
       "    </tr>\n",
       "    <tr>\n",
       "      <th>4437</th>\n",
       "      <td>0.125056</td>\n",
       "      <td>2016-03-01</td>\n",
       "      <td>8</td>\n",
       "      <td>1</td>\n",
       "    </tr>\n",
       "    <tr>\n",
       "      <th>4438</th>\n",
       "      <td>0.079660</td>\n",
       "      <td>2016-03-01</td>\n",
       "      <td>8</td>\n",
       "      <td>1</td>\n",
       "    </tr>\n",
       "    <tr>\n",
       "      <th>4441</th>\n",
       "      <td>0.000000</td>\n",
       "      <td>2016-03-01</td>\n",
       "      <td>8</td>\n",
       "      <td>1</td>\n",
       "    </tr>\n",
       "    <tr>\n",
       "      <th>4442</th>\n",
       "      <td>0.000000</td>\n",
       "      <td>2016-03-01</td>\n",
       "      <td>8</td>\n",
       "      <td>1</td>\n",
       "    </tr>\n",
       "    <tr>\n",
       "      <th>6197</th>\n",
       "      <td>0.292882</td>\n",
       "      <td>2016-03-01</td>\n",
       "      <td>8</td>\n",
       "      <td>1</td>\n",
       "    </tr>\n",
       "    <tr>\n",
       "      <th>6198</th>\n",
       "      <td>0.000000</td>\n",
       "      <td>2016-03-01</td>\n",
       "      <td>8</td>\n",
       "      <td>1</td>\n",
       "    </tr>\n",
       "    <tr>\n",
       "      <th>7257</th>\n",
       "      <td>0.077273</td>\n",
       "      <td>2016-03-01</td>\n",
       "      <td>8</td>\n",
       "      <td>1</td>\n",
       "    </tr>\n",
       "    <tr>\n",
       "      <th>7258</th>\n",
       "      <td>0.146239</td>\n",
       "      <td>2016-03-01</td>\n",
       "      <td>8</td>\n",
       "      <td>1</td>\n",
       "    </tr>\n",
       "    <tr>\n",
       "      <th>7261</th>\n",
       "      <td>0.113389</td>\n",
       "      <td>2016-03-01</td>\n",
       "      <td>8</td>\n",
       "      <td>1</td>\n",
       "    </tr>\n",
       "    <tr>\n",
       "      <th>7262</th>\n",
       "      <td>0.066746</td>\n",
       "      <td>2016-03-01</td>\n",
       "      <td>8</td>\n",
       "      <td>1</td>\n",
       "    </tr>\n",
       "    <tr>\n",
       "      <th>7265</th>\n",
       "      <td>0.268472</td>\n",
       "      <td>2016-03-01</td>\n",
       "      <td>8</td>\n",
       "      <td>1</td>\n",
       "    </tr>\n",
       "    <tr>\n",
       "      <th>7266</th>\n",
       "      <td>0.000000</td>\n",
       "      <td>2016-03-01</td>\n",
       "      <td>8</td>\n",
       "      <td>1</td>\n",
       "    </tr>\n",
       "    <tr>\n",
       "      <th>...</th>\n",
       "      <th>...</th>\n",
       "      <td>...</td>\n",
       "      <td>...</td>\n",
       "      <td>...</td>\n",
       "      <td>...</td>\n",
       "    </tr>\n",
       "    <tr>\n",
       "      <th rowspan=\"30\" valign=\"top\">2016-07-30 19:00:00</th>\n",
       "      <th>77222</th>\n",
       "      <td>0.400317</td>\n",
       "      <td>2016-07-30</td>\n",
       "      <td>19</td>\n",
       "      <td>5</td>\n",
       "    </tr>\n",
       "    <tr>\n",
       "      <th>77225</th>\n",
       "      <td>0.650952</td>\n",
       "      <td>2016-07-30</td>\n",
       "      <td>19</td>\n",
       "      <td>5</td>\n",
       "    </tr>\n",
       "    <tr>\n",
       "      <th>77226</th>\n",
       "      <td>0.423611</td>\n",
       "      <td>2016-07-30</td>\n",
       "      <td>19</td>\n",
       "      <td>5</td>\n",
       "    </tr>\n",
       "    <tr>\n",
       "      <th>77349</th>\n",
       "      <td>0.571429</td>\n",
       "      <td>2016-07-30</td>\n",
       "      <td>19</td>\n",
       "      <td>5</td>\n",
       "    </tr>\n",
       "    <tr>\n",
       "      <th>77569</th>\n",
       "      <td>0.520648</td>\n",
       "      <td>2016-07-30</td>\n",
       "      <td>19</td>\n",
       "      <td>5</td>\n",
       "    </tr>\n",
       "    <tr>\n",
       "      <th>77570</th>\n",
       "      <td>0.701634</td>\n",
       "      <td>2016-07-30</td>\n",
       "      <td>19</td>\n",
       "      <td>5</td>\n",
       "    </tr>\n",
       "    <tr>\n",
       "      <th>77573</th>\n",
       "      <td>0.727698</td>\n",
       "      <td>2016-07-30</td>\n",
       "      <td>19</td>\n",
       "      <td>5</td>\n",
       "    </tr>\n",
       "    <tr>\n",
       "      <th>77574</th>\n",
       "      <td>0.992798</td>\n",
       "      <td>2016-07-30</td>\n",
       "      <td>19</td>\n",
       "      <td>5</td>\n",
       "    </tr>\n",
       "    <tr>\n",
       "      <th>78041</th>\n",
       "      <td>0.742284</td>\n",
       "      <td>2016-07-30</td>\n",
       "      <td>19</td>\n",
       "      <td>5</td>\n",
       "    </tr>\n",
       "    <tr>\n",
       "      <th>78042</th>\n",
       "      <td>1.246759</td>\n",
       "      <td>2016-07-30</td>\n",
       "      <td>19</td>\n",
       "      <td>5</td>\n",
       "    </tr>\n",
       "    <tr>\n",
       "      <th>78117</th>\n",
       "      <td>0.431861</td>\n",
       "      <td>2016-07-30</td>\n",
       "      <td>19</td>\n",
       "      <td>5</td>\n",
       "    </tr>\n",
       "    <tr>\n",
       "      <th>78118</th>\n",
       "      <td>0.376389</td>\n",
       "      <td>2016-07-30</td>\n",
       "      <td>19</td>\n",
       "      <td>5</td>\n",
       "    </tr>\n",
       "    <tr>\n",
       "      <th>78122</th>\n",
       "      <td>0.526111</td>\n",
       "      <td>2016-07-30</td>\n",
       "      <td>19</td>\n",
       "      <td>5</td>\n",
       "    </tr>\n",
       "    <tr>\n",
       "      <th>79354</th>\n",
       "      <td>0.548241</td>\n",
       "      <td>2016-07-30</td>\n",
       "      <td>19</td>\n",
       "      <td>5</td>\n",
       "    </tr>\n",
       "    <tr>\n",
       "      <th>79358</th>\n",
       "      <td>0.296111</td>\n",
       "      <td>2016-07-30</td>\n",
       "      <td>19</td>\n",
       "      <td>5</td>\n",
       "    </tr>\n",
       "    <tr>\n",
       "      <th>80881</th>\n",
       "      <td>0.873750</td>\n",
       "      <td>2016-07-30</td>\n",
       "      <td>19</td>\n",
       "      <td>5</td>\n",
       "    </tr>\n",
       "    <tr>\n",
       "      <th>80882</th>\n",
       "      <td>0.249931</td>\n",
       "      <td>2016-07-30</td>\n",
       "      <td>19</td>\n",
       "      <td>5</td>\n",
       "    </tr>\n",
       "    <tr>\n",
       "      <th>81065</th>\n",
       "      <td>0.319630</td>\n",
       "      <td>2016-07-30</td>\n",
       "      <td>19</td>\n",
       "      <td>5</td>\n",
       "    </tr>\n",
       "    <tr>\n",
       "      <th>81066</th>\n",
       "      <td>1.500000</td>\n",
       "      <td>2016-07-30</td>\n",
       "      <td>19</td>\n",
       "      <td>5</td>\n",
       "    </tr>\n",
       "    <tr>\n",
       "      <th>81289</th>\n",
       "      <td>0.728889</td>\n",
       "      <td>2016-07-30</td>\n",
       "      <td>19</td>\n",
       "      <td>5</td>\n",
       "    </tr>\n",
       "    <tr>\n",
       "      <th>81290</th>\n",
       "      <td>0.510429</td>\n",
       "      <td>2016-07-30</td>\n",
       "      <td>19</td>\n",
       "      <td>5</td>\n",
       "    </tr>\n",
       "    <tr>\n",
       "      <th>81293</th>\n",
       "      <td>0.380437</td>\n",
       "      <td>2016-07-30</td>\n",
       "      <td>19</td>\n",
       "      <td>5</td>\n",
       "    </tr>\n",
       "    <tr>\n",
       "      <th>81294</th>\n",
       "      <td>1.246157</td>\n",
       "      <td>2016-07-30</td>\n",
       "      <td>19</td>\n",
       "      <td>5</td>\n",
       "    </tr>\n",
       "    <tr>\n",
       "      <th>81297</th>\n",
       "      <td>0.452346</td>\n",
       "      <td>2016-07-30</td>\n",
       "      <td>19</td>\n",
       "      <td>5</td>\n",
       "    </tr>\n",
       "    <tr>\n",
       "      <th>81342</th>\n",
       "      <td>0.199944</td>\n",
       "      <td>2016-07-30</td>\n",
       "      <td>19</td>\n",
       "      <td>5</td>\n",
       "    </tr>\n",
       "    <tr>\n",
       "      <th>81453</th>\n",
       "      <td>0.197444</td>\n",
       "      <td>2016-07-30</td>\n",
       "      <td>19</td>\n",
       "      <td>5</td>\n",
       "    </tr>\n",
       "    <tr>\n",
       "      <th>81454</th>\n",
       "      <td>0.963667</td>\n",
       "      <td>2016-07-30</td>\n",
       "      <td>19</td>\n",
       "      <td>5</td>\n",
       "    </tr>\n",
       "    <tr>\n",
       "      <th>81481</th>\n",
       "      <td>0.765234</td>\n",
       "      <td>2016-07-30</td>\n",
       "      <td>19</td>\n",
       "      <td>5</td>\n",
       "    </tr>\n",
       "    <tr>\n",
       "      <th>81482</th>\n",
       "      <td>0.494537</td>\n",
       "      <td>2016-07-30</td>\n",
       "      <td>19</td>\n",
       "      <td>5</td>\n",
       "    </tr>\n",
       "    <tr>\n",
       "      <th>121921</th>\n",
       "      <td>0.320787</td>\n",
       "      <td>2016-07-30</td>\n",
       "      <td>19</td>\n",
       "      <td>5</td>\n",
       "    </tr>\n",
       "  </tbody>\n",
       "</table>\n",
       "<p>396288 rows × 4 columns</p>\n",
       "</div>"
      ],
      "text/plain": [
       "                                Load        Date  Hour  Day\n",
       "Datetime            ID                                     \n",
       "2016-03-01 08:00:00 1017    0.000000  2016-03-01     8    1\n",
       "                    1018    0.000000  2016-03-01     8    1\n",
       "                    1021    0.031389  2016-03-01     8    1\n",
       "                    1022    0.285833  2016-03-01     8    1\n",
       "                    1025    0.552407  2016-03-01     8    1\n",
       "                    1026    0.258437  2016-03-01     8    1\n",
       "                    1029    0.093507  2016-03-01     8    1\n",
       "                    1030    0.018785  2016-03-01     8    1\n",
       "                    1033    0.000000  2016-03-01     8    1\n",
       "                    1034    0.000000  2016-03-01     8    1\n",
       "                    2781    0.473090  2016-03-01     8    1\n",
       "                    2782    0.340903  2016-03-01     8    1\n",
       "                    2785    0.018361  2016-03-01     8    1\n",
       "                    2786    0.110056  2016-03-01     8    1\n",
       "                    2789    0.215306  2016-03-01     8    1\n",
       "                    2790    0.000000  2016-03-01     8    1\n",
       "                    4433    0.000000  2016-03-01     8    1\n",
       "                    4434    0.000093  2016-03-01     8    1\n",
       "                    4437    0.125056  2016-03-01     8    1\n",
       "                    4438    0.079660  2016-03-01     8    1\n",
       "                    4441    0.000000  2016-03-01     8    1\n",
       "                    4442    0.000000  2016-03-01     8    1\n",
       "                    6197    0.292882  2016-03-01     8    1\n",
       "                    6198    0.000000  2016-03-01     8    1\n",
       "                    7257    0.077273  2016-03-01     8    1\n",
       "                    7258    0.146239  2016-03-01     8    1\n",
       "                    7261    0.113389  2016-03-01     8    1\n",
       "                    7262    0.066746  2016-03-01     8    1\n",
       "                    7265    0.268472  2016-03-01     8    1\n",
       "                    7266    0.000000  2016-03-01     8    1\n",
       "...                              ...         ...   ...  ...\n",
       "2016-07-30 19:00:00 77222   0.400317  2016-07-30    19    5\n",
       "                    77225   0.650952  2016-07-30    19    5\n",
       "                    77226   0.423611  2016-07-30    19    5\n",
       "                    77349   0.571429  2016-07-30    19    5\n",
       "                    77569   0.520648  2016-07-30    19    5\n",
       "                    77570   0.701634  2016-07-30    19    5\n",
       "                    77573   0.727698  2016-07-30    19    5\n",
       "                    77574   0.992798  2016-07-30    19    5\n",
       "                    78041   0.742284  2016-07-30    19    5\n",
       "                    78042   1.246759  2016-07-30    19    5\n",
       "                    78117   0.431861  2016-07-30    19    5\n",
       "                    78118   0.376389  2016-07-30    19    5\n",
       "                    78122   0.526111  2016-07-30    19    5\n",
       "                    79354   0.548241  2016-07-30    19    5\n",
       "                    79358   0.296111  2016-07-30    19    5\n",
       "                    80881   0.873750  2016-07-30    19    5\n",
       "                    80882   0.249931  2016-07-30    19    5\n",
       "                    81065   0.319630  2016-07-30    19    5\n",
       "                    81066   1.500000  2016-07-30    19    5\n",
       "                    81289   0.728889  2016-07-30    19    5\n",
       "                    81290   0.510429  2016-07-30    19    5\n",
       "                    81293   0.380437  2016-07-30    19    5\n",
       "                    81294   1.246157  2016-07-30    19    5\n",
       "                    81297   0.452346  2016-07-30    19    5\n",
       "                    81342   0.199944  2016-07-30    19    5\n",
       "                    81453   0.197444  2016-07-30    19    5\n",
       "                    81454   0.963667  2016-07-30    19    5\n",
       "                    81481   0.765234  2016-07-30    19    5\n",
       "                    81482   0.494537  2016-07-30    19    5\n",
       "                    121921  0.320787  2016-07-30    19    5\n",
       "\n",
       "[396288 rows x 4 columns]"
      ]
     },
     "execution_count": 150,
     "metadata": {},
     "output_type": "execute_result"
    }
   ],
   "source": [
    "new_park_data"
   ]
  },
  {
   "cell_type": "code",
   "execution_count": 175,
   "metadata": {},
   "outputs": [],
   "source": [
    "gmap = gmplot.GoogleMapPlotter(47.612676, -122.345028, 16)\n",
    "\n",
    "north = []\n",
    "south = []\n",
    "other = []\n",
    "\n",
    "for key in elkeys:\n",
    "    if key in north_keys:\n",
    "        curr_block = locations[key]\n",
    "        lat1, lat2 = curr_block[1], curr_block[-2]\n",
    "        lon1, lon2 = curr_block[0], curr_block[-3]   \n",
    "        \n",
    "        north.append(key)\n",
    "        gmap.plot([lat1, lat2], [lon1, lon2], color='navy', edge_width=4)\n",
    "    elif key in south_keys:\n",
    "        curr_block = locations[key]\n",
    "        lat1, lat2 = curr_block[1], curr_block[-2]\n",
    "        lon1, lon2 = curr_block[0], curr_block[-3]  \n",
    "        \n",
    "        south.append(key)\n",
    "        gmap.plot([lat1, lat2], [lon1, lon2], color='orangered', edge_width=4)\n",
    "    else:\n",
    "        print key\n",
    "\n",
    "    \n",
    "gmap.draw('test.html')"
   ]
  },
  {
   "cell_type": "code",
   "execution_count": null,
   "metadata": {},
   "outputs": [],
   "source": [
    "adjacency = np.zeros((len(block_keys), len(block_keys)))\n",
    "N = len(block_keys)\n",
    "\n",
    "for i in xrange(N):\n",
    "    if block_keys[i] in north:\n",
    "        zone1 = 'north'\n",
    "    elif block_keys[i] in south:\n",
    "        zone1 = 'south'\n",
    "    else:\n",
    "        print block_keys[i]\n",
    "    for j in xrange(N):\n",
    "        if i == j:\n",
    "            continue\n",
    "        \n",
    "        if block_keys[j] in north:\n",
    "            zone2 = 'north'\n",
    "        elif block_keys[j] in south:\n",
    "            zone2 = 'south'\n",
    "        else:\n",
    "            print block_keys[j]\n",
    "        \n",
    "        if zone1 == zone2:\n",
    "            adjacency[i, j] = 1\n",
    "        else:\n",
    "            pass"
   ]
  },
  {
   "cell_type": "code",
   "execution_count": null,
   "metadata": {
    "collapsed": true
   },
   "outputs": [],
   "source": [
    "fig_path = r'/Users/tfiez/Dropbox/2017Summer/tex/2018ACC/paper/figs'"
   ]
  },
  {
   "cell_type": "code",
   "execution_count": null,
   "metadata": {},
   "outputs": [],
   "source": [
    "for i in range(avg_loads.shape[1]):\n",
    "    print len(np.where(avg_loads[:, i] == 0)[0])"
   ]
  },
  {
   "cell_type": "code",
   "execution_count": null,
   "metadata": {},
   "outputs": [],
   "source": [
    "fig, ax = figure_functions.contour_plot(loads=avg_loads, gps_loc=gps_loc, time=51,\n",
    "                                        title='', N=N, filename='contour1.png',\n",
    "                                        fig_path=fig_path, contours=10)\n",
    "\n",
    "fig, ax = figure_functions.mixture_plot(loads=avg_loads, gps_loc=gps_loc, \n",
    "                                            times=[51], N=N, fig_path=fig_path, \n",
    "                                            shape=(1,1), filename='mixture1.png',\n",
    "                                            title='')\n",
    "\n",
    "plt.show()"
   ]
  },
  {
   "cell_type": "code",
   "execution_count": null,
   "metadata": {
    "collapsed": true
   },
   "outputs": [],
   "source": [
    "a = np.random.randn(3, 3)\n",
    "b = np.random.randn(3, 1)\n",
    "c = a*b"
   ]
  },
  {
   "cell_type": "code",
   "execution_count": null,
   "metadata": {},
   "outputs": [],
   "source": [
    "c"
   ]
  },
  {
   "cell_type": "code",
   "execution_count": null,
   "metadata": {
    "collapsed": true
   },
   "outputs": [],
   "source": [
    "fig, ax = figure_functions.temporal_day_plots(loads=avg_loads*100, P=P, fig_path=r'/Users/tfiez/Dropbox/2017Summer/tex/2018ACC/paper/figs')"
   ]
  },
  {
   "cell_type": "code",
   "execution_count": null,
   "metadata": {
    "collapsed": true
   },
   "outputs": [],
   "source": [
    "time=50\n",
    "time1 = 50\n",
    "time2 = 58"
   ]
  },
  {
   "cell_type": "code",
   "execution_count": null,
   "metadata": {
    "collapsed": true
   },
   "outputs": [],
   "source": [
    "len(new_park_data.loc[(new_park_data['Day'] == 4) & (new_park_data['Hour'] == 17)]['Date'].unique().tolist())"
   ]
  },
  {
   "cell_type": "code",
   "execution_count": null,
   "metadata": {
    "collapsed": true
   },
   "outputs": [],
   "source": [
    "means = pickle.load(open('means.pkl', 'rb'))"
   ]
  },
  {
   "cell_type": "code",
   "execution_count": null,
   "metadata": {
    "collapsed": true
   },
   "outputs": [],
   "source": [
    "distances, centroids = kmeans_utils.get_distances(means)\n",
    "all_time_points = kmeans_utils.get_centroid_circle_paths(distances, centroids)"
   ]
  },
  {
   "cell_type": "code",
   "execution_count": null,
   "metadata": {
    "collapsed": true
   },
   "outputs": [],
   "source": [
    "fig, ax = figure_functions.centroid_radius(centroids, all_time_points, gps_loc,\n",
    "                                           times=[time2], fig_path=fig_path, shape=(1,1))\n",
    "plt.show()\n",
    "\n",
    "fig, ax = figure_functions.centroid_plots(means, gps_loc, N, times=[time2], \n",
    "                                          fig_path=fig_path, shape=(1,1))\n",
    "plt.show()"
   ]
  },
  {
   "cell_type": "code",
   "execution_count": null,
   "metadata": {
    "collapsed": true
   },
   "outputs": [],
   "source": [
    "[round(val, 2) for val in distances[58]]"
   ]
  },
  {
   "cell_type": "code",
   "execution_count": null,
   "metadata": {
    "collapsed": true
   },
   "outputs": [],
   "source": [
    "distances, centroids = kmeans_utils.get_distances(means)"
   ]
  },
  {
   "cell_type": "code",
   "execution_count": null,
   "metadata": {
    "collapsed": true
   },
   "outputs": [],
   "source": [
    "all_time_points = kmeans_utils.get_centroid_circle_paths(distances, centroids)"
   ]
  },
  {
   "cell_type": "code",
   "execution_count": null,
   "metadata": {
    "collapsed": true
   },
   "outputs": [],
   "source": [
    "fig, ax = figure_functions.centroid_radius(centroids, all_time_points, gps_loc, times=range(6), \n",
    "                                               fig_path=fig_path, shape=(2,3))"
   ]
  },
  {
   "cell_type": "markdown",
   "metadata": {},
   "source": [
    "# Train and Test GMM"
   ]
  },
  {
   "cell_type": "code",
   "execution_count": null,
   "metadata": {
    "collapsed": true
   },
   "outputs": [],
   "source": [
    "park_data, gps_loc, N = utils.load_daily_data(data_path)"
   ]
  },
  {
   "cell_type": "code",
   "execution_count": null,
   "metadata": {
    "collapsed": true
   },
   "outputs": [],
   "source": [
    "check = np.array(sorted(park_data['Load'].values.tolist(), reverse=True))"
   ]
  },
  {
   "cell_type": "code",
   "execution_count": null,
   "metadata": {
    "collapsed": true
   },
   "outputs": [],
   "source": [
    "len(np.where(check > 1.5)[0])/float(len(check)) * 100"
   ]
  },
  {
   "cell_type": "code",
   "execution_count": null,
   "metadata": {
    "collapsed": true
   },
   "outputs": [],
   "source": [
    "pd.DataFrame(range(10), index=range(10), columns=['check'])"
   ]
  },
  {
   "cell_type": "code",
   "execution_count": null,
   "metadata": {
    "collapsed": true
   },
   "outputs": [],
   "source": [
    "results = gmm.locational_demand_analysis(park_data, gps_loc, N)"
   ]
  },
  {
   "cell_type": "code",
   "execution_count": null,
   "metadata": {
    "collapsed": true
   },
   "outputs": [],
   "source": [
    "days = [result[0] for result in results]\n",
    "hours = [result[1] for result in results]\n",
    "errors = [result[2] for result in results]\n",
    "morans_mix = [result[3] for result in results]\n",
    "morans_adj = [result[4] for result in results]\n",
    "means = [result[5] for result in results]"
   ]
  },
  {
   "cell_type": "code",
   "execution_count": null,
   "metadata": {
    "collapsed": true
   },
   "outputs": [],
   "source": [
    "scores, times = kmeans_utils.get_time_scores(means)"
   ]
  },
  {
   "cell_type": "code",
   "execution_count": null,
   "metadata": {
    "collapsed": true
   },
   "outputs": [],
   "source": [
    "best_times = {}\n",
    "best_days = {}\n",
    "for time in times:\n",
    "    day = time/12\n",
    "    hour = time%12 + 8\n",
    "    if hour not in best_times:\n",
    "        best_times[hour] = time\n",
    "    if day not in best_days and hour not in [8, 15,16,17]:\n",
    "        print day, hour\n",
    "        best_days[day] = time"
   ]
  },
  {
   "cell_type": "code",
   "execution_count": null,
   "metadata": {
    "collapsed": true
   },
   "outputs": [],
   "source": [
    "good_times = []\n",
    "\n",
    "for time in times:\n",
    "    if time % 12 + 8 in [8,9]:\n",
    "        continue\n",
    "        \n",
    "    good_times.append(time)\n",
    "    data = np.vstack((means[time]))\n",
    "    kmeans = KMeans(n_clusters=3).fit(data)\n",
    "    labels = kmeans.labels_.tolist()"
   ]
  },
  {
   "cell_type": "code",
   "execution_count": null,
   "metadata": {
    "collapsed": true
   },
   "outputs": [],
   "source": [
    "good_times = best_days.values()"
   ]
  },
  {
   "cell_type": "code",
   "execution_count": null,
   "metadata": {
    "collapsed": true
   },
   "outputs": [],
   "source": [
    "fig, ax = figure_functions.centroid_plots(means, gps_loc, N, times=good_times, fig_path=fig_path, shape=(2,3))"
   ]
  }
 ],
 "metadata": {
  "anaconda-cloud": {},
  "kernelspec": {
   "display_name": "Python [conda root]",
   "language": "python",
   "name": "conda-root-py"
  },
  "language_info": {
   "codemirror_mode": {
    "name": "ipython",
    "version": 2
   },
   "file_extension": ".py",
   "mimetype": "text/x-python",
   "name": "python",
   "nbconvert_exporter": "python",
   "pygments_lexer": "ipython2",
   "version": "2.7.12"
  }
 },
 "nbformat": 4,
 "nbformat_minor": 2
}
