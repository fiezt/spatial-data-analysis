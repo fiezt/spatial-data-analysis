{
 "cells": [
  {
   "cell_type": "code",
   "execution_count": 1,
   "metadata": {},
   "outputs": [],
   "source": [
    "import numpy as np\n",
    "import pandas as pd\n",
    "import os\n",
    "import matplotlib.pyplot as plt\n",
    "import scipy.stats as st\n",
    "import pickle\n",
    "import utils\n",
    "import moran_auto\n",
    "import gmm\n",
    "import kmeans_utils\n",
    "import figure_functions\n",
    "from sklearn.preprocessing import MinMaxScaler\n",
    "from sklearn import mixture\n",
    "from sklearn.cluster import KMeans\n",
    "import csv\n",
    "from scipy.misc import imread\n",
    "from collections import defaultdict\n",
    "from matplotlib.patches import Ellipse\n",
    "from matplotlib.patches import Polygon\n",
    "import glob\n",
    "from pandas.tseries.holiday import USFederalHolidayCalendar\n",
    "import datetime\n",
    "import gmplot\n",
    "import matplotlib.cm as cm\n",
    "import run_all"
   ]
  },
  {
   "cell_type": "code",
   "execution_count": 2,
   "metadata": {
    "collapsed": true
   },
   "outputs": [],
   "source": [
    "curr_dir = os.getcwd()\n",
    "data_path = curr_dir + '/../data'\n",
    "fig_path = curr_dir + '/../figs'\n",
    "results_path = curr_dir + '/../results'\n",
    "animation_path = curr_dir + '/../animation'\n",
    "belltown_path = data_path + '/Belltown_Hour'\n",
    "commcore_path = data_path + '/CommercialCore_Hour'\n",
    "pikepine_path = data_path + '/PikePine_Hour'\n",
    "dennytriangle_path = data_path + '/DennyTriangle_Hour'\n",
    "firsthill_path = data_path + '/FirstHill_Hour'\n",
    "raw_transaction_path = data_path + '/RawTransactionData'"
   ]
  },
  {
   "cell_type": "code",
   "execution_count": 3,
   "metadata": {
    "collapsed": true
   },
   "outputs": [],
   "source": [
    "pd.set_option('display.max_columns', None)  "
   ]
  },
  {
   "cell_type": "code",
   "execution_count": 4,
   "metadata": {
    "collapsed": true
   },
   "outputs": [],
   "source": [
    "block_info = pd.read_csv(os.path.join(data_path, 'block_info.csv'))\n",
    "block_info = block_info.loc[block_info['PaidParkingArea'] == 'Belltown']\n",
    "block_keys = block_info['ElementKey'].unique().tolist()\n",
    "\n",
    "paystation_info = pd.read_csv(os.path.join(data_path, 'paystation_info.csv'))\n",
    "paystation_info = paystation_info.loc[paystation_info['PAIDAREA'] == 'Belltown']\n",
    "pay_keys = paystation_info['ELMNTKEY'].unique().tolist()"
   ]
  },
  {
   "cell_type": "code",
   "execution_count": 5,
   "metadata": {
    "collapsed": true,
    "scrolled": true
   },
   "outputs": [],
   "source": [
    "element_keys, loads, gps_loc, park_data, N, P, idx_to_day_hour, day_hour_to_idx = utils.load_data_new(data_path, [belltown_path], verbose=False)"
   ]
  },
  {
   "cell_type": "code",
   "execution_count": 6,
   "metadata": {},
   "outputs": [],
   "source": [
    "run_all.gmm_simulations(park_data, gps_loc, times=[50,51,58], k=5, p_value=.01, fig_path=fig_path, results_path=results_path)"
   ]
  },
  {
   "cell_type": "code",
   "execution_count": null,
   "metadata": {
    "collapsed": true
   },
   "outputs": [],
   "source": [
    "time = 58\n",
    "run_all.run_figures(element_keys, loads, gps_loc, N, P, data_path, fig_path, animation_path, time)"
   ]
  },
  {
   "cell_type": "code",
   "execution_count": null,
   "metadata": {},
   "outputs": [],
   "source": [
    "results = gmm.locational_demand_analysis(park_data, gps_loc, k=5, p_value=.01)"
   ]
  },
  {
   "cell_type": "code",
   "execution_count": null,
   "metadata": {},
   "outputs": [],
   "source": [
    "paystation_info.head()"
   ]
  },
  {
   "cell_type": "code",
   "execution_count": null,
   "metadata": {
    "collapsed": true
   },
   "outputs": [],
   "source": [
    "results = gmm.locational_demand_analysis(park_data, gps_loc)\n",
    "days = [result[0] for result in results]\n",
    "hours = [result[1] for result in results]\n",
    "errors = [result[2] for result in results]\n",
    "morans_mixture = [result[3] for result in results]\n",
    "morans_adjacent = [result[4] for result in results]\n",
    "means = [result[5] for result in results]"
   ]
  }
 ],
 "metadata": {
  "anaconda-cloud": {},
  "kernelspec": {
   "display_name": "Python [conda root]",
   "language": "python",
   "name": "conda-root-py"
  },
  "language_info": {
   "codemirror_mode": {
    "name": "ipython",
    "version": 2
   },
   "file_extension": ".py",
   "mimetype": "text/x-python",
   "name": "python",
   "nbconvert_exporter": "python",
   "pygments_lexer": "ipython2",
   "version": "2.7.12"
  }
 },
 "nbformat": 4,
 "nbformat_minor": 2
}
