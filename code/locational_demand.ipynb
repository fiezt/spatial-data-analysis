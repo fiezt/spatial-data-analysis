{
 "cells": [
  {
   "cell_type": "code",
   "execution_count": 3,
   "metadata": {
    "collapsed": true
   },
   "outputs": [],
   "source": [
    "import numpy as np\n",
    "import pandas as pd\n",
    "import os\n",
    "import matplotlib.pyplot as plt\n",
    "import scipy.stats as st\n",
    "import pickle\n",
    "import utils\n",
    "import moran_auto\n",
    "import gmm\n",
    "import kmeans_utils\n",
    "import figure_functions\n",
    "from sklearn.preprocessing import MinMaxScaler\n",
    "from sklearn import mixture\n",
    "from sklearn.cluster import KMeans\n",
    "import csv\n",
    "from scipy.misc import imread\n",
    "from collections import defaultdict\n",
    "from matplotlib.patches import Ellipse\n",
    "from matplotlib.patches import Polygon\n",
    "import glob\n",
    "from pandas.tseries.holiday import USFederalHolidayCalendar\n",
    "import datetime\n",
    "import gmplot\n",
    "import matplotlib.cm as cm\n",
    "import run_all"
   ]
  },
  {
   "cell_type": "code",
   "execution_count": 4,
   "metadata": {
    "collapsed": true
   },
   "outputs": [],
   "source": [
    "curr_dir = os.getcwd()\n",
    "data_path = curr_dir + '/../data'\n",
    "fig_path = curr_dir + '/../figs'\n",
    "results_path = curr_dir + '/../results'\n",
    "animation_path = curr_dir + '/../animation'\n",
    "belltown_path = data_path + '/Belltown_Hour'\n",
    "commcore_path = data_path + '/CommercialCore_Hour'\n",
    "pikepine_path = data_path + '/PikePine_Hour'\n",
    "dennytriangle_path = data_path + '/DennyTriangle_Hour'\n",
    "firsthill_path = data_path + '/FirstHill_Hour'\n",
    "raw_transaction_path = data_path + '/RawTransactionData'"
   ]
  },
  {
   "cell_type": "code",
   "execution_count": 5,
   "metadata": {
    "collapsed": true
   },
   "outputs": [],
   "source": [
    "pd.set_option('display.max_columns', None)  "
   ]
  },
  {
   "cell_type": "code",
   "execution_count": 6,
   "metadata": {
    "collapsed": true
   },
   "outputs": [],
   "source": [
    "block_info = pd.read_csv(os.path.join(data_path, 'block_info.csv'))\n",
    "block_info = block_info.loc[block_info['PaidParkingArea'] == 'Belltown']\n",
    "block_keys = block_info['ElementKey'].unique().tolist()\n",
    "\n",
    "paystation_info = pd.read_csv(os.path.join(data_path, 'paystation_info.csv'))\n",
    "paystation_info = paystation_info.loc[paystation_info['PAIDAREA'] == 'Belltown']\n",
    "pay_keys = paystation_info['ELMNTKEY'].unique().tolist()"
   ]
  },
  {
   "cell_type": "code",
   "execution_count": 7,
   "metadata": {
    "scrolled": true
   },
   "outputs": [
    {
     "name": "stdout",
     "output_type": "stream",
     "text": [
      "Skipping block 13294 because the supply is always 0.\n",
      "Skipping block 13517 because the supply is always 0.\n",
      "Skipping block 27278 because the supply is always 0.\n",
      "Skipping block 31490 because the occupancy is always 0.\n",
      "Skipping block 32021 because the supply is always 0.\n",
      "Skipping block 32025 because the supply is always 0.\n",
      "Skipping block 32029 because the supply is always 0.\n",
      "Skipping block 49658 because the supply is always 0.\n",
      "Skipping block 54674 because the supply is always 0.\n",
      "Skipping block 58805 because the supply is always 0.\n",
      "Skipping block 68918 because the supply is always 0.\n",
      "Skipping block 70745 because the supply is always 0.\n",
      "Skipping block 70749 because the occupancy is always 0.\n",
      "Skipping block 72325 because the supply is always 0.\n",
      "Skipping block 72326 because the supply is always 0.\n",
      "Skipping block 77117 because the supply is always 0.\n",
      "Skipping block 77121 because the supply is always 0.\n",
      "Skipping block 77350 because the supply is always 0.\n",
      "Skipping block 78114 because the supply is always 0.\n"
     ]
    }
   ],
   "source": [
    "element_keys, loads, gps_loc, park_data, N, P, idx_to_day_hour, day_hour_to_idx = utils.load_data_new(data_path, [belltown_path])"
   ]
  },
  {
   "cell_type": "code",
   "execution_count": 8,
   "metadata": {
    "collapsed": true
   },
   "outputs": [],
   "source": [
    "results = gmm.locational_demand_analysis(park_data, gps_loc, N)"
   ]
  },
  {
   "cell_type": "code",
   "execution_count": 9,
   "metadata": {},
   "outputs": [
    {
     "data": {
      "text/plain": [
       "[25.44,\n",
       " 17.81,\n",
       " 11.88,\n",
       " 11.65,\n",
       " 11.13,\n",
       " 12.55,\n",
       " 14.87,\n",
       " 12.92,\n",
       " 11.58,\n",
       " 12.88,\n",
       " 12.97,\n",
       " 12.95,\n",
       " 24.94,\n",
       " 18.22,\n",
       " 15.01,\n",
       " 11.78,\n",
       " 8.99,\n",
       " 9.83,\n",
       " 11.99,\n",
       " 12.44,\n",
       " 12.84,\n",
       " 13.3,\n",
       " 12.13,\n",
       " 12.88,\n",
       " 25.38,\n",
       " 18.09,\n",
       " 10.89,\n",
       " 10.87,\n",
       " 10.7,\n",
       " 10.25,\n",
       " 13.3,\n",
       " 9.67,\n",
       " 10.49,\n",
       " 11.44,\n",
       " 12.25,\n",
       " 12.59,\n",
       " 24.43,\n",
       " 16.62,\n",
       " 11.4,\n",
       " 11.01,\n",
       " 10.56,\n",
       " 10.16,\n",
       " 12.95,\n",
       " 12.1,\n",
       " 13.98,\n",
       " 13.51,\n",
       " 13.46,\n",
       " 13.09,\n",
       " 22.73,\n",
       " 15.31,\n",
       " 9.73,\n",
       " 9.77,\n",
       " 10.07,\n",
       " 9.23,\n",
       " 13.35,\n",
       " 12.11,\n",
       " 12.18,\n",
       " 11.5,\n",
       " 11.75,\n",
       " 11.13,\n",
       " 24.62,\n",
       " 25.3,\n",
       " 17.21,\n",
       " 14.86,\n",
       " 15.27,\n",
       " 11.94,\n",
       " 15.54,\n",
       " 14.18,\n",
       " 14.8,\n",
       " 9.55,\n",
       " 10.66,\n",
       " 11.03]"
      ]
     },
     "execution_count": 9,
     "metadata": {},
     "output_type": "execute_result"
    }
   ],
   "source": [
    "results"
   ]
  },
  {
   "cell_type": "code",
   "execution_count": null,
   "metadata": {
    "collapsed": true
   },
   "outputs": [],
   "source": [
    "for row in np.array(results).reshape((6, 12)):\n",
    "    print row"
   ]
  },
  {
   "cell_type": "code",
   "execution_count": null,
   "metadata": {
    "collapsed": true
   },
   "outputs": [],
   "source": [
    "d = np.array([[ 23.48,  19.13,  14.15,   9.08,  10.93,  12.27,  13.94,  11.72,  11.59,  14.59,  13.79,  12.92],\n",
    "    [ 25.73,  18.6 ,  14.21,  12.26,   9.41,  11.05,  12.68,  13.19,  14.17,  13.33,  12.04,  12.04],\n",
    "    [ 25.15,  17.62,  11.84,   9.92,  10.56,  11.45,  13.4 ,  11.35,   9.57,  11.  ,  11.64,  14.97],\n",
    "    [ 24.67,  16.9 ,  11.27,   9.47,   9.43,  10.64,  13.16,  12.24,  14.35,  13.9 ,  13.25,  13.59],\n",
    "    [ 22.96,  13.67,   8.91,   9.49,   8.3 ,   9.73,  12.87,  12.78,  12.17,  11.61,  11.49,  11.13],\n",
    "    [ 24.96,  23.9 ,  19.16,  14.44,  13.53,  11.16,  15.79,  13.53,  13.71,  9.7  ,  9.92 ,  11.11]])"
   ]
  },
  {
   "cell_type": "code",
   "execution_count": null,
   "metadata": {
    "collapsed": true
   },
   "outputs": [],
   "source": [
    "c = np.array([[ 28.43,  17.98,   9.57,   9.55,   9.33,   8.62,  10.57,  12.54,  11.82,  12.24,  13.69,  12.48],\n",
    "[ 30.65,  18.94,  12.52,  10.92,   9.47,   8.21,  11.03,  12.81,  11.41,  11.23,  12.41,  11.34],\n",
    "[ 33.74,  18.82,   9.04,   7.7 ,   7.86,  10.35,  11.67,  11.23,  11.96,  10.71,  12.18,  13.79],\n",
    "[ 29.88,  14.44,   7.58,   8.32,   9.56,  10.  ,   9.96,  11.47,  11.54,  11.67,  12.63,  11.02],\n",
    "[ 26.84,  14.94,  10.8 ,   7.75,   9.76,   8.79,  10.77,   9.86,  11.99,  12.06,  12.89,  10.73],\n",
    "[ 35.81,  25.91,  21.16,  16.46,  14.8 ,  13.38,  14.  ,  13.74,  13.24,  11.97,  10.27,  10.3 ]])"
   ]
  },
  {
   "cell_type": "code",
   "execution_count": null,
   "metadata": {
    "collapsed": true
   },
   "outputs": [],
   "source": [
    "a = np.array([[30.51,  18.88,   9.71,   8.59,   9.09,   8.29,  10.63,  14.07,  12.16,  12.47,  12.66,  11.66],\n",
    "[ 35.27,  18.96,  12.27,  12.25,   8.64,   8.53,  10.67,  12.07,  11.82,  12.54,  11.61,  11.22],\n",
    "[ 31.88,  18.46,  10.11,   7.88,   8.38,  10.43,  11.91,  11.12,  10.49,  11.2 ,  12.64,  13.98],\n",
    "[ 30.77,  15.34,   8.62,   7.95,   9.54,   9.9 ,  10.25,  11.5 ,  11.65,  12.31,  11.82,  11.23],\n",
    "[ 29.31,  15.06,   9.54,   8.05,  10.29,   9.33,  11.36,   9.88,  11.22,  12.1 ,  13.41,  10.45],\n",
    "[ 36.23,  28.43,  20.2 ,  16.99,  12.94,  12.55,  11.2 ,  11.16,  12.23,  12.72,  10.1 ,  10.25]])"
   ]
  },
  {
   "cell_type": "code",
   "execution_count": null,
   "metadata": {
    "collapsed": true
   },
   "outputs": [],
   "source": [
    "b = np.array([[ 27.49,  16.57,  11.64,  10.52,   9.82,  10.18,  11.32,  10.43,  12.4 ,  11.52,  14.78,  13.88],\n",
    "[ 29.72,  17.32,  13.34,  11.12,   9.48,   8.43,  11.39,  11.65,  12.77,  11.8 ,  10.84,  12.6 ],\n",
    "[ 28.4 ,  16.88,  10.33,   9.05,   9.92,  10.23,  11.24,  10.17,  10.75,  10.07,  12.32,  13.53],\n",
    "[ 29.98,  13.36,   8.28,   8.93,   8.97,   8.69,  10.05,  11.47,  11.7 ,  12.23,  12.6 ,  13.01],\n",
    "[ 25.9 ,  14.95,  10.92,   9.63,   8.41,   9.24,   9.8 ,   9.16,  10.96,  11.83,  12.48,  11.58],\n",
    "[ 34.22,  26.09,  22.49,  17.16,  16.37,  16.05,  18.08,  16.41,  14.73,  12.48,  10.87,  11.98]])"
   ]
  },
  {
   "cell_type": "code",
   "execution_count": null,
   "metadata": {
    "collapsed": true
   },
   "outputs": [],
   "source": [
    "(a - d).sum()"
   ]
  },
  {
   "cell_type": "code",
   "execution_count": null,
   "metadata": {
    "collapsed": true
   },
   "outputs": [],
   "source": [
    "gps_loc_old, loads_old, park_data_old, N_old, P_old, idx_to_day_hour_old, day_hour_to_idx_old = utils.load_data(data_path)"
   ]
  },
  {
   "cell_type": "code",
   "execution_count": null,
   "metadata": {
    "collapsed": true
   },
   "outputs": [],
   "source": [
    "time = 58"
   ]
  },
  {
   "cell_type": "code",
   "execution_count": null,
   "metadata": {
    "collapsed": true
   },
   "outputs": [],
   "source": [
    "run_all.run_figures(element_keys, loads, gps_loc, N, P, data_path, fig_path, animation_path, time)"
   ]
  },
  {
   "cell_type": "code",
   "execution_count": null,
   "metadata": {
    "collapsed": true
   },
   "outputs": [],
   "source": [
    "mask_small = True\n",
    "\n",
    "time = idx_to_day_hour[0]\n",
    "day = time[0]\n",
    "hour = time[1]\n",
    "\n",
    "data_df = park_data.loc[(park_data['Day'] == day) & (park_data['Hour'] == hour)]\n",
    "block_keys = sorted(data_df.index.get_level_values(1).unique().tolist())\n",
    "\n",
    "average_accuracies = []\n",
    "centers = [] \n",
    "\n",
    "for train_time in data_df.index.get_level_values(0).unique().tolist():\n",
    "    train_data = data_df.xs(train_time, level=0)\n",
    "\n",
    "    if mask_small:\n",
    "        train_data.loc[(train_data['Load'] <= .05), 'Load'] = np.nan\n",
    "\n",
    "    train_data = train_data.dropna()\n",
    "\n",
    "    train_active_index = train_data.index.tolist()\n",
    "    train_mask = [element_keys.index(train_active_index[i]) for i in xrange(len(train_active_index))]  \n",
    "    train_to_label_map = {train_active_index[i]: i for i in xrange(len(train_active_index))}\n",
    "\n",
    "    train_loads = train_data['Load'].values.reshape((-1, 1))\n",
    "\n",
    "    train = np.hstack((train_loads, gps_loc[train_mask]))\n",
    "\n",
    "    # Saving the scaling so it can be applied to the test set as well.\n",
    "    unscaled_loads = train[:, 0]    \n",
    "    scaler = MinMaxScaler().fit(train)\n",
    "    train = scaler.transform(train)\n",
    "\n",
    "    gmm = mixture.GaussianMixture(n_init=10, n_components=4, \n",
    "                                  covariance_type='diag').fit(train)\n",
    "\n",
    "    # Scaling the mean and covariances back to GPS coordinates.\n",
    "    means = np.vstack(([(mean[1:] - scaler.min_[1:])/(scaler.scale_[1:]) for mean in gmm.means_]))\n",
    "    covs = np.dstack(([np.diag((cov[1:])/(scaler.scale_[1:]**2)) for cov in gmm.covariances_])).T\n",
    "\n",
    "    centers.append(means)\n",
    "\n",
    "    train_labels = gmm.predict(train)\n",
    "\n",
    "    accuracies = []\n",
    "\n",
    "    # For each other day of data, predict using model that was fit.\n",
    "    for test_time in data_df.index.get_level_values(0).unique().tolist():\n",
    "\n",
    "        # Skipping predicting on the time that was trained on.\n",
    "        if test_time == train_time:\n",
    "            continue\n",
    "\n",
    "        test_data = data_df.xs(test_time, level=0)\n",
    "\n",
    "        if mask_small:\n",
    "            test_data.loc[(test_data['Load'] <= .05), 'Load'] = np.nan\n",
    "\n",
    "        test_data = test_data.dropna()\n",
    "\n",
    "        test_data = test_data.loc[test_data.index.isin(train_active_index)]\n",
    "\n",
    "        test_active_index = test_data.index.tolist()\n",
    "        test_mask = [element_keys.index(test_active_index[i]) for i in xrange(len(test_active_index))]  \n",
    "\n",
    "        test_loads = test_data['Load'].values.reshape((-1, 1))\n",
    "\n",
    "        test = np.hstack((test_loads, gps_loc[test_mask]))\n",
    "\n",
    "        test = scaler.transform(test)\n",
    "\n",
    "        # Assigning labels for the test points using the model that was trained. \n",
    "        test_labels = gmm.predict(test)\n",
    "\n",
    "        correct = 0\n",
    "        incorrect = 0\n",
    "\n",
    "        for i in xrange(len(test_labels)):\n",
    "            key = test_active_index[i]\n",
    "            idx = train_to_label_map[key]\n",
    "\n",
    "            if test_labels[i] == train_labels[idx]:\n",
    "                correct += 1\n",
    "            else:\n",
    "                incorrect += 1\n",
    "\n",
    "        # A prediction is deemed correct if a block keeps the same label.\n",
    "        accuracy = correct/float(correct + incorrect)\n",
    "        accuracies.append(accuracy)\n",
    "\n",
    "        # Getting average prediction accuracy over all test sets.\n",
    "    average_accuracies.append(np.array(accuracies).mean())\n",
    "\n",
    "# Average error for the particular day and hour combination.\n",
    "#time_avg_error = round(100.0 - np.array(average_accuracies).mean() * 100, 2)"
   ]
  },
  {
   "cell_type": "code",
   "execution_count": null,
   "metadata": {
    "collapsed": true
   },
   "outputs": [],
   "source": [
    "(train_data['Load'] <= .05).values"
   ]
  },
  {
   "cell_type": "code",
   "execution_count": null,
   "metadata": {
    "collapsed": true
   },
   "outputs": [],
   "source": [
    "train_data.loc[(train_data['Load'].values <= .05), 'Load'] = np.nan"
   ]
  },
  {
   "cell_type": "code",
   "execution_count": null,
   "metadata": {
    "collapsed": true
   },
   "outputs": [],
   "source": [
    "train_data"
   ]
  },
  {
   "cell_type": "code",
   "execution_count": null,
   "metadata": {
    "collapsed": true
   },
   "outputs": [],
   "source": [
    "train_data.loc[(train_data['Load'] <= .05), 'Load'] = np.nan"
   ]
  },
  {
   "cell_type": "code",
   "execution_count": null,
   "metadata": {
    "collapsed": true
   },
   "outputs": [],
   "source": [
    "average_accuracies"
   ]
  },
  {
   "cell_type": "code",
   "execution_count": null,
   "metadata": {
    "collapsed": true
   },
   "outputs": [],
   "source": [
    "block_info.loc[block_info['ElementKey'] == 76990]"
   ]
  },
  {
   "cell_type": "code",
   "execution_count": null,
   "metadata": {
    "collapsed": true
   },
   "outputs": [],
   "source": [
    "train_active_index"
   ]
  },
  {
   "cell_type": "code",
   "execution_count": null,
   "metadata": {
    "collapsed": true
   },
   "outputs": [],
   "source": [
    "test_active_index"
   ]
  },
  {
   "cell_type": "code",
   "execution_count": null,
   "metadata": {
    "collapsed": true
   },
   "outputs": [],
   "source": [
    "check.index.isin(train_active_index)"
   ]
  },
  {
   "cell_type": "code",
   "execution_count": null,
   "metadata": {
    "collapsed": true
   },
   "outputs": [],
   "source": []
  }
 ],
 "metadata": {
  "anaconda-cloud": {},
  "kernelspec": {
   "display_name": "Python [conda root]",
   "language": "python",
   "name": "conda-root-py"
  },
  "language_info": {
   "codemirror_mode": {
    "name": "ipython",
    "version": 2
   },
   "file_extension": ".py",
   "mimetype": "text/x-python",
   "name": "python",
   "nbconvert_exporter": "python",
   "pygments_lexer": "ipython2",
   "version": "2.7.12"
  }
 },
 "nbformat": 4,
 "nbformat_minor": 2
}
