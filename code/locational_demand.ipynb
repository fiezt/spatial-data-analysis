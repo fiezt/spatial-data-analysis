{
 "cells": [
  {
   "cell_type": "code",
   "execution_count": 1,
   "metadata": {
    "collapsed": true
   },
   "outputs": [],
   "source": [
    "import numpy as np\n",
    "import pandas as pd\n",
    "import os\n",
    "import matplotlib.pyplot as plt\n",
    "import scipy.stats as st\n",
    "import pickle\n",
    "import utils\n",
    "import moran_auto\n",
    "import gmm\n",
    "import kmeans_utils\n",
    "import figure_functions\n",
    "from sklearn.preprocessing import MinMaxScaler\n",
    "from sklearn import mixture\n",
    "from sklearn.cluster import KMeans\n",
    "import csv\n",
    "from scipy.misc import imread\n",
    "from collections import defaultdict\n",
    "from matplotlib.patches import Ellipse\n",
    "from matplotlib.patches import Polygon"
   ]
  },
  {
   "cell_type": "code",
   "execution_count": 2,
   "metadata": {
    "collapsed": true
   },
   "outputs": [],
   "source": [
    "curr_dir = os.getcwd()\n",
    "data_path = curr_dir + '/../data/'\n",
    "fig_path = curr_dir + '/../figs/'\n",
    "results_path = curr_dir + '/../results'\n",
    "animation_path = curr_dir + '/../animation'"
   ]
  },
  {
   "cell_type": "code",
   "execution_count": 3,
   "metadata": {
    "collapsed": true
   },
   "outputs": [],
   "source": [
    "park_data_new, gps_loc, N = utils.load_daily_data_standalone(data_path)"
   ]
  },
  {
   "cell_type": "code",
   "execution_count": 4,
   "metadata": {},
   "outputs": [],
   "source": [
    "results = gmm.locational_demand_analysis(park_data_new, gps_loc, N)\n",
    "\n",
    "days = [result[0] for result in results]\n",
    "hours = [result[1] for result in results]\n",
    "errors = [result[2] for result in results]\n",
    "morans_mixture = [result[3] for result in results]\n",
    "morans_adjacent = [result[4] for result in results]\n",
    "means = [result[5] for result in results]"
   ]
  },
  {
   "cell_type": "code",
   "execution_count": 20,
   "metadata": {
    "collapsed": true
   },
   "outputs": [],
   "source": [
    "distances, centroids = kmeans_utils.get_distances(means)"
   ]
  },
  {
   "cell_type": "code",
   "execution_count": 6,
   "metadata": {},
   "outputs": [],
   "source": [
    "all_time_points = kmeans_utils.get_centroid_circle_paths(distances, centroids)"
   ]
  },
  {
   "cell_type": "code",
   "execution_count": 7,
   "metadata": {},
   "outputs": [],
   "source": [
    "fig, ax = figure_functions.centroid_radius(centroids, all_time_points, gps_loc, times=range(6), \n",
    "                                               fig_path=fig_path, shape=(2,3))"
   ]
  },
  {
   "cell_type": "markdown",
   "metadata": {},
   "source": [
    "# Train and Test GMM"
   ]
  },
  {
   "cell_type": "code",
   "execution_count": null,
   "metadata": {
    "collapsed": true
   },
   "outputs": [],
   "source": [
    "park_data, gps_loc, N = utils.load_daily_data(data_path)"
   ]
  },
  {
   "cell_type": "code",
   "execution_count": null,
   "metadata": {
    "collapsed": true
   },
   "outputs": [],
   "source": [
    "check = np.array(sorted(park_data['Load'].values.tolist(), reverse=True))"
   ]
  },
  {
   "cell_type": "code",
   "execution_count": null,
   "metadata": {
    "collapsed": true
   },
   "outputs": [],
   "source": [
    "len(np.where(check > 1.5)[0])/float(len(check)) * 100"
   ]
  },
  {
   "cell_type": "code",
   "execution_count": null,
   "metadata": {
    "collapsed": true
   },
   "outputs": [],
   "source": [
    "pd.DataFrame(range(10), index=range(10), columns=['check'])"
   ]
  },
  {
   "cell_type": "code",
   "execution_count": null,
   "metadata": {
    "collapsed": true
   },
   "outputs": [],
   "source": [
    "results = gmm.locational_demand_analysis(park_data, gps_loc, N)"
   ]
  },
  {
   "cell_type": "code",
   "execution_count": null,
   "metadata": {
    "collapsed": true
   },
   "outputs": [],
   "source": [
    "days = [result[0] for result in results]\n",
    "hours = [result[1] for result in results]\n",
    "errors = [result[2] for result in results]\n",
    "morans_mix = [result[3] for result in results]\n",
    "morans_adj = [result[4] for result in results]\n",
    "means = [result[5] for result in results]"
   ]
  },
  {
   "cell_type": "code",
   "execution_count": null,
   "metadata": {
    "collapsed": true
   },
   "outputs": [],
   "source": [
    "scores, times = kmeans_utils.get_time_scores(means)"
   ]
  },
  {
   "cell_type": "code",
   "execution_count": null,
   "metadata": {
    "collapsed": true
   },
   "outputs": [],
   "source": [
    "best_times = {}\n",
    "best_days = {}\n",
    "for time in times:\n",
    "    day = time/12\n",
    "    hour = time%12 + 8\n",
    "    if hour not in best_times:\n",
    "        best_times[hour] = time\n",
    "    if day not in best_days and hour not in [8, 15,16,17]:\n",
    "        print day, hour\n",
    "        best_days[day] = time"
   ]
  },
  {
   "cell_type": "code",
   "execution_count": null,
   "metadata": {
    "collapsed": true
   },
   "outputs": [],
   "source": [
    "good_times = []\n",
    "\n",
    "for time in times:\n",
    "    if time % 12 + 8 in [8,9]:\n",
    "        continue\n",
    "        \n",
    "    good_times.append(time)\n",
    "    data = np.vstack((means[time]))\n",
    "    kmeans = KMeans(n_clusters=3).fit(data)\n",
    "    labels = kmeans.labels_.tolist()"
   ]
  },
  {
   "cell_type": "code",
   "execution_count": null,
   "metadata": {
    "collapsed": true
   },
   "outputs": [],
   "source": [
    "good_times = best_days.values()"
   ]
  },
  {
   "cell_type": "code",
   "execution_count": null,
   "metadata": {
    "collapsed": true
   },
   "outputs": [],
   "source": [
    "fig, ax = figure_functions.centroid_plots(means, gps_loc, N, times=good_times, fig_path=fig_path, shape=(2,3))"
   ]
  }
 ],
 "metadata": {
  "anaconda-cloud": {},
  "kernelspec": {
   "display_name": "Python [conda root]",
   "language": "python",
   "name": "conda-root-py"
  },
  "language_info": {
   "codemirror_mode": {
    "name": "ipython",
    "version": 2
   },
   "file_extension": ".py",
   "mimetype": "text/x-python",
   "name": "python",
   "nbconvert_exporter": "python",
   "pygments_lexer": "ipython2",
   "version": "2.7.12"
  }
 },
 "nbformat": 4,
 "nbformat_minor": 2
}
