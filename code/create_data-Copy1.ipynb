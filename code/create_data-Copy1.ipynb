{
 "cells": [
  {
   "cell_type": "code",
   "execution_count": 8,
   "metadata": {
    "collapsed": true
   },
   "outputs": [],
   "source": [
    "import numpy as np\n",
    "import pandas as pd\n",
    "import matplotlib.pyplot as plt\n",
    "import os\n",
    "import calendar\n",
    "import glob\n",
    "import datetime\n",
    "import load_sdot_utils\n",
    "import pandas as pd\n",
    "from collections import defaultdict"
   ]
  },
  {
   "cell_type": "code",
   "execution_count": 9,
   "metadata": {
    "collapsed": true
   },
   "outputs": [],
   "source": [
    "curr_path = os.getcwd()\n",
    "data_path = curr_path + '/../data'\n",
    "raw_transaction_path = data_path + '/RawTransactionData'\n",
    "belltown_path = data_path + '/Belltown_Minute'\n",
    "commcore_path = data_path + '/CommercialCore_Minute'\n",
    "pikepine_path = data_path + '/PikePine_Minute'\n",
    "firsthill_path = data_path + '/FirstHill_Minute'\n",
    "dennytriangle_path = data_path + '/DennyTriangle_Minute'"
   ]
  },
  {
   "cell_type": "code",
   "execution_count": 19,
   "metadata": {
    "collapsed": true
   },
   "outputs": [],
   "source": [
    "start_hour = 8\n",
    "end_hour = 20\n",
    "minute_interval = 60\n",
    "months_years = [(3, 2016), (4, 2016), (5, 2016), (6, 2016), (7, 2016)]\n",
    "file_paths = [belltown_path, firsthill_path, dennytriangle_path, commcore_path, pikepine_path]"
   ]
  },
  {
   "cell_type": "code",
   "execution_count": 20,
   "metadata": {},
   "outputs": [],
   "source": [
    "load_sdot_utils.aggregate_loads(start_hour, end_hour, minute_interval, months_years, file_paths)"
   ]
  },
  {
   "cell_type": "code",
   "execution_count": null,
   "metadata": {
    "collapsed": true
   },
   "outputs": [],
   "source": []
  }
 ],
 "metadata": {
  "anaconda-cloud": {},
  "kernelspec": {
   "display_name": "Python [default]",
   "language": "python",
   "name": "python2"
  },
  "language_info": {
   "codemirror_mode": {
    "name": "ipython",
    "version": 2
   },
   "file_extension": ".py",
   "mimetype": "text/x-python",
   "name": "python",
   "nbconvert_exporter": "python",
   "pygments_lexer": "ipython2",
   "version": "2.7.12"
  }
 },
 "nbformat": 4,
 "nbformat_minor": 1
}
